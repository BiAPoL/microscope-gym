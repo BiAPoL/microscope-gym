{
 "cells": [
  {
   "cell_type": "code",
   "execution_count": null,
   "id": "d942b571-9c9c-4410-b95e-8aa6d88f3c51",
   "metadata": {
    "tags": []
   },
   "outputs": [],
   "source": [
    "from magicgui import magicgui\n",
    "import napari\n",
    "from microscope_gym.microscope_adapters.mock_scope import microscope_factory"
   ]
  },
  {
   "cell_type": "code",
   "execution_count": null,
   "id": "ef1ff5b9-73f0-42f8-90a4-d3eb23d7b6c6",
   "metadata": {
    "tags": []
   },
   "outputs": [],
   "source": [
    "@magicgui\n",
    "def acquire_microscope_image() -> \"napari.types.ImageData\":\n",
    "    overview_image = imread(\"data/microtubules.tif\")\n",
    "    \n",
    "    mock_scope = microscope_factory(overview_image=overview_image, camera_height_pixels=64, camera_width_pixels=64)\n",
    "    \n",
    "    return mock_scope.acquire_image()\n",
    "\n",
    "viewer = napari.Viewer()\n",
    "viewer.window.add_dock_widget(acquire_microscope_image)"
   ]
  },
  {
   "cell_type": "code",
   "execution_count": null,
   "id": "b591d005-37a2-47dd-b937-dd45349acd3b",
   "metadata": {},
   "outputs": [],
   "source": []
  }
 ],
 "metadata": {
  "kernelspec": {
   "display_name": "Python 3 (ipykernel)",
   "language": "python",
   "name": "python3"
  },
  "language_info": {
   "codemirror_mode": {
    "name": "ipython",
    "version": 3
   },
   "file_extension": ".py",
   "mimetype": "text/x-python",
   "name": "python",
   "nbconvert_exporter": "python",
   "pygments_lexer": "ipython3",
   "version": "3.9.16"
  },
  "widgets": {
   "application/vnd.jupyter.widget-state+json": {
    "state": {},
    "version_major": 2,
    "version_minor": 0
   }
  }
 },
 "nbformat": 4,
 "nbformat_minor": 5
}
