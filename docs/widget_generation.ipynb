{
 "cells": [
  {
   "cell_type": "code",
   "execution_count": 1,
   "id": "d942b571-9c9c-4410-b95e-8aa6d88f3c51",
   "metadata": {
    "tags": []
   },
   "outputs": [],
   "source": [
    "from magicgui import magicgui\n",
    "import napari\n",
    "from microscope_gym.microscope_adapters.mock_scope import microscope_factory\n",
    "from skimage.io import imread"
   ]
  },
  {
   "cell_type": "code",
   "execution_count": 2,
   "id": "81a1277e",
   "metadata": {},
   "outputs": [],
   "source": [
    "class MicroscopeContainer:\n",
    "    microscope = microscope_factory(\n",
    "        overview_image=imread(\"data/microtubules.tif\"),\n",
    "        camera_height_pixels=64,\n",
    "        camera_width_pixels=64)\n"
   ]
  },
  {
   "cell_type": "code",
   "execution_count": 3,
   "id": "ef1ff5b9-73f0-42f8-90a4-d3eb23d7b6c6",
   "metadata": {
    "tags": []
   },
   "outputs": [],
   "source": [
    "@magicgui(call_button=\"acquire image\")\n",
    "def acquire_microscope_image() -> \"napari.types.ImageData\":\n",
    "    \n",
    "    return MicroscopeContainer.microscope.acquire_image()\n"
   ]
  },
  {
   "cell_type": "code",
   "execution_count": 8,
   "id": "a4d1c711",
   "metadata": {},
   "outputs": [],
   "source": [
    "@magicgui(auto_call=True, x={\"widget_type\": \"FloatSlider\" , \"min\": 32, \"max\": 480}, y={\"widget_type\": \"FloatSlider\" , \"min\": 32, \"max\": 480}, z={\"widget_type\": \"FloatSlider\" , \"min\": 0, \"max\": 10})\n",
    "def move_stage(x: float, y: float, z: float) -> \"napari.types.ImageData\":\n",
    "    MicroscopeContainer.microscope.move_stage_to(absolute_x_position_um=x, absolute_y_position_um=y, absolute_z_position_um=z)\n",
    "    return MicroscopeContainer.microscope.acquire_image()\n"
   ]
  },
  {
   "cell_type": "code",
   "execution_count": 5,
   "id": "64677f15",
   "metadata": {},
   "outputs": [
    {
     "data": {
      "text/plain": [
       "<napari._qt.widgets.qt_viewer_dock_widget.QtViewerDockWidget at 0x29d450700>"
      ]
     },
     "execution_count": 5,
     "metadata": {},
     "output_type": "execute_result"
    }
   ],
   "source": [
    "\n",
    "viewer = napari.Viewer()\n",
    "# viewer.window.add_dock_widget(acquire_microscopeb_image)\n",
    "viewer.window.add_dock_widget(move_stage)"
   ]
  },
  {
   "cell_type": "code",
   "execution_count": null,
   "id": "1fb585bb",
   "metadata": {},
   "outputs": [],
   "source": []
  }
 ],
 "metadata": {
  "kernelspec": {
   "display_name": "Python 3 (ipykernel)",
   "language": "python",
   "name": "python3"
  },
  "language_info": {
   "codemirror_mode": {
    "name": "ipython",
    "version": 3
   },
   "file_extension": ".py",
   "mimetype": "text/x-python",
   "name": "python",
   "nbconvert_exporter": "python",
   "pygments_lexer": "ipython3",
   "version": "3.9.16"
  },
  "widgets": {
   "application/vnd.jupyter.widget-state+json": {
    "state": {},
    "version_major": 2,
    "version_minor": 0
   }
  }
 },
 "nbformat": 4,
 "nbformat_minor": 5
}
