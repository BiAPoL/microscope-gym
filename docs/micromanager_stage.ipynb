{
 "cells": [
  {
   "cell_type": "code",
   "execution_count": 1,
   "metadata": {},
   "outputs": [],
   "source": [
    "from microscope_gym.microscope_adapters.micromanager import Stage\n",
    "from pymmcore_plus import CMMCorePlus, Device, find_micromanager\n",
    "from pathlib import Path"
   ]
  },
  {
   "cell_type": "code",
   "execution_count": 2,
   "metadata": {},
   "outputs": [
    {
     "data": {
      "text/plain": [
       "PosixPath('/Applications/Micro-Manager')"
      ]
     },
     "execution_count": 2,
     "metadata": {},
     "output_type": "execute_result"
    }
   ],
   "source": [
    "micromanager_path = Path(find_micromanager())\n",
    "micromanager_path"
   ]
  },
  {
   "cell_type": "code",
   "execution_count": 3,
   "metadata": {},
   "outputs": [],
   "source": [
    "config_file = 'MMConfig_demo.cfg'"
   ]
  },
  {
   "cell_type": "code",
   "execution_count": 4,
   "metadata": {},
   "outputs": [
    {
     "data": {
      "text/plain": [
       "<CMMCorePlus at 0x12452b040>"
      ]
     },
     "execution_count": 4,
     "metadata": {},
     "output_type": "execute_result"
    }
   ],
   "source": [
    "microscope_handler = CMMCorePlus().instance()\n",
    "microscope_handler"
   ]
  },
  {
   "cell_type": "code",
   "execution_count": 5,
   "metadata": {},
   "outputs": [],
   "source": [
    "microscope_handler.loadSystemConfiguration((micromanager_path / config_file))\n"
   ]
  },
  {
   "cell_type": "code",
   "execution_count": 6,
   "metadata": {},
   "outputs": [
    {
     "data": {
      "text/plain": [
       "{'Camera': {'AllowMultiROI': '0',\n",
       "  'AsyncPropertyDelayMS': '2000',\n",
       "  'AsyncPropertyFollower': '',\n",
       "  'AsyncPropertyLeader': '',\n",
       "  'Binning': '1',\n",
       "  'BitDepth': '16',\n",
       "  'CCDTemperature': '0.0000',\n",
       "  'CCDTemperature RO': '0.0000',\n",
       "  'CameraID': 'V1.0',\n",
       "  'CameraName': 'DemoCamera-MultiMode',\n",
       "  'Description': 'Demo Camera Device Adapter',\n",
       "  'DisplayImageNumber': '0',\n",
       "  'DropPixels': '0',\n",
       "  'Exposure': '10.0000',\n",
       "  'FastImage': '0',\n",
       "  'FractionOfPixelsToDropOrSaturate': '0.0020',\n",
       "  'Gain': '0',\n",
       "  'HubID': '',\n",
       "  'MaximumExposureMs': '10000.0000',\n",
       "  'Mode': 'Artificial Waves',\n",
       "  'MultiROIFillValue': '0',\n",
       "  'Name': 'DCam',\n",
       "  'Offset': '0',\n",
       "  'OnCameraCCDXSize': '512',\n",
       "  'OnCameraCCDYSize': '512',\n",
       "  'Photon Conversion Factor': '1.0000',\n",
       "  'Photon Flux': '50.0000',\n",
       "  'PixelType': '16bit',\n",
       "  'ReadNoise (electrons)': '2.5000',\n",
       "  'ReadoutTime': '0.0000',\n",
       "  'RotateImages': '0',\n",
       "  'SaturatePixels': '0',\n",
       "  'ScanMode': '1',\n",
       "  'SimulateCrash': '',\n",
       "  'StripeWidth': '1.0000',\n",
       "  'TestProperty1': '0.0000',\n",
       "  'TestProperty2': '0.0000',\n",
       "  'TestProperty3': '0.0000',\n",
       "  'TestProperty4': '0.0000',\n",
       "  'TestProperty5': '0.0000',\n",
       "  'TestProperty6': '0.0000',\n",
       "  'TransposeCorrection': '0',\n",
       "  'TransposeMirrorX': '0',\n",
       "  'TransposeMirrorY': '0',\n",
       "  'TransposeXY': '0',\n",
       "  'TriggerDevice': '',\n",
       "  'UseExposureSequences': 'No'},\n",
       " 'Dichroic': {'ClosedPosition': '0',\n",
       "  'Description': 'Demo filter wheel driver',\n",
       "  'HubID': '',\n",
       "  'Label': '400DCLP',\n",
       "  'Name': 'DWheel',\n",
       "  'State': '0'},\n",
       " 'Emission': {'ClosedPosition': '0',\n",
       "  'Description': 'Demo filter wheel driver',\n",
       "  'HubID': '',\n",
       "  'Label': 'Chroma-HQ620',\n",
       "  'Name': 'DWheel',\n",
       "  'State': '0'},\n",
       " 'Excitation': {'ClosedPosition': '0',\n",
       "  'Description': 'Demo filter wheel driver',\n",
       "  'HubID': '',\n",
       "  'Label': 'Chroma-D360',\n",
       "  'Name': 'DWheel',\n",
       "  'State': '0'},\n",
       " 'Objective': {'Description': 'Demo objective turret driver',\n",
       "  'HubID': '',\n",
       "  'Label': 'Nikon 10X S Fluor',\n",
       "  'Name': 'DObjective',\n",
       "  'State': '1',\n",
       "  'Trigger': '-'},\n",
       " 'Z': {'Description': 'Demo stage driver',\n",
       "  'HubID': '',\n",
       "  'Name': 'DStage',\n",
       "  'Position': '0.0000',\n",
       "  'UseSequences': 'No'},\n",
       " 'Path': {'Description': 'Demo light-path driver',\n",
       "  'HubID': '',\n",
       "  'Label': 'State-0',\n",
       "  'Name': 'DLightPath',\n",
       "  'State': '0'},\n",
       " 'XY': {'Description': 'Demo XY stage driver',\n",
       "  'HubID': '',\n",
       "  'Name': 'DXYStage',\n",
       "  'TransposeMirrorX': '0',\n",
       "  'TransposeMirrorY': '0'},\n",
       " 'White Light Shutter': {'Description': 'Demo shutter driver',\n",
       "  'HubID': '',\n",
       "  'Name': 'DShutter',\n",
       "  'State': '1'},\n",
       " 'Autofocus': {'Description': 'Demo auto-focus adapter',\n",
       "  'HubID': '',\n",
       "  'Name': 'DAutoFocus'},\n",
       " 'LED': {'ClosedPosition': '0',\n",
       "  'Description': 'Demo state device driver',\n",
       "  'HubID': '',\n",
       "  'Label': 'Closed',\n",
       "  'Name': 'DStateDevice',\n",
       "  'Number of positions': '10',\n",
       "  'Sequence': 'Off',\n",
       "  'State': '0'},\n",
       " 'LED Shutter': {'Description': 'State device that is used as a shutter',\n",
       "  'Name': 'State Device Shutter',\n",
       "  'State Device': 'LED'},\n",
       " 'Core': {'AutoFocus': 'Autofocus',\n",
       "  'AutoShutter': '1',\n",
       "  'Camera': 'Camera',\n",
       "  'ChannelGroup': 'Channel',\n",
       "  'Focus': 'Z',\n",
       "  'Galvo': '',\n",
       "  'ImageProcessor': '',\n",
       "  'Initialize': '1',\n",
       "  'SLM': '',\n",
       "  'Shutter': 'White Light Shutter',\n",
       "  'TimeoutMs': '5000',\n",
       "  'XYStage': 'XY'}}"
      ]
     },
     "execution_count": 6,
     "metadata": {},
     "output_type": "execute_result"
    }
   ],
   "source": [
    "configuration = microscope_handler.getSystemState()\n",
    "configuration.dict()"
   ]
  },
  {
   "cell_type": "code",
   "execution_count": 7,
   "metadata": {},
   "outputs": [
    {
     "data": {
      "text/plain": [
       "'XY'"
      ]
     },
     "execution_count": 7,
     "metadata": {},
     "output_type": "execute_result"
    }
   ],
   "source": [
    "microscope_handler.getXYStageDevice()"
   ]
  },
  {
   "cell_type": "code",
   "execution_count": 8,
   "metadata": {},
   "outputs": [
    {
     "data": {
      "text/plain": [
       "<Device 'XY' (DemoCamera::DXYStage) on CMMCorePlus at 0x12452b040: 5 properties>"
      ]
     },
     "execution_count": 8,
     "metadata": {},
     "output_type": "execute_result"
    }
   ],
   "source": [
    "stage_device = Device(microscope_handler.getXYStageDevice(), microscope_handler)\n",
    "stage_device"
   ]
  },
  {
   "cell_type": "code",
   "execution_count": 9,
   "metadata": {},
   "outputs": [
    {
     "data": {
      "text/plain": [
       "<Device 'Z' (DemoCamera::DStage) on CMMCorePlus at 0x12452b040: 5 properties>"
      ]
     },
     "execution_count": 9,
     "metadata": {},
     "output_type": "execute_result"
    }
   ],
   "source": [
    "focus_device = Device(microscope_handler.getFocusDevice(), microscope_handler) # Z stage in microscope gym, we don't care about the difference between XY and Z\n",
    "focus_device"
   ]
  },
  {
   "cell_type": "code",
   "execution_count": 10,
   "metadata": {},
   "outputs": [
    {
     "data": {
      "text/plain": [
       "{'title': 'DXYStage',\n",
       " 'description': 'Demo XY stage',\n",
       " 'type': 'object',\n",
       " 'properties': {'Description': {'type': 'string',\n",
       "   'readOnly': True,\n",
       "   'default': 'Demo XY stage driver'},\n",
       "  'HubID': {'type': 'string', 'readOnly': True, 'default': ''},\n",
       "  'Name': {'type': 'string', 'readOnly': True, 'default': 'DXYStage'},\n",
       "  'TransposeMirrorX': {'type': 'boolean'},\n",
       "  'TransposeMirrorY': {'type': 'boolean'}}}"
      ]
     },
     "execution_count": 10,
     "metadata": {},
     "output_type": "execute_result"
    }
   ],
   "source": [
    "stage_device.schema()"
   ]
  },
  {
   "cell_type": "code",
   "execution_count": 11,
   "metadata": {},
   "outputs": [
    {
     "data": {
      "text/plain": [
       "{'title': 'DStage',\n",
       " 'description': 'Demo stage',\n",
       " 'type': 'object',\n",
       " 'properties': {'Description': {'type': 'string',\n",
       "   'readOnly': True,\n",
       "   'default': 'Demo stage driver'},\n",
       "  'HubID': {'type': 'string', 'readOnly': True, 'default': ''},\n",
       "  'Name': {'type': 'string', 'readOnly': True, 'default': 'DStage'},\n",
       "  'Position': {'type': 'number'},\n",
       "  'UseSequences': {'type': 'string', 'enum': ['No', 'Yes']}}}"
      ]
     },
     "execution_count": 11,
     "metadata": {},
     "output_type": "execute_result"
    }
   ],
   "source": [
    "focus_device.schema()"
   ]
  },
  {
   "cell_type": "code",
   "execution_count": 12,
   "metadata": {},
   "outputs": [
    {
     "data": {
      "text/plain": [
       "[-0.0, -0.0]"
      ]
     },
     "execution_count": 12,
     "metadata": {},
     "output_type": "execute_result"
    }
   ],
   "source": [
    "microscope_handler.getXYPosition()"
   ]
  },
  {
   "cell_type": "code",
   "execution_count": 13,
   "metadata": {},
   "outputs": [],
   "source": [
    "microscope_handler.setXYPosition(1, 1)"
   ]
  },
  {
   "cell_type": "code",
   "execution_count": 14,
   "metadata": {},
   "outputs": [
    {
     "data": {
      "text/plain": [
       "[1.005, 1.005]"
      ]
     },
     "execution_count": 14,
     "metadata": {},
     "output_type": "execute_result"
    }
   ],
   "source": [
    "microscope_handler.getXYPosition()"
   ]
  },
  {
   "cell_type": "code",
   "execution_count": 15,
   "metadata": {},
   "outputs": [
    {
     "data": {
      "text/plain": [
       "0.0"
      ]
     },
     "execution_count": 15,
     "metadata": {},
     "output_type": "execute_result"
    }
   ],
   "source": [
    "microscope_handler.getZPosition()"
   ]
  },
  {
   "cell_type": "code",
   "execution_count": 16,
   "metadata": {},
   "outputs": [],
   "source": [
    "microscope_handler.setZPosition(5)"
   ]
  },
  {
   "cell_type": "code",
   "execution_count": 17,
   "metadata": {},
   "outputs": [
    {
     "data": {
      "text/plain": [
       "5.0"
      ]
     },
     "execution_count": 17,
     "metadata": {},
     "output_type": "execute_result"
    }
   ],
   "source": [
    "microscope_handler.getZPosition()"
   ]
  },
  {
   "cell_type": "code",
   "execution_count": 18,
   "metadata": {},
   "outputs": [
    {
     "data": {
      "text/plain": [
       "1.005"
      ]
     },
     "execution_count": 18,
     "metadata": {},
     "output_type": "execute_result"
    }
   ],
   "source": [
    "microscope_handler.getXPosition()"
   ]
  },
  {
   "cell_type": "code",
   "execution_count": 19,
   "metadata": {},
   "outputs": [
    {
     "data": {
      "text/plain": [
       "False"
      ]
     },
     "execution_count": 19,
     "metadata": {},
     "output_type": "execute_result"
    }
   ],
   "source": [
    "microscope_handler.deviceBusy('XY')"
   ]
  },
  {
   "cell_type": "code",
   "execution_count": 20,
   "metadata": {},
   "outputs": [],
   "source": [
    "stage = Stage(microscope_handler, z_limits=(-10, 10), x_limits=(-10, 10), y_limits=(-10, 10))"
   ]
  },
  {
   "cell_type": "code",
   "execution_count": 21,
   "metadata": {},
   "outputs": [
    {
     "data": {
      "text/plain": [
       "False"
      ]
     },
     "execution_count": 21,
     "metadata": {},
     "output_type": "execute_result"
    }
   ],
   "source": [
    "stage.is_moving()"
   ]
  },
  {
   "cell_type": "code",
   "execution_count": 22,
   "metadata": {},
   "outputs": [
    {
     "data": {
      "text/plain": [
       "False"
      ]
     },
     "execution_count": 22,
     "metadata": {},
     "output_type": "execute_result"
    }
   ],
   "source": [
    "stage.x_position_um -= 5\n",
    "stage.is_moving()"
   ]
  },
  {
   "cell_type": "code",
   "execution_count": 23,
   "metadata": {},
   "outputs": [
    {
     "data": {
      "text/plain": [
       "-3.995"
      ]
     },
     "execution_count": 23,
     "metadata": {},
     "output_type": "execute_result"
    }
   ],
   "source": [
    "stage.x_position_um"
   ]
  },
  {
   "cell_type": "code",
   "execution_count": null,
   "metadata": {},
   "outputs": [],
   "source": []
  }
 ],
 "metadata": {
  "kernelspec": {
   "display_name": "mic-gym-env",
   "language": "python",
   "name": "python3"
  },
  "language_info": {
   "codemirror_mode": {
    "name": "ipython",
    "version": 3
   },
   "file_extension": ".py",
   "mimetype": "text/x-python",
   "name": "python",
   "nbconvert_exporter": "python",
   "pygments_lexer": "ipython3",
   "version": "3.9.16"
  },
  "orig_nbformat": 4
 },
 "nbformat": 4,
 "nbformat_minor": 2
}
