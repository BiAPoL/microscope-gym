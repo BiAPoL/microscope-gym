{
 "cells": [
  {
   "cell_type": "markdown",
   "source": [
    "# Micromanager Camera\n",
    "\n",
    "Notebook for developing a microscope-gym micromanager Camera class.\n",
    "\n",
    "Base class stores settings: \n",
    "\n",
    "```python\n",
    "    pixel_size_um: float = Field(..., ge=0.0, description=\"physical pixel size of camera chip in µm\")\n",
    "    width_pixels: int = Field(..., ge=0, description=\"width of camera chip in pixels\")\n",
    "    height_pixels: int = Field(..., ge=0, description=\"height of camera chip in pixels\")\n",
    "    exposure_time_ms: float = Field(100.0, ge=0.0)\n",
    "    gain: float = Field(0.0, ge=0.0, description=\"amplifier gain\")\n",
    "```"
   ],
   "metadata": {
    "collapsed": false
   },
   "id": "94ddcc96f498bb36"
  },
  {
   "cell_type": "code",
   "execution_count": 1,
   "outputs": [],
   "source": [
    "from microscope_gym.microscope_adapters.micromanager import Camera, CameraSettings\n",
    "\n",
    "from pymmcore_plus import CMMCorePlus, Device, find_micromanager\n",
    "\n",
    "from pathlib import Path\n",
    "\n",
    "import stackview\n",
    "import skimage"
   ],
   "metadata": {
    "collapsed": false,
    "ExecuteTime": {
     "end_time": "2023-09-15T12:04:05.428186Z",
     "start_time": "2023-09-15T12:04:04.848601Z"
    }
   },
   "id": "1c7518933f1c0522"
  },
  {
   "cell_type": "code",
   "execution_count": 2,
   "outputs": [
    {
     "data": {
      "text/plain": "PosixPath('/Applications/Micro-Manager')"
     },
     "execution_count": 2,
     "metadata": {},
     "output_type": "execute_result"
    }
   ],
   "source": [
    "micromanager_path = Path(find_micromanager())\n",
    "micromanager_path"
   ],
   "metadata": {
    "collapsed": false,
    "ExecuteTime": {
     "end_time": "2023-09-15T12:04:05.434635Z",
     "start_time": "2023-09-15T12:04:05.428479Z"
    }
   },
   "id": "fd2655dae8242600"
  },
  {
   "cell_type": "code",
   "execution_count": 3,
   "outputs": [],
   "source": [
    "config_file = 'MMConfig_demo.cfg'"
   ],
   "metadata": {
    "collapsed": false,
    "ExecuteTime": {
     "end_time": "2023-09-15T12:04:05.436463Z",
     "start_time": "2023-09-15T12:04:05.434724Z"
    }
   },
   "id": "d0842d07b7cac5d9"
  },
  {
   "cell_type": "code",
   "execution_count": 4,
   "outputs": [
    {
     "data": {
      "text/plain": "<CMMCorePlus at 0x127a883b0>"
     },
     "execution_count": 4,
     "metadata": {},
     "output_type": "execute_result"
    }
   ],
   "source": [
    "microscope_handler = CMMCorePlus().instance()\n",
    "microscope_handler"
   ],
   "metadata": {
    "collapsed": false,
    "ExecuteTime": {
     "end_time": "2023-09-15T12:04:05.467226Z",
     "start_time": "2023-09-15T12:04:05.436921Z"
    }
   },
   "id": "941f036ef35d2f7b"
  },
  {
   "cell_type": "code",
   "execution_count": 5,
   "outputs": [],
   "source": [
    "microscope_handler.loadSystemConfiguration((micromanager_path / config_file))"
   ],
   "metadata": {
    "collapsed": false,
    "ExecuteTime": {
     "end_time": "2023-09-15T12:04:05.474888Z",
     "start_time": "2023-09-15T12:04:05.468511Z"
    }
   },
   "id": "773fabe4c3966d44"
  },
  {
   "cell_type": "code",
   "execution_count": 6,
   "outputs": [],
   "source": [
    "configuration = microscope_handler.getSystemState()"
   ],
   "metadata": {
    "collapsed": false,
    "ExecuteTime": {
     "end_time": "2023-09-15T12:04:05.478755Z",
     "start_time": "2023-09-15T12:04:05.475983Z"
    }
   },
   "id": "f93b9290a6086393"
  },
  {
   "cell_type": "code",
   "execution_count": 7,
   "outputs": [
    {
     "data": {
      "text/plain": "{'Camera': {'AllowMultiROI': '0',\n  'AsyncPropertyDelayMS': '2000',\n  'AsyncPropertyFollower': '',\n  'AsyncPropertyLeader': '',\n  'Binning': '1',\n  'BitDepth': '16',\n  'CCDTemperature': '0.0000',\n  'CCDTemperature RO': '0.0000',\n  'CameraID': 'V1.0',\n  'CameraName': 'DemoCamera-MultiMode',\n  'Description': 'Demo Camera Device Adapter',\n  'DisplayImageNumber': '0',\n  'DropPixels': '0',\n  'Exposure': '10.0000',\n  'FastImage': '0',\n  'FractionOfPixelsToDropOrSaturate': '0.0020',\n  'Gain': '0',\n  'HubID': '',\n  'MaximumExposureMs': '10000.0000',\n  'Mode': 'Artificial Waves',\n  'MultiROIFillValue': '0',\n  'Name': 'DCam',\n  'Offset': '0',\n  'OnCameraCCDXSize': '512',\n  'OnCameraCCDYSize': '512',\n  'Photon Conversion Factor': '1.0000',\n  'Photon Flux': '50.0000',\n  'PixelType': '16bit',\n  'ReadNoise (electrons)': '2.5000',\n  'ReadoutTime': '0.0000',\n  'RotateImages': '0',\n  'SaturatePixels': '0',\n  'ScanMode': '1',\n  'SimulateCrash': '',\n  'StripeWidth': '1.0000',\n  'TestProperty1': '0.0000',\n  'TestProperty2': '0.0000',\n  'TestProperty3': '0.0000',\n  'TestProperty4': '0.0000',\n  'TestProperty5': '0.0000',\n  'TestProperty6': '0.0000',\n  'TransposeCorrection': '0',\n  'TransposeMirrorX': '0',\n  'TransposeMirrorY': '0',\n  'TransposeXY': '0',\n  'TriggerDevice': '',\n  'UseExposureSequences': 'No'},\n 'Dichroic': {'ClosedPosition': '0',\n  'Description': 'Demo filter wheel driver',\n  'HubID': '',\n  'Label': '400DCLP',\n  'Name': 'DWheel',\n  'State': '0'},\n 'Emission': {'ClosedPosition': '0',\n  'Description': 'Demo filter wheel driver',\n  'HubID': '',\n  'Label': 'Chroma-HQ620',\n  'Name': 'DWheel',\n  'State': '0'},\n 'Excitation': {'ClosedPosition': '0',\n  'Description': 'Demo filter wheel driver',\n  'HubID': '',\n  'Label': 'Chroma-D360',\n  'Name': 'DWheel',\n  'State': '0'},\n 'Objective': {'Description': 'Demo objective turret driver',\n  'HubID': '',\n  'Label': 'Nikon 10X S Fluor',\n  'Name': 'DObjective',\n  'State': '1',\n  'Trigger': '-'},\n 'Z': {'Description': 'Demo stage driver',\n  'HubID': '',\n  'Name': 'DStage',\n  'Position': '0.0000',\n  'UseSequences': 'No'},\n 'Path': {'Description': 'Demo light-path driver',\n  'HubID': '',\n  'Label': 'State-0',\n  'Name': 'DLightPath',\n  'State': '0'},\n 'XY': {'Description': 'Demo XY stage driver',\n  'HubID': '',\n  'Name': 'DXYStage',\n  'TransposeMirrorX': '0',\n  'TransposeMirrorY': '0'},\n 'White Light Shutter': {'Description': 'Demo shutter driver',\n  'HubID': '',\n  'Name': 'DShutter',\n  'State': '1'},\n 'Autofocus': {'Description': 'Demo auto-focus adapter',\n  'HubID': '',\n  'Name': 'DAutoFocus'},\n 'LED': {'ClosedPosition': '0',\n  'Description': 'Demo state device driver',\n  'HubID': '',\n  'Label': 'Closed',\n  'Name': 'DStateDevice',\n  'Number of positions': '10',\n  'Sequence': 'Off',\n  'State': '0'},\n 'LED Shutter': {'Description': 'State device that is used as a shutter',\n  'Name': 'State Device Shutter',\n  'State Device': 'LED'},\n 'Core': {'AutoFocus': 'Autofocus',\n  'AutoShutter': '1',\n  'Camera': 'Camera',\n  'ChannelGroup': 'Channel',\n  'Focus': 'Z',\n  'Galvo': '',\n  'ImageProcessor': '',\n  'Initialize': '1',\n  'SLM': '',\n  'Shutter': 'White Light Shutter',\n  'TimeoutMs': '5000',\n  'XYStage': 'XY'}}"
     },
     "execution_count": 7,
     "metadata": {},
     "output_type": "execute_result"
    }
   ],
   "source": [
    "configuration.dict()"
   ],
   "metadata": {
    "collapsed": false,
    "ExecuteTime": {
     "end_time": "2023-09-15T12:04:05.483637Z",
     "start_time": "2023-09-15T12:04:05.478810Z"
    }
   },
   "id": "5174af5fbd61cefc"
  },
  {
   "cell_type": "code",
   "execution_count": 8,
   "outputs": [
    {
     "data": {
      "text/plain": "'Camera'"
     },
     "execution_count": 8,
     "metadata": {},
     "output_type": "execute_result"
    }
   ],
   "source": [
    "# just return the label of the CameraDevice as a string\n",
    "# could be useful, but we want a device object\n",
    "microscope_handler.getCameraDevice()"
   ],
   "metadata": {
    "collapsed": false,
    "ExecuteTime": {
     "end_time": "2023-09-15T12:04:05.485838Z",
     "start_time": "2023-09-15T12:04:05.483553Z"
    }
   },
   "id": "8ed6ebf214abbfb4"
  },
  {
   "cell_type": "code",
   "execution_count": 22,
   "outputs": [
    {
     "data": {
      "text/plain": "<Device 'Camera' (DemoCamera::DCam) on CMMCorePlus at 0x127a883b0: 47 properties>"
     },
     "execution_count": 22,
     "metadata": {},
     "output_type": "execute_result"
    }
   ],
   "source": [
    "# device object\n",
    "camera_device = Device(\n",
    "    microscope_handler.getCameraDevice(),\n",
    "    microscope_handler\n",
    ")\n",
    "camera_device"
   ],
   "metadata": {
    "collapsed": false,
    "ExecuteTime": {
     "end_time": "2023-09-15T12:16:10.586609Z",
     "start_time": "2023-09-15T12:16:10.565224Z"
    }
   },
   "id": "7621fa31a87572c0"
  },
  {
   "cell_type": "code",
   "execution_count": 24,
   "outputs": [
    {
     "data": {
      "text/plain": "{'title': 'DCam',\n 'description': 'Demo camera',\n 'type': 'object',\n 'properties': {'AllowMultiROI': {'type': 'boolean'},\n  'AsyncPropertyDelayMS': {'type': 'integer'},\n  'AsyncPropertyFollower': {'type': 'string', 'readOnly': True, 'default': ''},\n  'AsyncPropertyLeader': {'type': 'string'},\n  'Binning': {'type': 'integer', 'enum': [1, 2, 4, 8]},\n  'BitDepth': {'type': 'integer', 'enum': [10, 11, 12, 14, 16, 32, 8]},\n  'CCDTemperature': {'type': 'number', 'minimum': -100.0, 'maximum': 10.0},\n  'CCDTemperature RO': {'type': 'number', 'readOnly': True, 'default': 0.0},\n  'CameraID': {'type': 'string', 'readOnly': True, 'default': 'V1.0'},\n  'CameraName': {'type': 'string',\n   'readOnly': True,\n   'default': 'DemoCamera-MultiMode'},\n  'Description': {'type': 'string',\n   'readOnly': True,\n   'default': 'Demo Camera Device Adapter'},\n  'DisplayImageNumber': {'type': 'boolean'},\n  'DropPixels': {'type': 'boolean'},\n  'Exposure': {'type': 'number', 'minimum': 0.0, 'maximum': 10000.0},\n  'FastImage': {'type': 'boolean'},\n  'FractionOfPixelsToDropOrSaturate': {'type': 'number',\n   'minimum': 0.0,\n   'maximum': 0.1},\n  'Gain': {'type': 'integer', 'minimum': -5.0, 'maximum': 8.0},\n  'HubID': {'type': 'string', 'readOnly': True, 'default': ''},\n  'MaximumExposureMs': {'type': 'number', 'preInit': True},\n  'Mode': {'type': 'string',\n   'enum': ['Artificial Waves', 'Color Test Pattern', 'Noise']},\n  'MultiROIFillValue': {'type': 'integer', 'minimum': 0.0, 'maximum': 65536.0},\n  'Name': {'type': 'string', 'readOnly': True, 'default': 'DCam'},\n  'Offset': {'type': 'integer'},\n  'OnCameraCCDXSize': {'type': 'integer'},\n  'OnCameraCCDYSize': {'type': 'integer'},\n  'Photon Conversion Factor': {'type': 'number',\n   'minimum': 0.01,\n   'maximum': 10.0},\n  'Photon Flux': {'type': 'number', 'minimum': 2.0, 'maximum': 5000.0},\n  'PixelType': {'type': 'string',\n   'enum': ['16bit', '32bit', '32bitRGB', '64bitRGB', '8bit']},\n  'ReadNoise (electrons)': {'type': 'number',\n   'minimum': 0.25,\n   'maximum': 50.0},\n  'ReadoutTime': {'type': 'number'},\n  'RotateImages': {'type': 'boolean'},\n  'SaturatePixels': {'type': 'boolean'},\n  'ScanMode': {'type': 'integer', 'enum': [1, 2, 3]},\n  'SimulateCrash': {'type': 'string',\n   'enum': ['', 'Dereference Null Pointer', 'Divide by Zero']},\n  'StripeWidth': {'type': 'number', 'minimum': 0.0, 'maximum': 10.0},\n  'TestProperty1': {'type': 'number', 'minimum': -0.1, 'maximum': 0.1},\n  'TestProperty2': {'type': 'number', 'minimum': -200.0, 'maximum': 200.0},\n  'TestProperty3': {'type': 'number', 'minimum': 0.0, 'maximum': 0.003},\n  'TestProperty4': {'type': 'number', 'minimum': -40000.0, 'maximum': 40000.0},\n  'TestProperty5': {'type': 'number'},\n  'TestProperty6': {'type': 'number', 'minimum': 0.0, 'maximum': 6000000.0},\n  'TransposeCorrection': {'type': 'boolean'},\n  'TransposeMirrorX': {'type': 'boolean'},\n  'TransposeMirrorY': {'type': 'boolean'},\n  'TransposeXY': {'type': 'boolean'},\n  'TriggerDevice': {'type': 'string'},\n  'UseExposureSequences': {'type': 'string', 'enum': ['No', 'Yes']}}}"
     },
     "execution_count": 24,
     "metadata": {},
     "output_type": "execute_result"
    }
   ],
   "source": [
    "camera_device.schema()"
   ],
   "metadata": {
    "collapsed": false,
    "ExecuteTime": {
     "end_time": "2023-09-15T12:17:05.570690Z",
     "start_time": "2023-09-15T12:17:05.558125Z"
    }
   },
   "id": "596ceb3ef629bec4"
  },
  {
   "cell_type": "code",
   "execution_count": 10,
   "outputs": [
    {
     "data": {
      "text/plain": "512"
     },
     "execution_count": 10,
     "metadata": {},
     "output_type": "execute_result"
    }
   ],
   "source": [
    "camera_device.getPropertyObject('OnCameraCCDXSize').value"
   ],
   "metadata": {
    "collapsed": false,
    "ExecuteTime": {
     "end_time": "2023-09-15T12:04:05.503197Z",
     "start_time": "2023-09-15T12:04:05.489392Z"
    }
   },
   "id": "8bc0a058adb9328b"
  },
  {
   "cell_type": "code",
   "execution_count": 11,
   "outputs": [
    {
     "data": {
      "text/plain": "CameraSettings(pixel_size_um=1.0, width_pixels=512, height_pixels=512, exposure_time_ms=10.0, gain=0.0)"
     },
     "execution_count": 11,
     "metadata": {},
     "output_type": "execute_result"
    }
   ],
   "source": [
    "camera_settings = CameraSettings(\n",
    "            pixel_size_um=microscope_handler.getPixelSizeUm(),\n",
    "            width_pixels=camera_device.getPropertyObject(\n",
    "            'OnCameraCCDXSize').value,\n",
    "            height_pixels=camera_device.getPropertyObject(\n",
    "            'OnCameraCCDYSize').value,\n",
    "            exposure_time_ms=camera_device.getPropertyObject(\n",
    "            'Exposure' ).value,\n",
    "            gain=camera_device.getPropertyObject(\n",
    "            'Gain').value\n",
    "        )\n",
    "camera_settings"
   ],
   "metadata": {
    "collapsed": false,
    "ExecuteTime": {
     "end_time": "2023-09-15T12:04:05.503351Z",
     "start_time": "2023-09-15T12:04:05.492518Z"
    }
   },
   "id": "5a30f421a1c92d41"
  },
  {
   "cell_type": "code",
   "execution_count": 12,
   "outputs": [
    {
     "data": {
      "text/plain": "1.0"
     },
     "execution_count": 12,
     "metadata": {},
     "output_type": "execute_result"
    }
   ],
   "source": [
    "microscope_handler.getPixelSizeUm()"
   ],
   "metadata": {
    "collapsed": false,
    "ExecuteTime": {
     "end_time": "2023-09-15T12:04:05.503478Z",
     "start_time": "2023-09-15T12:04:05.495162Z"
    }
   },
   "id": "14e83c05b2e4d112"
  },
  {
   "cell_type": "code",
   "execution_count": 13,
   "outputs": [
    {
     "name": "stderr",
     "output_type": "stream",
     "text": [
      "/Users/jwhite/Library/Mobile Documents/com~apple~CloudDocs/Science/Grill_Lab/Projects/microscope-gym/microscope_gym/microscope_adapters/micromanager.py:103: UserWarning: Pixel size is set to 1.0; it may not be set or calibrated.\n",
      "  warn(f'Pixel size is set to {self._settings.pixel_size_um}; it may not be set or calibrated.')\n"
     ]
    },
    {
     "data": {
      "text/plain": "<microscope_gym.microscope_adapters.micromanager.Camera at 0x127aa4b10>"
     },
     "execution_count": 13,
     "metadata": {},
     "output_type": "execute_result"
    }
   ],
   "source": [
    "camera = Camera(microscope_handler)\n",
    "camera"
   ],
   "metadata": {
    "collapsed": false,
    "ExecuteTime": {
     "end_time": "2023-09-15T12:04:05.538321Z",
     "start_time": "2023-09-15T12:04:05.498903Z"
    }
   },
   "id": "3db228c9878c2aa9"
  },
  {
   "cell_type": "code",
   "execution_count": 14,
   "outputs": [
    {
     "data": {
      "text/plain": "array([[3276, 3339, 3402, ..., 3087, 3150, 3213],\n       [3284, 3347, 3410, ..., 3095, 3158, 3221],\n       [3292, 3355, 3418, ..., 3103, 3166, 3229],\n       ...,\n       [5846, 5846, 5844, ..., 5837, 5842, 5845],\n       [5846, 5846, 5844, ..., 5838, 5842, 5845],\n       [5846, 5846, 5843, ..., 5839, 5843, 5845]], dtype=uint16)"
     },
     "execution_count": 14,
     "metadata": {},
     "output_type": "execute_result"
    }
   ],
   "source": [
    "image = camera.capture_image()\n",
    "image"
   ],
   "metadata": {
    "collapsed": false,
    "ExecuteTime": {
     "end_time": "2023-09-15T12:04:05.538671Z",
     "start_time": "2023-09-15T12:04:05.506837Z"
    }
   },
   "id": "dd97e516890d7c7f"
  },
  {
   "cell_type": "code",
   "execution_count": 15,
   "outputs": [
    {
     "data": {
      "text/plain": "numpy.ndarray"
     },
     "execution_count": 15,
     "metadata": {},
     "output_type": "execute_result"
    }
   ],
   "source": [
    "type(image)"
   ],
   "metadata": {
    "collapsed": false,
    "ExecuteTime": {
     "end_time": "2023-09-15T12:04:05.538775Z",
     "start_time": "2023-09-15T12:04:05.521031Z"
    }
   },
   "id": "367c87b5812e61f2"
  },
  {
   "cell_type": "code",
   "execution_count": 16,
   "outputs": [],
   "source": [
    "# some problems viewingin pycharm, fix later\n",
    "# stackview.insight(image)\n",
    "# skimage.io.imshow(image)"
   ],
   "metadata": {
    "collapsed": false,
    "ExecuteTime": {
     "end_time": "2023-09-15T12:04:05.578150Z",
     "start_time": "2023-09-15T12:04:05.523286Z"
    }
   },
   "id": "d679235b037dbff3"
  },
  {
   "cell_type": "code",
   "execution_count": 17,
   "outputs": [],
   "source": [
    "# try to set some camera properties\n",
    "settings = camera.settings.model_copy() # model_copy is pydantic\n",
    "settings.width_pixels = 888              # try a new value\n",
    "camera.configure_camera(settings)       #set the new value"
   ],
   "metadata": {
    "collapsed": false,
    "ExecuteTime": {
     "end_time": "2023-09-15T12:04:05.582674Z",
     "start_time": "2023-09-15T12:04:05.524936Z"
    }
   },
   "id": "1be86921d2752f33"
  },
  {
   "cell_type": "code",
   "execution_count": 19,
   "outputs": [
    {
     "data": {
      "text/plain": "CameraSettings(pixel_size_um=1.0, width_pixels=888, height_pixels=512, exposure_time_ms=10.0, gain=0.0)"
     },
     "execution_count": 19,
     "metadata": {},
     "output_type": "execute_result"
    }
   ],
   "source": [
    "camera.settings"
   ],
   "metadata": {
    "collapsed": false,
    "ExecuteTime": {
     "end_time": "2023-09-15T12:04:05.582974Z",
     "start_time": "2023-09-15T12:04:05.530862Z"
    }
   },
   "id": "a2e9e266ccd78772"
  },
  {
   "cell_type": "code",
   "execution_count": null,
   "outputs": [],
   "source": [],
   "metadata": {
    "collapsed": false
   },
   "id": "a20b208fff1c96e"
  },
  {
   "cell_type": "code",
   "execution_count": null,
   "outputs": [],
   "source": [],
   "metadata": {
    "collapsed": false
   },
   "id": "88ed28594a32c2aa"
  },
  {
   "cell_type": "code",
   "execution_count": 21,
   "outputs": [],
   "source": [],
   "metadata": {
    "collapsed": false,
    "ExecuteTime": {
     "end_time": "2023-09-15T12:04:05.602218Z",
     "start_time": "2023-09-15T12:04:05.538226Z"
    }
   },
   "id": "8ee9a4dc904380ee"
  }
 ],
 "metadata": {
  "kernelspec": {
   "display_name": "Python 3",
   "language": "python",
   "name": "python3"
  },
  "language_info": {
   "codemirror_mode": {
    "name": "ipython",
    "version": 2
   },
   "file_extension": ".py",
   "mimetype": "text/x-python",
   "name": "python",
   "nbconvert_exporter": "python",
   "pygments_lexer": "ipython2",
   "version": "2.7.6"
  }
 },
 "nbformat": 4,
 "nbformat_minor": 5
}
