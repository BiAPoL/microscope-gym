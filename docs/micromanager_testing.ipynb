{
 "cells": [
  {
   "cell_type": "markdown",
   "source": [
    "Examples\n",
    ">>> core = CMMCorePlus()\n",
    ">>> device = Device('Camera', core)\n",
    ">>> device.isLoaded()\n",
    ">>> device.load('NotALib', 'DCam')  # useful error\n",
    ">>> device.load('DemoCamera', 'DCam')\n",
    ">>> device.initialize()\n",
    ">>> device.load('DemoCamera', 'DCam')  # no-op w/ useful warning\n",
    ">>> device.properties  # tuple of DeviceProperty objects\n",
    ">>> device.description()\n",
    ">>> device.isBusy()\n",
    ">>> device.wait()\n",
    ">>> device.type()\n",
    ">>> device.schema()  # JSON schema of device properties\n",
    "Params:\n",
    "device_label – Device this property belongs to\n",
    "mmcore – CMMCorePlus instance"
   ],
   "metadata": {
    "collapsed": false
   },
   "id": "9be652cc12c8a89a"
  },
  {
   "cell_type": "code",
   "execution_count": 37,
   "id": "initial_id",
   "metadata": {
    "collapsed": true,
    "ExecuteTime": {
     "end_time": "2023-08-17T11:49:13.837707Z",
     "start_time": "2023-08-17T11:49:13.488699Z"
    }
   },
   "outputs": [],
   "source": [
    "import os.path\n",
    "from enum import property\n",
    "\n",
    "# import numpy as np\n",
    "import pymmcore_plus\n",
    "from pymmcore_plus import CMMCorePlus, Device, DeviceProperty, DeviceType\n",
    "from pymmcore_plus import find_micromanager"
   ]
  },
  {
   "cell_type": "code",
   "execution_count": 38,
   "outputs": [],
   "source": [
    "import json\n",
    "def pretty(d):\n",
    "    print(json.dumps(d, indent=4))"
   ],
   "metadata": {
    "collapsed": false,
    "ExecuteTime": {
     "end_time": "2023-08-17T11:49:14.023282Z",
     "start_time": "2023-08-17T11:49:13.492272Z"
    }
   },
   "id": "9fad950cc2c5ebfa"
  },
  {
   "cell_type": "code",
   "execution_count": 39,
   "outputs": [
    {
     "data": {
      "text/plain": "'/Applications/Micro-Manager'"
     },
     "execution_count": 39,
     "metadata": {},
     "output_type": "execute_result"
    }
   ],
   "source": [
    "micromanager_path = find_micromanager()\n",
    "micromanager_path"
   ],
   "metadata": {
    "collapsed": false,
    "ExecuteTime": {
     "end_time": "2023-08-17T11:49:14.023937Z",
     "start_time": "2023-08-17T11:49:13.497269Z"
    }
   },
   "id": "ecad81c4c22e42f6"
  },
  {
   "cell_type": "code",
   "execution_count": 40,
   "outputs": [],
   "source": [
    "# finding my way around a bit.\n",
    "\n",
    "mm_dir = find_micromanager()\n",
    "config_file = 'MMConfig_demo.cfg'\n",
    "\n",
    "mmc = CMMCorePlus().instance()\n",
    "mmc.setDeviceAdapterSearchPaths([mm_dir])\n",
    "mmc.loadSystemConfiguration(os.path.join(mm_dir, config_file))"
   ],
   "metadata": {
    "collapsed": false,
    "ExecuteTime": {
     "end_time": "2023-08-17T11:49:14.072258Z",
     "start_time": "2023-08-17T11:49:13.498508Z"
    }
   },
   "id": "67b2bb34999df469"
  },
  {
   "cell_type": "code",
   "execution_count": 41,
   "outputs": [],
   "source": [
    "mmc.snapImage??"
   ],
   "metadata": {
    "collapsed": false,
    "ExecuteTime": {
     "end_time": "2023-08-17T11:49:14.073310Z",
     "start_time": "2023-08-17T11:49:13.513972Z"
    }
   },
   "id": "db5e8c91fd6ae8f1"
  },
  {
   "cell_type": "code",
   "execution_count": 42,
   "outputs": [
    {
     "data": {
      "text/plain": "numpy.ndarray"
     },
     "execution_count": 42,
     "metadata": {},
     "output_type": "execute_result"
    }
   ],
   "source": [
    "mmc.snapImage()\n",
    "image = mmc.getImage()\n",
    "# np.array(image)\n",
    "type(image)\n",
    "# mmc.getImage()"
   ],
   "metadata": {
    "collapsed": false,
    "ExecuteTime": {
     "end_time": "2023-08-17T11:49:14.073453Z",
     "start_time": "2023-08-17T11:49:13.518129Z"
    }
   },
   "id": "d900a080024977cd"
  },
  {
   "cell_type": "code",
   "execution_count": 43,
   "outputs": [
    {
     "data": {
      "text/plain": "array([[3276, 3339, 3402, ..., 3087, 3150, 3213],\n       [3284, 3347, 3410, ..., 3095, 3158, 3221],\n       [3292, 3355, 3418, ..., 3103, 3166, 3229],\n       ...,\n       [5846, 5846, 5844, ..., 5837, 5842, 5845],\n       [5846, 5846, 5844, ..., 5838, 5842, 5845],\n       [5846, 5846, 5843, ..., 5839, 5843, 5845]], dtype=uint16)"
     },
     "execution_count": 43,
     "metadata": {},
     "output_type": "execute_result"
    }
   ],
   "source": [
    "image"
   ],
   "metadata": {
    "collapsed": false,
    "ExecuteTime": {
     "end_time": "2023-08-17T11:49:14.073553Z",
     "start_time": "2023-08-17T11:49:13.530877Z"
    }
   },
   "id": "a857247e33a72859"
  },
  {
   "cell_type": "code",
   "execution_count": 44,
   "outputs": [],
   "source": [
    "mmc.snap??"
   ],
   "metadata": {
    "collapsed": false,
    "ExecuteTime": {
     "end_time": "2023-08-17T11:49:14.073910Z",
     "start_time": "2023-08-17T11:49:13.532794Z"
    }
   },
   "id": "5122b34bc0288bb3"
  },
  {
   "cell_type": "code",
   "execution_count": 45,
   "outputs": [
    {
     "data": {
      "text/plain": "array([[5093, 5138, 5180, ..., 4955, 5002, 5048],\n       [5099, 5143, 5186, ..., 4961, 5008, 5054],\n       [5105, 5148, 5191, ..., 4967, 5014, 5060],\n       ...,\n       [5110, 5065, 5020, ..., 5238, 5196, 5154],\n       [5105, 5060, 5014, ..., 5232, 5191, 5148],\n       [5099, 5054, 5008, ..., 5227, 5186, 5143]], dtype=uint16)"
     },
     "execution_count": 45,
     "metadata": {},
     "output_type": "execute_result"
    }
   ],
   "source": [
    "mmc.snap()"
   ],
   "metadata": {
    "collapsed": false,
    "ExecuteTime": {
     "end_time": "2023-08-17T11:49:14.086635Z",
     "start_time": "2023-08-17T11:49:13.536726Z"
    }
   },
   "id": "ec2bd2d092f73425"
  },
  {
   "cell_type": "code",
   "execution_count": 46,
   "outputs": [
    {
     "data": {
      "text/plain": "('Res10x', 'Res20x', 'Res40x')"
     },
     "execution_count": 46,
     "metadata": {},
     "output_type": "execute_result"
    }
   ],
   "source": [
    "mmc.getAvailablePixelSizeConfigs()"
   ],
   "metadata": {
    "collapsed": false,
    "ExecuteTime": {
     "end_time": "2023-08-17T11:49:14.086837Z",
     "start_time": "2023-08-17T11:49:13.549499Z"
    }
   },
   "id": "a33bb7ac60b1b4c6"
  },
  {
   "cell_type": "code",
   "execution_count": 47,
   "outputs": [
    {
     "data": {
      "text/plain": "dict_keys(['Camera', 'Dichroic', 'Emission', 'Excitation', 'Objective', 'Z', 'Path', 'XY', 'White Light Shutter', 'Autofocus', 'LED', 'LED Shutter', 'Core'])"
     },
     "execution_count": 47,
     "metadata": {},
     "output_type": "execute_result"
    }
   ],
   "source": [
    "mmc.getSystemState().dict().keys()"
   ],
   "metadata": {
    "collapsed": false,
    "ExecuteTime": {
     "end_time": "2023-08-17T11:49:14.086929Z",
     "start_time": "2023-08-17T11:49:13.551444Z"
    }
   },
   "id": "516a7cc646a0750b"
  },
  {
   "cell_type": "code",
   "execution_count": 48,
   "outputs": [
    {
     "data": {
      "text/plain": "'Camera'"
     },
     "execution_count": 48,
     "metadata": {},
     "output_type": "execute_result"
    }
   ],
   "source": [
    "mmc.getCameraDevice()"
   ],
   "metadata": {
    "collapsed": false,
    "ExecuteTime": {
     "end_time": "2023-08-17T11:49:14.087004Z",
     "start_time": "2023-08-17T11:49:13.554361Z"
    }
   },
   "id": "bb46170fa723fb5e"
  },
  {
   "cell_type": "code",
   "execution_count": 49,
   "outputs": [],
   "source": [
    "camera_name = mmc.getCameraDevice()"
   ],
   "metadata": {
    "collapsed": false,
    "ExecuteTime": {
     "end_time": "2023-08-17T11:49:14.087039Z",
     "start_time": "2023-08-17T11:49:13.556382Z"
    }
   },
   "id": "43a5a3f62fe4cb37"
  },
  {
   "cell_type": "code",
   "execution_count": 50,
   "outputs": [
    {
     "data": {
      "text/plain": "('AllowMultiROI',\n 'AsyncPropertyDelayMS',\n 'AsyncPropertyFollower',\n 'AsyncPropertyLeader',\n 'Binning',\n 'BitDepth',\n 'CCDTemperature',\n 'CCDTemperature RO',\n 'CameraID',\n 'CameraName',\n 'Description',\n 'DisplayImageNumber',\n 'DropPixels',\n 'Exposure',\n 'FastImage',\n 'FractionOfPixelsToDropOrSaturate',\n 'Gain',\n 'HubID',\n 'MaximumExposureMs',\n 'Mode',\n 'MultiROIFillValue',\n 'Name',\n 'Offset',\n 'OnCameraCCDXSize',\n 'OnCameraCCDYSize',\n 'Photon Conversion Factor',\n 'Photon Flux',\n 'PixelType',\n 'ReadNoise (electrons)',\n 'ReadoutTime',\n 'RotateImages',\n 'SaturatePixels',\n 'ScanMode',\n 'SimulateCrash',\n 'StripeWidth',\n 'TestProperty1',\n 'TestProperty2',\n 'TestProperty3',\n 'TestProperty4',\n 'TestProperty5',\n 'TestProperty6',\n 'TransposeCorrection',\n 'TransposeMirrorX',\n 'TransposeMirrorY',\n 'TransposeXY',\n 'TriggerDevice',\n 'UseExposureSequences')"
     },
     "execution_count": 50,
     "metadata": {},
     "output_type": "execute_result"
    }
   ],
   "source": [
    "camera_properties = mmc.getDevicePropertyNames(camera_name)\n",
    "camera_properties"
   ],
   "metadata": {
    "collapsed": false,
    "ExecuteTime": {
     "end_time": "2023-08-17T11:49:14.087125Z",
     "start_time": "2023-08-17T11:49:13.561088Z"
    }
   },
   "id": "ba615747b5cf6fd"
  },
  {
   "cell_type": "code",
   "execution_count": 51,
   "outputs": [
    {
     "data": {
      "text/plain": "'512'"
     },
     "execution_count": 51,
     "metadata": {},
     "output_type": "execute_result"
    }
   ],
   "source": [
    "mmc.getProperty(camera_name,'OnCameraCCDXSize')"
   ],
   "metadata": {
    "collapsed": false,
    "ExecuteTime": {
     "end_time": "2023-08-17T11:49:14.087192Z",
     "start_time": "2023-08-17T11:49:13.563380Z"
    }
   },
   "id": "4340d42a9dabdbb6"
  },
  {
   "cell_type": "code",
   "execution_count": 52,
   "outputs": [
    {
     "name": "stdout",
     "output_type": "stream",
     "text": [
      "AllowMultiROI:  0\n",
      "AsyncPropertyDelayMS:  2000\n",
      "AsyncPropertyFollower:  \n",
      "AsyncPropertyLeader:  \n",
      "Binning:  1\n",
      "BitDepth:  16\n",
      "CCDTemperature:  0.0000\n",
      "CCDTemperature RO:  0.0000\n",
      "CameraID:  V1.0\n",
      "CameraName:  DemoCamera-MultiMode\n",
      "Description:  Demo Camera Device Adapter\n",
      "DisplayImageNumber:  0\n",
      "DropPixels:  0\n",
      "Exposure:  10.0000\n",
      "FastImage:  0\n",
      "FractionOfPixelsToDropOrSaturate:  0.0020\n",
      "Gain:  0\n",
      "HubID:  \n",
      "MaximumExposureMs:  10000.0000\n",
      "Mode:  Artificial Waves\n",
      "MultiROIFillValue:  0\n",
      "Name:  DCam\n",
      "Offset:  0\n",
      "OnCameraCCDXSize:  512\n",
      "OnCameraCCDYSize:  512\n",
      "Photon Conversion Factor:  1.0000\n",
      "Photon Flux:  50.0000\n",
      "PixelType:  16bit\n",
      "ReadNoise (electrons):  2.5000\n",
      "ReadoutTime:  0.0000\n",
      "RotateImages:  0\n",
      "SaturatePixels:  0\n",
      "ScanMode:  1\n",
      "SimulateCrash:  \n",
      "StripeWidth:  1.0000\n",
      "TestProperty1:  0.0000\n",
      "TestProperty2:  0.0000\n",
      "TestProperty3:  0.0000\n",
      "TestProperty4:  0.0000\n",
      "TestProperty5:  0.0000\n",
      "TestProperty6:  0.0000\n",
      "TransposeCorrection:  0\n",
      "TransposeMirrorX:  0\n",
      "TransposeMirrorY:  0\n",
      "TransposeXY:  0\n",
      "TriggerDevice:  \n",
      "UseExposureSequences:  No\n"
     ]
    }
   ],
   "source": [
    "for property in camera_properties:\n",
    "    print(f'{property}:  {mmc.getProperty(camera_name, property)}')"
   ],
   "metadata": {
    "collapsed": false,
    "ExecuteTime": {
     "end_time": "2023-08-17T11:49:14.087271Z",
     "start_time": "2023-08-17T11:49:13.565565Z"
    }
   },
   "id": "565b340440042438"
  },
  {
   "cell_type": "code",
   "execution_count": 53,
   "outputs": [
    {
     "data": {
      "text/plain": "1.0"
     },
     "execution_count": 53,
     "metadata": {},
     "output_type": "execute_result"
    }
   ],
   "source": [
    "mmc.getPixelSizeUm()"
   ],
   "metadata": {
    "collapsed": false,
    "ExecuteTime": {
     "end_time": "2023-08-17T11:49:14.087367Z",
     "start_time": "2023-08-17T11:49:13.567432Z"
    }
   },
   "id": "a993661bfe90bb28"
  },
  {
   "cell_type": "code",
   "execution_count": 54,
   "outputs": [],
   "source": [
    "# mmc.getProperty(camera_name, \"Width\")"
   ],
   "metadata": {
    "collapsed": false,
    "ExecuteTime": {
     "end_time": "2023-08-17T11:49:14.087400Z",
     "start_time": "2023-08-17T11:49:13.569614Z"
    }
   },
   "id": "24452e3bde009055"
  },
  {
   "cell_type": "code",
   "execution_count": 55,
   "outputs": [
    {
     "name": "stdout",
     "output_type": "stream",
     "text": [
      "AllowMultiROI, \n",
      "AsyncPropertyDelayMS, \n",
      "AsyncPropertyFollower, \n",
      "AsyncPropertyLeader, \n",
      "Binning, \n",
      "BitDepth, \n",
      "CCDTemperature, \n",
      "CCDTemperature RO, \n",
      "CameraID, \n",
      "CameraName, \n",
      "Description, \n",
      "DisplayImageNumber, \n",
      "DropPixels, \n",
      "Exposure, \n",
      "FastImage, \n",
      "FractionOfPixelsToDropOrSaturate, \n",
      "Gain, \n",
      "HubID, \n",
      "MaximumExposureMs, \n",
      "Mode, \n",
      "MultiROIFillValue, \n",
      "Name, \n",
      "Offset, \n",
      "OnCameraCCDXSize, \n",
      "OnCameraCCDYSize, \n",
      "Photon Conversion Factor, \n",
      "Photon Flux, \n",
      "PixelType, \n",
      "ReadNoise (electrons), \n",
      "ReadoutTime, \n",
      "RotateImages, \n",
      "SaturatePixels, \n",
      "ScanMode, \n",
      "SimulateCrash, \n",
      "StripeWidth, \n",
      "TestProperty1, \n",
      "TestProperty2, \n",
      "TestProperty3, \n",
      "TestProperty4, \n",
      "TestProperty5, \n",
      "TestProperty6, \n",
      "TransposeCorrection, \n",
      "TransposeMirrorX, \n",
      "TransposeMirrorY, \n",
      "TransposeXY, \n",
      "TriggerDevice, \n",
      "UseExposureSequences, \n"
     ]
    }
   ],
   "source": [
    "for property in camera_properties:\n",
    "    print(f'{property}, ')"
   ],
   "metadata": {
    "collapsed": false,
    "ExecuteTime": {
     "end_time": "2023-08-17T11:49:14.087474Z",
     "start_time": "2023-08-17T11:49:13.571913Z"
    }
   },
   "id": "cb9a11166a6d3633"
  },
  {
   "cell_type": "code",
   "execution_count": 56,
   "outputs": [],
   "source": [
    "camera_props = DeviceProperty"
   ],
   "metadata": {
    "collapsed": false,
    "ExecuteTime": {
     "end_time": "2023-08-17T11:49:14.087511Z",
     "start_time": "2023-08-17T11:49:13.573656Z"
    }
   },
   "id": "c2f078fb9bef433a"
  },
  {
   "cell_type": "code",
   "execution_count": 57,
   "outputs": [],
   "source": [
    "# core = pymmcore_plus.CMMCorePlus().instance()\n",
    "# core = CMMCorePlus()"
   ],
   "metadata": {
    "collapsed": false,
    "ExecuteTime": {
     "end_time": "2023-08-17T11:49:14.087648Z",
     "start_time": "2023-08-17T11:49:13.575591Z"
    }
   },
   "id": "4574c4cbcfaf3d3"
  },
  {
   "cell_type": "code",
   "execution_count": 58,
   "outputs": [],
   "source": [
    "mmc.loadSystemConfiguration()"
   ],
   "metadata": {
    "collapsed": false,
    "ExecuteTime": {
     "end_time": "2023-08-17T11:49:14.087724Z",
     "start_time": "2023-08-17T11:49:13.577264Z"
    }
   },
   "id": "ccbe1d7bbbeed9ad"
  },
  {
   "cell_type": "code",
   "execution_count": 59,
   "outputs": [],
   "source": [
    "device = Device('Stage', mmc)"
   ],
   "metadata": {
    "collapsed": false,
    "ExecuteTime": {
     "end_time": "2023-08-17T11:49:14.087773Z",
     "start_time": "2023-08-17T11:49:13.581042Z"
    }
   },
   "id": "cf1b058d0c36dd7"
  },
  {
   "cell_type": "code",
   "execution_count": 60,
   "outputs": [
    {
     "data": {
      "text/plain": "False"
     },
     "execution_count": 60,
     "metadata": {},
     "output_type": "execute_result"
    }
   ],
   "source": [
    "device.isLoaded()"
   ],
   "metadata": {
    "collapsed": false,
    "ExecuteTime": {
     "end_time": "2023-08-17T11:49:14.088109Z",
     "start_time": "2023-08-17T11:49:13.583224Z"
    }
   },
   "id": "210bfdaae941348f"
  },
  {
   "cell_type": "code",
   "execution_count": 61,
   "outputs": [
    {
     "data": {
      "text/plain": "'\\ndevice.load(\\'XY\\', \\'Stage\\')\\nRuntimeError: Failed to load device \"Stage\" from adapter module \"XY\". Adapter name \\'XY\\' not in list of known adapter names: (\\'LightSheetManager\\', \\'ASITiger\\', \\'LeicaDMR\\', \\'XLightV3\\', \\'HamiltonMVP\\', \\'SutterLambda\\', \\'LudlLow\\', \\'LeicaDMI\\', \\'CoolLEDpE4000\\', \\'CoherentOBIS\\', \\'XLight\\', \\'ImageProcessorChain\\', \\'SutterMPC\\', \\'SerialManager\\', \\'PIEZOCONCEPT\\', \\'MicroPoint\\', \\'CSUX\\', \\'MaestroServo\\', \\'CoherentCube\\', \\'LaserQuantumLaser\\', \\'CoolLEDpE300\\', \\'ThorLabs\\', \\'VariLC\\', \\'Nikon\\', \\'SequenceTester\\', \\'SpectralLMM5\\', \\'MicroFPGA\\', \\'MoticUCam\\', \\'MarzhauserLStep\\', \\'IsmatecMCP\\', \\'StarlightXpress\\', \\'PI\\', \\'XCiteXT600\\', \\'NewportCONEX\\', \\'SutterLambdaParallelArduino\\', \\'PriorLegacy\\', \\'BlueboxOptics_niji\\', \\'XCite120PCExacte\\', \\'ThorlabsElliptecSlider\\', \\'ArduinoNeoPixel\\', \\'ChuoSeikiMD5000\\', \\'NikonAZ100\\', \\'SmarActHCU3D\\', \\'Piezosystem_NV40_1\\', \\'Aquinas\\', \\'ChuoSeikiQT\\', \\'PIGCS2\\', \\'OxxiusCombiner\\', \\'OpenCVgrabber\\', \\'MP285\\', \\'TriggerScopeMM\\', \\'Utilities.la\\', \\'ThorLabsSC10\\', \\'CARVII\\', \\'KDV\\', \\'Xcite\\', \\'Cobolt\\', \\'Arduino\\', \\'pgFocus\\', \\'FreeSerialPort\\', \\'K8055\\', \\'Stradus\\', \\'Vincent\\', \\'ASIWPTR\\', \\'Piezosystem_NV120_1\\', \\'GPhoto\\', \\'ESImagingIOControllers\\', \\'nPoint\\', \\'Piezosystem_dDrive\\', \\'DemoCamera\\', \\'ThorlabsFilterWheel\\', \\'NewportSMC\\', \\'LumencorSpectra\\', \\'FakeCamera\\', \\'LeicaDMSTC\\', \\'MarzhauserLStepOld\\', \\'HIDManager\\', \\'OVP_ECS2\\', \\'Prior\\', \\'YodnE600\\', \\'Diskovery\\', \\'NNLC\\', \\'CSUW1\\', \\'VarispecLCTF\\', \\'Aladdin\\', \\'TriggerScope\\', \\'FocalPoint\\', \\'SutterStage\\', \\'ZeissCAN\\', \\'CSU22\\', \\'Thorlabs_ELL14\\', \\'NikonTE2000\\', \\'AAAOTF\\', \\'SouthPort\\', \\'ThorlabsDCxxxx\\', \\'Toptica_iBeamSmartCW\\', \\'Skyra\\', \\'CoherentScientificRemote\\', \\'VersaLase\\', \\'Arduino32bitBoards\\', \\'RAMPS\\', \\'dc1394\\', \\'Polychrome5000\\', \\'ZeissCAN29\\', \\'UserDefinedSerial\\', \\'DemoCamera.la\\', \\'Oxxius\\', \\'ASIFW1000\\', \\'Utilities\\', \\'Scientifica\\', \\'WieneckeSinske\\', \\'Conix\\', \\'Neos\\', \\'SutterLambda2\\', \\'Piezosystem_30DV50\\', \\'Omicron\\', \\'Olympus\\', \\'XCiteLed\\', \\'IIDC\\', \\'Ludl\\', \\'Piezosystem_NV40_3\\', \\'PrecisExcite\\', \\'Marzhauser\\', \\'NikonEclipse90i\\', \\'Hydra\\', \\'ASIStage\\', \\'Sapphire\\', \\'USBManager\\', \\'Tofra\\', \\'Pecon\\', \\'Zaber\\', \\'Corvus\\', \\'PIGCS\\', \\'K8061\\', \\'MPBLaser\\').\\n\\n'"
     },
     "execution_count": 61,
     "metadata": {},
     "output_type": "execute_result"
    }
   ],
   "source": [
    "'''\n",
    "device.load('XY', 'Stage')\n",
    "RuntimeError: Failed to load device \"Stage\" from adapter module \"XY\". Adapter name 'XY' not in list of known adapter names: ('LightSheetManager', 'ASITiger', 'LeicaDMR', 'XLightV3', 'HamiltonMVP', 'SutterLambda', 'LudlLow', 'LeicaDMI', 'CoolLEDpE4000', 'CoherentOBIS', 'XLight', 'ImageProcessorChain', 'SutterMPC', 'SerialManager', 'PIEZOCONCEPT', 'MicroPoint', 'CSUX', 'MaestroServo', 'CoherentCube', 'LaserQuantumLaser', 'CoolLEDpE300', 'ThorLabs', 'VariLC', 'Nikon', 'SequenceTester', 'SpectralLMM5', 'MicroFPGA', 'MoticUCam', 'MarzhauserLStep', 'IsmatecMCP', 'StarlightXpress', 'PI', 'XCiteXT600', 'NewportCONEX', 'SutterLambdaParallelArduino', 'PriorLegacy', 'BlueboxOptics_niji', 'XCite120PCExacte', 'ThorlabsElliptecSlider', 'ArduinoNeoPixel', 'ChuoSeikiMD5000', 'NikonAZ100', 'SmarActHCU3D', 'Piezosystem_NV40_1', 'Aquinas', 'ChuoSeikiQT', 'PIGCS2', 'OxxiusCombiner', 'OpenCVgrabber', 'MP285', 'TriggerScopeMM', 'Utilities.la', 'ThorLabsSC10', 'CARVII', 'KDV', 'Xcite', 'Cobolt', 'Arduino', 'pgFocus', 'FreeSerialPort', 'K8055', 'Stradus', 'Vincent', 'ASIWPTR', 'Piezosystem_NV120_1', 'GPhoto', 'ESImagingIOControllers', 'nPoint', 'Piezosystem_dDrive', 'DemoCamera', 'ThorlabsFilterWheel', 'NewportSMC', 'LumencorSpectra', 'FakeCamera', 'LeicaDMSTC', 'MarzhauserLStepOld', 'HIDManager', 'OVP_ECS2', 'Prior', 'YodnE600', 'Diskovery', 'NNLC', 'CSUW1', 'VarispecLCTF', 'Aladdin', 'TriggerScope', 'FocalPoint', 'SutterStage', 'ZeissCAN', 'CSU22', 'Thorlabs_ELL14', 'NikonTE2000', 'AAAOTF', 'SouthPort', 'ThorlabsDCxxxx', 'Toptica_iBeamSmartCW', 'Skyra', 'CoherentScientificRemote', 'VersaLase', 'Arduino32bitBoards', 'RAMPS', 'dc1394', 'Polychrome5000', 'ZeissCAN29', 'UserDefinedSerial', 'DemoCamera.la', 'Oxxius', 'ASIFW1000', 'Utilities', 'Scientifica', 'WieneckeSinske', 'Conix', 'Neos', 'SutterLambda2', 'Piezosystem_30DV50', 'Omicron', 'Olympus', 'XCiteLed', 'IIDC', 'Ludl', 'Piezosystem_NV40_3', 'PrecisExcite', 'Marzhauser', 'NikonEclipse90i', 'Hydra', 'ASIStage', 'Sapphire', 'USBManager', 'Tofra', 'Pecon', 'Zaber', 'Corvus', 'PIGCS', 'K8061', 'MPBLaser').\n",
    "\n",
    "'''"
   ],
   "metadata": {
    "collapsed": false,
    "ExecuteTime": {
     "end_time": "2023-08-17T11:49:14.088233Z",
     "start_time": "2023-08-17T11:49:13.585912Z"
    }
   },
   "id": "521a0002b343b233"
  },
  {
   "cell_type": "code",
   "execution_count": 62,
   "outputs": [
    {
     "data": {
      "text/plain": "['LightSheetManager',\n 'ASITiger',\n 'LeicaDMR',\n 'XLightV3',\n 'HamiltonMVP',\n 'SutterLambda',\n 'LudlLow',\n 'LeicaDMI',\n 'CoolLEDpE4000',\n 'CoherentOBIS',\n 'XLight',\n 'ImageProcessorChain',\n 'SutterMPC',\n 'SerialManager',\n 'PIEZOCONCEPT',\n 'MicroPoint',\n 'CSUX',\n 'MaestroServo',\n 'CoherentCube',\n 'LaserQuantumLaser',\n 'CoolLEDpE300',\n 'ThorLabs',\n 'VariLC',\n 'Nikon',\n 'SequenceTester',\n 'SpectralLMM5',\n 'MicroFPGA',\n 'MoticUCam',\n 'MarzhauserLStep',\n 'IsmatecMCP',\n 'StarlightXpress',\n 'PI',\n 'XCiteXT600',\n 'NewportCONEX',\n 'SutterLambdaParallelArduino',\n 'PriorLegacy',\n 'BlueboxOptics_niji',\n 'XCite120PCExacte',\n 'ThorlabsElliptecSlider',\n 'ArduinoNeoPixel',\n 'ChuoSeikiMD5000',\n 'NikonAZ100',\n 'SmarActHCU3D',\n 'Piezosystem_NV40_1',\n 'Aquinas',\n 'ChuoSeikiQT',\n 'PIGCS2',\n 'OxxiusCombiner',\n 'OpenCVgrabber',\n 'MP285',\n 'TriggerScopeMM',\n 'Utilities.la',\n 'ThorLabsSC10',\n 'CARVII',\n 'KDV',\n 'Xcite',\n 'Cobolt',\n 'Arduino',\n 'pgFocus',\n 'FreeSerialPort',\n 'K8055',\n 'Stradus',\n 'Vincent',\n 'ASIWPTR',\n 'Piezosystem_NV120_1',\n 'GPhoto',\n 'ESImagingIOControllers',\n 'nPoint',\n 'Piezosystem_dDrive',\n 'DemoCamera',\n 'ThorlabsFilterWheel',\n 'NewportSMC',\n 'LumencorSpectra',\n 'FakeCamera',\n 'LeicaDMSTC',\n 'MarzhauserLStepOld',\n 'HIDManager',\n 'OVP_ECS2',\n 'Prior',\n 'YodnE600',\n 'Diskovery',\n 'NNLC',\n 'CSUW1',\n 'VarispecLCTF',\n 'Aladdin',\n 'TriggerScope',\n 'FocalPoint',\n 'SutterStage',\n 'ZeissCAN',\n 'CSU22',\n 'Thorlabs_ELL14',\n 'NikonTE2000',\n 'AAAOTF',\n 'SouthPort',\n 'ThorlabsDCxxxx',\n 'Toptica_iBeamSmartCW',\n 'Skyra',\n 'CoherentScientificRemote',\n 'VersaLase',\n 'Arduino32bitBoards',\n 'RAMPS',\n 'dc1394',\n 'Polychrome5000',\n 'ZeissCAN29',\n 'UserDefinedSerial',\n 'DemoCamera.la',\n 'Oxxius',\n 'ASIFW1000',\n 'Utilities',\n 'Scientifica',\n 'WieneckeSinske',\n 'Conix',\n 'Neos',\n 'SutterLambda2',\n 'Piezosystem_30DV50',\n 'Omicron',\n 'Olympus',\n 'XCiteLed',\n 'IIDC',\n 'Ludl',\n 'Piezosystem_NV40_3',\n 'PrecisExcite',\n 'Marzhauser',\n 'NikonEclipse90i',\n 'Hydra',\n 'ASIStage',\n 'Sapphire',\n 'USBManager',\n 'Tofra',\n 'Pecon',\n 'Zaber',\n 'Corvus',\n 'PIGCS',\n 'K8061',\n 'MPBLaser']"
     },
     "execution_count": 62,
     "metadata": {},
     "output_type": "execute_result"
    }
   ],
   "source": [
    "device_list = list(('LightSheetManager', 'ASITiger', 'LeicaDMR', 'XLightV3', 'HamiltonMVP', 'SutterLambda', 'LudlLow', 'LeicaDMI', 'CoolLEDpE4000', 'CoherentOBIS', 'XLight', 'ImageProcessorChain', 'SutterMPC', 'SerialManager', 'PIEZOCONCEPT', 'MicroPoint', 'CSUX', 'MaestroServo', 'CoherentCube', 'LaserQuantumLaser', 'CoolLEDpE300', 'ThorLabs', 'VariLC', 'Nikon', 'SequenceTester', 'SpectralLMM5', 'MicroFPGA', 'MoticUCam', 'MarzhauserLStep', 'IsmatecMCP', 'StarlightXpress', 'PI', 'XCiteXT600', 'NewportCONEX', 'SutterLambdaParallelArduino', 'PriorLegacy', 'BlueboxOptics_niji', 'XCite120PCExacte', 'ThorlabsElliptecSlider', 'ArduinoNeoPixel', 'ChuoSeikiMD5000', 'NikonAZ100', 'SmarActHCU3D', 'Piezosystem_NV40_1', 'Aquinas', 'ChuoSeikiQT', 'PIGCS2', 'OxxiusCombiner', 'OpenCVgrabber', 'MP285', 'TriggerScopeMM', 'Utilities.la', 'ThorLabsSC10', 'CARVII', 'KDV', 'Xcite', 'Cobolt', 'Arduino', 'pgFocus', 'FreeSerialPort', 'K8055', 'Stradus', 'Vincent', 'ASIWPTR', 'Piezosystem_NV120_1', 'GPhoto', 'ESImagingIOControllers', 'nPoint', 'Piezosystem_dDrive', 'DemoCamera', 'ThorlabsFilterWheel', 'NewportSMC', 'LumencorSpectra', 'FakeCamera', 'LeicaDMSTC', 'MarzhauserLStepOld', 'HIDManager', 'OVP_ECS2', 'Prior', 'YodnE600', 'Diskovery', 'NNLC', 'CSUW1', 'VarispecLCTF', 'Aladdin', 'TriggerScope', 'FocalPoint', 'SutterStage', 'ZeissCAN', 'CSU22', 'Thorlabs_ELL14', 'NikonTE2000', 'AAAOTF', 'SouthPort', 'ThorlabsDCxxxx', 'Toptica_iBeamSmartCW', 'Skyra', 'CoherentScientificRemote', 'VersaLase', 'Arduino32bitBoards', 'RAMPS', 'dc1394', 'Polychrome5000', 'ZeissCAN29', 'UserDefinedSerial', 'DemoCamera.la', 'Oxxius', 'ASIFW1000', 'Utilities', 'Scientifica', 'WieneckeSinske', 'Conix', 'Neos', 'SutterLambda2', 'Piezosystem_30DV50', 'Omicron', 'Olympus', 'XCiteLed', 'IIDC', 'Ludl', 'Piezosystem_NV40_3', 'PrecisExcite', 'Marzhauser', 'NikonEclipse90i', 'Hydra', 'ASIStage', 'Sapphire', 'USBManager', 'Tofra', 'Pecon', 'Zaber', 'Corvus', 'PIGCS', 'K8061', 'MPBLaser'))\n",
    "device_list"
   ],
   "metadata": {
    "collapsed": false,
    "ExecuteTime": {
     "end_time": "2023-08-17T11:49:14.088478Z",
     "start_time": "2023-08-17T11:49:13.590376Z"
    }
   },
   "id": "b9e3ed5c86f459a2"
  },
  {
   "cell_type": "code",
   "execution_count": 63,
   "outputs": [
    {
     "name": "stdout",
     "output_type": "stream",
     "text": [
      "total 105288\r\n",
      "drwxr-xr-x@ 153 admin     4896 Aug  7 17:24 \u001B[1m\u001B[36m.\u001B[m\u001B[m\r\n",
      "drwxrwxr-x   36 admin     1152 Aug 16 11:29 \u001B[1m\u001B[36m..\u001B[m\u001B[m\r\n",
      "-rw-r--r--@   1 admin     6148 Aug  4 20:23 .DS_Store\r\n",
      "-rw-r--r--    1 admin      462 Aug  4 08:11 IJ_Prefs.txt\r\n",
      "-rw-r--r--@   1 admin        0 Nov 15  2009 Icon?\r\n",
      "drwxr-xr-x@   3 admin       96 Aug  4 08:11 \u001B[1m\u001B[36mImageJ.app\u001B[m\u001B[m\r\n",
      "-rw-r--r--    1 admin     6258 Aug  4 20:01 MMConfig_demo.cfg\r\n",
      "-rw-r--r--@   1 admin     6258 Aug  4 20:01 MMConfig_demo2.cfg\r\n",
      "drwxr-xr-x    2 admin       64 Aug  4 19:47 \u001B[1m\u001B[36m_Micro-Manager-2.0.1-20230803\u001B[m\u001B[m\r\n",
      "-rwxr-xr-x@   1 admin  1684216 Aug  4 08:11 \u001B[1m\u001B[32mlibMMCoreJ_wrap.jnilib\u001B[m\u001B[m\r\n",
      "drwxr-xr-x    7 admin      224 Aug  4 08:11 \u001B[1m\u001B[36mlibgphoto2\u001B[m\u001B[m\r\n",
      "-rwxr-xr-x    1 admin   218568 Aug  4 08:11 \u001B[1m\u001B[32mlibmmgr_dal_AAAOTF\u001B[m\u001B[m\r\n",
      "-rwxr-xr-x    1 admin   288968 Aug  4 08:11 \u001B[1m\u001B[32mlibmmgr_dal_ASIFW1000\u001B[m\u001B[m\r\n",
      "-rwxr-xr-x    1 admin   547952 Aug  4 08:11 \u001B[1m\u001B[32mlibmmgr_dal_ASIStage\u001B[m\u001B[m\r\n",
      "-rwxr-xr-x    1 admin  1729496 Aug  4 08:11 \u001B[1m\u001B[32mlibmmgr_dal_ASITiger\u001B[m\u001B[m\r\n",
      "-rwxr-xr-x    1 admin   189216 Aug  4 08:11 \u001B[1m\u001B[32mlibmmgr_dal_ASIWPTR\u001B[m\u001B[m\r\n",
      "-rwxr-xr-x    1 admin   213976 Aug  4 08:11 \u001B[1m\u001B[32mlibmmgr_dal_Aladdin\u001B[m\u001B[m\r\n",
      "-rwxr-xr-x    1 admin   191264 Aug  4 08:11 \u001B[1m\u001B[32mlibmmgr_dal_Aquinas\u001B[m\u001B[m\r\n",
      "-rwxr-xr-x    1 admin   298472 Aug  4 08:11 \u001B[1m\u001B[32mlibmmgr_dal_Arduino\u001B[m\u001B[m\r\n",
      "-rwxr-xr-x    1 admin   300792 Aug  4 08:11 \u001B[1m\u001B[32mlibmmgr_dal_Arduino32bitBoards\u001B[m\u001B[m\r\n",
      "-rwxr-xr-x    1 admin   226232 Aug  4 08:11 \u001B[1m\u001B[32mlibmmgr_dal_ArduinoNeoPixel\u001B[m\u001B[m\r\n",
      "-rwxr-xr-x    1 admin   244392 Aug  4 08:11 \u001B[1m\u001B[32mlibmmgr_dal_BlueboxOptics_niji\u001B[m\u001B[m\r\n",
      "-rwxr-xr-x    1 admin   410240 Aug  4 08:11 \u001B[1m\u001B[32mlibmmgr_dal_CARVII\u001B[m\u001B[m\r\n",
      "-rwxr-xr-x    1 admin   270640 Aug  4 08:11 \u001B[1m\u001B[32mlibmmgr_dal_CSU22\u001B[m\u001B[m\r\n",
      "-rwxr-xr-x    1 admin   453936 Aug  4 08:11 \u001B[1m\u001B[32mlibmmgr_dal_CSUW1\u001B[m\u001B[m\r\n",
      "-rwxr-xr-x    1 admin   274648 Aug  4 08:11 \u001B[1m\u001B[32mlibmmgr_dal_CSUX\u001B[m\u001B[m\r\n",
      "-rwxr-xr-x    1 admin   267328 Aug  4 08:11 \u001B[1m\u001B[32mlibmmgr_dal_ChuoSeikiMD5000\u001B[m\u001B[m\r\n",
      "-rwxr-xr-x    1 admin   251848 Aug  4 08:11 \u001B[1m\u001B[32mlibmmgr_dal_ChuoSeikiQT\u001B[m\u001B[m\r\n",
      "-rwxr-xr-x    1 admin   246000 Aug  4 08:11 \u001B[1m\u001B[32mlibmmgr_dal_Cobolt\u001B[m\u001B[m\r\n",
      "-rwxr-xr-x    1 admin   217392 Aug  4 08:11 \u001B[1m\u001B[32mlibmmgr_dal_CoherentCube\u001B[m\u001B[m\r\n",
      "-rwxr-xr-x    1 admin   197840 Aug  4 08:11 \u001B[1m\u001B[32mlibmmgr_dal_CoherentOBIS\u001B[m\u001B[m\r\n",
      "-rwxr-xr-x    1 admin   237368 Aug  4 08:11 \u001B[1m\u001B[32mlibmmgr_dal_CoherentScientificRemote\u001B[m\u001B[m\r\n",
      "-rwxr-xr-x    1 admin   287400 Aug  4 08:11 \u001B[1m\u001B[32mlibmmgr_dal_Conix\u001B[m\u001B[m\r\n",
      "-rwxr-xr-x    1 admin   199968 Aug  4 08:11 \u001B[1m\u001B[32mlibmmgr_dal_CoolLEDpE300\u001B[m\u001B[m\r\n",
      "-rwxr-xr-x    1 admin   217720 Aug  4 08:11 \u001B[1m\u001B[32mlibmmgr_dal_CoolLEDpE4000\u001B[m\u001B[m\r\n",
      "-rwxr-xr-x    1 admin   233376 Aug  4 08:11 \u001B[1m\u001B[32mlibmmgr_dal_Corvus\u001B[m\u001B[m\r\n",
      "-rwxr-xr-x    1 admin   696232 Aug  4 20:01 \u001B[1m\u001B[32mlibmmgr_dal_DemoCamera\u001B[m\u001B[m\r\n",
      "-rwxr-xr-x    1 admin     1044 Aug  4 20:01 \u001B[1m\u001B[32mlibmmgr_dal_DemoCamera.la\u001B[m\u001B[m\r\n",
      "-rwxr-xr-x    1 admin   438472 Aug  4 08:11 \u001B[1m\u001B[32mlibmmgr_dal_Diskovery\u001B[m\u001B[m\r\n",
      "-rwxr-xr-x    1 admin   304848 Aug  4 08:11 \u001B[1m\u001B[32mlibmmgr_dal_ESImagingIOControllers\u001B[m\u001B[m\r\n",
      "-rwxr-xr-x    1 admin  2799392 Aug  4 08:11 \u001B[1m\u001B[32mlibmmgr_dal_FakeCamera\u001B[m\u001B[m\r\n",
      "-rwxr-xr-x    1 admin   194720 Aug  4 08:11 \u001B[1m\u001B[32mlibmmgr_dal_FocalPoint\u001B[m\u001B[m\r\n",
      "-rwxr-xr-x    1 admin   195872 Aug  4 08:11 \u001B[1m\u001B[32mlibmmgr_dal_FreeSerialPort\u001B[m\u001B[m\r\n",
      "-rwxr-xr-x    1 admin  3088944 Aug  4 08:11 \u001B[1m\u001B[32mlibmmgr_dal_GPhoto\u001B[m\u001B[m\r\n",
      "-rwxr-xr-x    1 admin   222984 Aug  4 08:11 \u001B[1m\u001B[32mlibmmgr_dal_HIDManager\u001B[m\u001B[m\r\n",
      "-rwxr-xr-x    1 admin   231616 Aug  4 08:11 \u001B[1m\u001B[32mlibmmgr_dal_HamiltonMVP\u001B[m\u001B[m\r\n",
      "-rwxr-xr-x    1 admin   222120 Aug  4 08:11 \u001B[1m\u001B[32mlibmmgr_dal_Hydra\u001B[m\u001B[m\r\n",
      "-rwxr-xr-x    1 admin  1390064 Aug  4 08:11 \u001B[1m\u001B[32mlibmmgr_dal_IIDC\u001B[m\u001B[m\r\n",
      "-rwxr-xr-x    1 admin   191112 Aug  4 08:11 \u001B[1m\u001B[32mlibmmgr_dal_ImageProcessorChain\u001B[m\u001B[m\r\n",
      "-rwxr-xr-x    1 admin   247432 Aug  4 08:11 \u001B[1m\u001B[32mlibmmgr_dal_IsmatecMCP\u001B[m\u001B[m\r\n",
      "-rwxr-xr-x    1 admin   258496 Aug  4 08:11 \u001B[1m\u001B[32mlibmmgr_dal_K8055\u001B[m\u001B[m\r\n",
      "-rwxr-xr-x    1 admin   273120 Aug  4 08:11 \u001B[1m\u001B[32mlibmmgr_dal_K8061\u001B[m\u001B[m\r\n",
      "-rwxr-xr-x    1 admin   194280 Aug  4 08:11 \u001B[1m\u001B[32mlibmmgr_dal_KDV\u001B[m\u001B[m\r\n",
      "-rwxr-xr-x    1 admin   249232 Aug  4 08:11 \u001B[1m\u001B[32mlibmmgr_dal_LaserQuantumLaser\u001B[m\u001B[m\r\n",
      "-rwxr-xr-x    1 admin   733480 Aug  4 08:11 \u001B[1m\u001B[32mlibmmgr_dal_LeicaDMI\u001B[m\u001B[m\r\n",
      "-rwxr-xr-x    1 admin   346024 Aug  4 08:11 \u001B[1m\u001B[32mlibmmgr_dal_LeicaDMR\u001B[m\u001B[m\r\n",
      "-rwxr-xr-x    1 admin   226640 Aug  4 08:11 \u001B[1m\u001B[32mlibmmgr_dal_LeicaDMSTC\u001B[m\u001B[m\r\n",
      "-rwxr-xr-x    1 admin   227984 Aug  4 08:11 \u001B[1m\u001B[32mlibmmgr_dal_LightSheetManager\u001B[m\u001B[m\r\n",
      "-rwxr-xr-x    1 admin   335024 Aug  4 08:11 \u001B[1m\u001B[32mlibmmgr_dal_Ludl\u001B[m\u001B[m\r\n",
      "-rwxr-xr-x    1 admin   294584 Aug  4 08:11 \u001B[1m\u001B[32mlibmmgr_dal_LudlLow\u001B[m\u001B[m\r\n",
      "-rwxr-xr-x    1 admin   195304 Aug  4 08:11 \u001B[1m\u001B[32mlibmmgr_dal_LumencorSpectra\u001B[m\u001B[m\r\n",
      "-rwxr-xr-x    1 admin   328592 Aug  4 08:11 \u001B[1m\u001B[32mlibmmgr_dal_MP285\u001B[m\u001B[m\r\n",
      "-rwxr-xr-x    1 admin   199320 Aug  4 08:11 \u001B[1m\u001B[32mlibmmgr_dal_MPBLaser\u001B[m\u001B[m\r\n",
      "-rwxr-xr-x    1 admin   202496 Aug  4 08:11 \u001B[1m\u001B[32mlibmmgr_dal_MaestroServo\u001B[m\u001B[m\r\n",
      "-rwxr-xr-x    1 admin   421704 Aug  4 08:11 \u001B[1m\u001B[32mlibmmgr_dal_Marzhauser\u001B[m\u001B[m\r\n",
      "-rwxr-xr-x    1 admin   264608 Aug  4 08:11 \u001B[1m\u001B[32mlibmmgr_dal_MarzhauserLStep\u001B[m\u001B[m\r\n",
      "-rwxr-xr-x    1 admin   196752 Aug  4 08:11 \u001B[1m\u001B[32mlibmmgr_dal_MarzhauserLStepOld\u001B[m\u001B[m\r\n",
      "-rwxr-xr-x    1 admin   305568 Aug  4 08:11 \u001B[1m\u001B[32mlibmmgr_dal_MicroFPGA\u001B[m\u001B[m\r\n",
      "-rwxr-xr-x    1 admin   195296 Aug  4 08:11 \u001B[1m\u001B[32mlibmmgr_dal_MicroPoint\u001B[m\u001B[m\r\n",
      "-rwxr-xr-x    1 admin   229664 Aug  4 08:11 \u001B[1m\u001B[32mlibmmgr_dal_MoticUCam\u001B[m\u001B[m\r\n",
      "-rwxr-xr-x    1 admin   312104 Aug  4 08:11 \u001B[1m\u001B[32mlibmmgr_dal_NNLC\u001B[m\u001B[m\r\n",
      "-rwxr-xr-x    1 admin   189664 Aug  4 08:11 \u001B[1m\u001B[32mlibmmgr_dal_Neos\u001B[m\u001B[m\r\n",
      "-rwxr-xr-x    1 admin   236136 Aug  4 08:11 \u001B[1m\u001B[32mlibmmgr_dal_NewportCONEX\u001B[m\u001B[m\r\n",
      "-rwxr-xr-x    1 admin   213272 Aug  4 08:11 \u001B[1m\u001B[32mlibmmgr_dal_NewportSMC\u001B[m\u001B[m\r\n",
      "-rwxr-xr-x    1 admin   260208 Aug  4 08:11 \u001B[1m\u001B[32mlibmmgr_dal_Nikon\u001B[m\u001B[m\r\n",
      "-rwxr-xr-x    1 admin   280568 Aug  4 08:11 \u001B[1m\u001B[32mlibmmgr_dal_NikonAZ100\u001B[m\u001B[m\r\n",
      "-rwxr-xr-x    1 admin   424992 Aug  4 08:11 \u001B[1m\u001B[32mlibmmgr_dal_NikonEclipse90i\u001B[m\u001B[m\r\n",
      "-rwxr-xr-x    1 admin   469400 Aug  4 08:11 \u001B[1m\u001B[32mlibmmgr_dal_NikonTE2000\u001B[m\u001B[m\r\n",
      "-rwxr-xr-x    1 admin   219496 Aug  4 08:11 \u001B[1m\u001B[32mlibmmgr_dal_OVP_ECS2\u001B[m\u001B[m\r\n",
      "-rwxr-xr-x    1 admin   387408 Aug  4 08:11 \u001B[1m\u001B[32mlibmmgr_dal_Olympus\u001B[m\u001B[m\r\n",
      "-rwxr-xr-x    1 admin   266144 Aug  4 08:11 \u001B[1m\u001B[32mlibmmgr_dal_Omicron\u001B[m\u001B[m\r\n",
      "-rwxr-xr-x    1 admin  4297736 Aug  4 08:11 \u001B[1m\u001B[32mlibmmgr_dal_OpenCVgrabber\u001B[m\u001B[m\r\n",
      "-rwxr-xr-x    1 admin   213664 Aug  4 08:11 \u001B[1m\u001B[32mlibmmgr_dal_Oxxius\u001B[m\u001B[m\r\n",
      "-rwxr-xr-x    1 admin   293040 Aug  4 08:11 \u001B[1m\u001B[32mlibmmgr_dal_OxxiusCombiner\u001B[m\u001B[m\r\n",
      "-rwxr-xr-x    1 admin   193968 Aug  4 08:11 \u001B[1m\u001B[32mlibmmgr_dal_PI\u001B[m\u001B[m\r\n",
      "-rwxr-xr-x    1 admin   240256 Aug  4 08:11 \u001B[1m\u001B[32mlibmmgr_dal_PIEZOCONCEPT\u001B[m\u001B[m\r\n",
      "-rwxr-xr-x    1 admin   194216 Aug  4 08:11 \u001B[1m\u001B[32mlibmmgr_dal_PIGCS\u001B[m\u001B[m\r\n",
      "-rwxr-xr-x    1 admin   353904 Aug  4 08:11 \u001B[1m\u001B[32mlibmmgr_dal_PIGCS2\u001B[m\u001B[m\r\n",
      "-rwxr-xr-x    1 admin   256472 Aug  4 08:11 \u001B[1m\u001B[32mlibmmgr_dal_Pecon\u001B[m\u001B[m\r\n",
      "-rwxr-xr-x    1 admin   317016 Aug  4 08:11 \u001B[1m\u001B[32mlibmmgr_dal_Piezosystem_30DV50\u001B[m\u001B[m\r\n",
      "-rwxr-xr-x    1 admin   219896 Aug  4 08:11 \u001B[1m\u001B[32mlibmmgr_dal_Piezosystem_NV120_1\u001B[m\u001B[m\r\n",
      "-rwxr-xr-x    1 admin   195368 Aug  4 08:11 \u001B[1m\u001B[32mlibmmgr_dal_Piezosystem_NV40_1\u001B[m\u001B[m\r\n",
      "-rwxr-xr-x    1 admin   285864 Aug  4 08:11 \u001B[1m\u001B[32mlibmmgr_dal_Piezosystem_NV40_3\u001B[m\u001B[m\r\n",
      "-rwxr-xr-x    1 admin   744528 Aug  4 08:11 \u001B[1m\u001B[32mlibmmgr_dal_Piezosystem_dDrive\u001B[m\u001B[m\r\n",
      "-rwxr-xr-x    1 admin   194336 Aug  4 08:11 \u001B[1m\u001B[32mlibmmgr_dal_Polychrome5000\u001B[m\u001B[m\r\n",
      "-rwxr-xr-x    1 admin   198128 Aug  4 08:11 \u001B[1m\u001B[32mlibmmgr_dal_PrecisExcite\u001B[m\u001B[m\r\n",
      "-rwxr-xr-x    1 admin   380176 Aug  4 08:11 \u001B[1m\u001B[32mlibmmgr_dal_Prior\u001B[m\u001B[m\r\n",
      "-rwxr-xr-x    1 admin   223352 Aug  4 08:11 \u001B[1m\u001B[32mlibmmgr_dal_PriorLegacy\u001B[m\u001B[m\r\n",
      "-rwxr-xr-x    1 admin   277648 Aug  4 08:11 \u001B[1m\u001B[32mlibmmgr_dal_RAMPS\u001B[m\u001B[m\r\n",
      "-rwxr-xr-x    1 admin   215872 Aug  4 08:11 \u001B[1m\u001B[32mlibmmgr_dal_Sapphire\u001B[m\u001B[m\r\n",
      "-rwxr-xr-x    1 admin   224400 Aug  4 08:11 \u001B[1m\u001B[32mlibmmgr_dal_Scientifica\u001B[m\u001B[m\r\n",
      "-rwxr-xr-x    1 admin  1468184 Aug  4 08:11 \u001B[1m\u001B[32mlibmmgr_dal_SequenceTester\u001B[m\u001B[m\r\n",
      "-rwxr-xr-x    1 admin   713856 Aug  4 08:11 \u001B[1m\u001B[32mlibmmgr_dal_SerialManager\u001B[m\u001B[m\r\n",
      "-rwxr-xr-x    1 admin   262376 Aug  4 08:11 \u001B[1m\u001B[32mlibmmgr_dal_Skyra\u001B[m\u001B[m\r\n",
      "-rwxr-xr-x    1 admin   242200 Aug  4 08:11 \u001B[1m\u001B[32mlibmmgr_dal_SmarActHCU3D\u001B[m\u001B[m\r\n",
      "-rwxr-xr-x    1 admin   197872 Aug  4 08:11 \u001B[1m\u001B[32mlibmmgr_dal_SouthPort\u001B[m\u001B[m\r\n",
      "-rwxr-xr-x    1 admin   229920 Aug  4 08:11 \u001B[1m\u001B[32mlibmmgr_dal_SpectralLMM5\u001B[m\u001B[m\r\n",
      "-rwxr-xr-x    1 admin   201520 Aug  4 08:11 \u001B[1m\u001B[32mlibmmgr_dal_StarlightXpress\u001B[m\u001B[m\r\n",
      "-rwxr-xr-x    1 admin   228848 Aug  4 08:11 \u001B[1m\u001B[32mlibmmgr_dal_Stradus\u001B[m\u001B[m\r\n",
      "-rwxr-xr-x    1 admin   355424 Aug  4 08:11 \u001B[1m\u001B[32mlibmmgr_dal_SutterLambda\u001B[m\u001B[m\r\n",
      "-rwxr-xr-x    1 admin   292552 Aug  4 08:11 \u001B[1m\u001B[32mlibmmgr_dal_SutterLambda2\u001B[m\u001B[m\r\n",
      "-rwxr-xr-x    1 admin   215632 Aug  4 08:11 \u001B[1m\u001B[32mlibmmgr_dal_SutterLambdaParallelArduino\u001B[m\u001B[m\r\n",
      "-rwxr-xr-x    1 admin   293720 Aug  4 08:11 \u001B[1m\u001B[32mlibmmgr_dal_SutterMPC\u001B[m\u001B[m\r\n",
      "-rwxr-xr-x    1 admin   273808 Aug  4 08:11 \u001B[1m\u001B[32mlibmmgr_dal_SutterStage\u001B[m\u001B[m\r\n",
      "-rwxr-xr-x    1 admin   301096 Aug  4 08:11 \u001B[1m\u001B[32mlibmmgr_dal_ThorLabs\u001B[m\u001B[m\r\n",
      "-rwxr-xr-x    1 admin   188464 Aug  4 08:11 \u001B[1m\u001B[32mlibmmgr_dal_ThorLabsSC10\u001B[m\u001B[m\r\n",
      "-rwxr-xr-x    1 admin   327616 Aug  4 08:11 \u001B[1m\u001B[32mlibmmgr_dal_ThorlabsDCxxxx\u001B[m\u001B[m\r\n",
      "-rwxr-xr-x    1 admin   304136 Aug  4 08:11 \u001B[1m\u001B[32mlibmmgr_dal_ThorlabsElliptecSlider\u001B[m\u001B[m\r\n",
      "-rwxr-xr-x    1 admin   196216 Aug  4 08:11 \u001B[1m\u001B[32mlibmmgr_dal_ThorlabsFilterWheel\u001B[m\u001B[m\r\n",
      "-rwxr-xr-x    1 admin   212752 Aug  4 08:11 \u001B[1m\u001B[32mlibmmgr_dal_Thorlabs_ELL14\u001B[m\u001B[m\r\n",
      "-rwxr-xr-x    1 admin   388560 Aug  4 08:11 \u001B[1m\u001B[32mlibmmgr_dal_Tofra\u001B[m\u001B[m\r\n",
      "-rwxr-xr-x    1 admin   277768 Aug  4 08:11 \u001B[1m\u001B[32mlibmmgr_dal_Toptica_iBeamSmartCW\u001B[m\u001B[m\r\n",
      "-rwxr-xr-x    1 admin   324072 Aug  4 08:11 \u001B[1m\u001B[32mlibmmgr_dal_TriggerScope\u001B[m\u001B[m\r\n",
      "-rwxr-xr-x    1 admin   280640 Aug  4 08:11 \u001B[1m\u001B[32mlibmmgr_dal_TriggerScopeMM\u001B[m\u001B[m\r\n",
      "-rwxr-xr-x    1 admin   316600 Aug  4 08:11 \u001B[1m\u001B[32mlibmmgr_dal_USBManager\u001B[m\u001B[m\r\n",
      "-rwxr-xr-x    1 admin   400616 Aug  4 08:11 \u001B[1m\u001B[32mlibmmgr_dal_UserDefinedSerial\u001B[m\u001B[m\r\n",
      "-rwxr-xr-x    1 admin   686648 Aug  4 20:01 \u001B[1m\u001B[32mlibmmgr_dal_Utilities\u001B[m\u001B[m\r\n",
      "-rwxr-xr-x    1 admin     1039 Aug  4 20:01 \u001B[1m\u001B[32mlibmmgr_dal_Utilities.la\u001B[m\u001B[m\r\n",
      "-rwxr-xr-x    1 admin   213680 Aug  4 08:11 \u001B[1m\u001B[32mlibmmgr_dal_VariLC\u001B[m\u001B[m\r\n",
      "-rwxr-xr-x    1 admin   195424 Aug  4 08:11 \u001B[1m\u001B[32mlibmmgr_dal_VarispecLCTF\u001B[m\u001B[m\r\n",
      "-rwxr-xr-x    1 admin   217560 Aug  4 08:11 \u001B[1m\u001B[32mlibmmgr_dal_VersaLase\u001B[m\u001B[m\r\n",
      "-rwxr-xr-x    1 admin   202968 Aug  4 08:11 \u001B[1m\u001B[32mlibmmgr_dal_Vincent\u001B[m\u001B[m\r\n",
      "-rwxr-xr-x    1 admin   285424 Aug  4 08:11 \u001B[1m\u001B[32mlibmmgr_dal_WieneckeSinske\u001B[m\u001B[m\r\n",
      "-rwxr-xr-x    1 admin   273200 Aug  4 08:11 \u001B[1m\u001B[32mlibmmgr_dal_XCite120PCExacte\u001B[m\u001B[m\r\n",
      "-rwxr-xr-x    1 admin   325816 Aug  4 08:11 \u001B[1m\u001B[32mlibmmgr_dal_XCiteLed\u001B[m\u001B[m\r\n",
      "-rwxr-xr-x    1 admin   325432 Aug  4 08:11 \u001B[1m\u001B[32mlibmmgr_dal_XCiteXT600\u001B[m\u001B[m\r\n",
      "-rwxr-xr-x    1 admin   333552 Aug  4 08:11 \u001B[1m\u001B[32mlibmmgr_dal_XLight\u001B[m\u001B[m\r\n",
      "-rwxr-xr-x    1 admin   243024 Aug  4 08:11 \u001B[1m\u001B[32mlibmmgr_dal_XLightV3\u001B[m\u001B[m\r\n",
      "-rwxr-xr-x    1 admin   194320 Aug  4 08:11 \u001B[1m\u001B[32mlibmmgr_dal_Xcite\u001B[m\u001B[m\r\n",
      "-rwxr-xr-x    1 admin   201592 Aug  4 08:11 \u001B[1m\u001B[32mlibmmgr_dal_YodnE600\u001B[m\u001B[m\r\n",
      "-rwxr-xr-x    1 admin   375240 Aug  4 08:11 \u001B[1m\u001B[32mlibmmgr_dal_Zaber\u001B[m\u001B[m\r\n",
      "-rwxr-xr-x    1 admin   622128 Aug  4 08:11 \u001B[1m\u001B[32mlibmmgr_dal_ZeissCAN\u001B[m\u001B[m\r\n",
      "-rwxr-xr-x    1 admin   538288 Aug  4 08:11 \u001B[1m\u001B[32mlibmmgr_dal_ZeissCAN29\u001B[m\u001B[m\r\n",
      "-rwxr-xr-x    1 admin   695512 Aug  4 08:11 \u001B[1m\u001B[32mlibmmgr_dal_dc1394\u001B[m\u001B[m\r\n",
      "-rwxr-xr-x    1 admin   257440 Aug  4 08:11 \u001B[1m\u001B[32mlibmmgr_dal_nPoint\u001B[m\u001B[m\r\n",
      "-rwxr-xr-x    1 admin   269736 Aug  4 08:11 \u001B[1m\u001B[32mlibmmgr_dal_pgFocus\u001B[m\u001B[m\r\n",
      "drwxr-xr-x   29 admin      928 Aug  4 08:11 \u001B[1m\u001B[36mluts\u001B[m\u001B[m\r\n",
      "drwxr-xr-x    4 admin      128 Aug  4 08:11 \u001B[1m\u001B[36mmacros\u001B[m\u001B[m\r\n",
      "drwxr-xr-x    8 admin      256 Aug  4 19:47 \u001B[1m\u001B[36mmmautofocus\u001B[m\u001B[m\r\n",
      "drwxr-xr-x   31 admin      992 Aug  4 08:11 \u001B[1m\u001B[36mmmplugins\u001B[m\u001B[m\r\n",
      "drwxr-xr-x    3 admin       96 Aug  4 08:11 \u001B[1m\u001B[36mnatives\u001B[m\u001B[m\r\n",
      "drwxr-xr-x    4 admin      128 Aug  4 08:11 \u001B[1m\u001B[36mplugins\u001B[m\u001B[m\r\n",
      "drwxr-xr-x   22 admin      704 Aug  4 08:11 \u001B[1m\u001B[36mscripts\u001B[m\u001B[m\r\n"
     ]
    }
   ],
   "source": [
    "! ls -lga '{micromanager_path}' "
   ],
   "metadata": {
    "collapsed": false,
    "ExecuteTime": {
     "end_time": "2023-08-17T11:49:14.088609Z",
     "start_time": "2023-08-17T11:49:13.592907Z"
    }
   },
   "id": "e5ff699a3f9d9d09"
  },
  {
   "cell_type": "code",
   "execution_count": 64,
   "outputs": [
    {
     "data": {
      "text/plain": "'/Applications/Micro-Managerlibmmgr_dal_ASIStage'"
     },
     "execution_count": 64,
     "metadata": {},
     "output_type": "execute_result"
    }
   ],
   "source": [
    "asi_stage_adapter = micromanager_path + \"libmmgr_dal_ASIStage\"\n",
    "# device.load('ASIStage')\n",
    "mmc.getAdapterObject(asi_stage_adapter).name"
   ],
   "metadata": {
    "collapsed": false,
    "ExecuteTime": {
     "end_time": "2023-08-17T11:49:14.088684Z",
     "start_time": "2023-08-17T11:49:13.716190Z"
    }
   },
   "id": "131654326058a108"
  },
  {
   "cell_type": "code",
   "execution_count": 65,
   "outputs": [],
   "source": [
    "device.load('DemoCamera', 'DCam')\n"
   ],
   "metadata": {
    "collapsed": false,
    "ExecuteTime": {
     "end_time": "2023-08-17T11:49:14.088721Z",
     "start_time": "2023-08-17T11:49:13.718633Z"
    }
   },
   "id": "b7d56d2ac5fa1e9c"
  },
  {
   "cell_type": "code",
   "execution_count": 66,
   "outputs": [],
   "source": [
    "device.unload()"
   ],
   "metadata": {
    "collapsed": false,
    "ExecuteTime": {
     "end_time": "2023-08-17T11:49:14.088759Z",
     "start_time": "2023-08-17T11:49:13.720543Z"
    }
   },
   "id": "44bdf47bec31f28e"
  },
  {
   "cell_type": "code",
   "execution_count": 67,
   "outputs": [],
   "source": [
    "device.load('DemoCamera', 'DCam')\n"
   ],
   "metadata": {
    "collapsed": false,
    "ExecuteTime": {
     "end_time": "2023-08-17T11:49:14.088799Z",
     "start_time": "2023-08-17T11:49:13.722334Z"
    }
   },
   "id": "890186e3e95f9875"
  },
  {
   "cell_type": "code",
   "execution_count": 68,
   "outputs": [
    {
     "data": {
      "text/plain": "(<Property 'Stage::HubID' on CMMCorePlus at 0x1178c2430: value=''>,\n <Property 'Stage::MaximumExposureMs' on CMMCorePlus at 0x1178c2430: value=10000.0>,\n <Property 'Stage::TransposeCorrection' on CMMCorePlus at 0x1178c2430: value=0>,\n <Property 'Stage::TransposeMirrorX' on CMMCorePlus at 0x1178c2430: value=0>,\n <Property 'Stage::TransposeMirrorY' on CMMCorePlus at 0x1178c2430: value=0>,\n <Property 'Stage::TransposeXY' on CMMCorePlus at 0x1178c2430: value=0>)"
     },
     "execution_count": 68,
     "metadata": {},
     "output_type": "execute_result"
    }
   ],
   "source": [
    "device.properties"
   ],
   "metadata": {
    "collapsed": false,
    "ExecuteTime": {
     "end_time": "2023-08-17T11:49:14.088881Z",
     "start_time": "2023-08-17T11:49:13.724505Z"
    }
   },
   "id": "149caa3e057fe921"
  },
  {
   "cell_type": "markdown",
   "source": [
    "Examples\n",
    ">>> core = CMMCorePlus()\n",
    ">>> device = Device('Camera', core)\n",
    ">>> device.isLoaded()\n",
    ">>> device.load('NotALib', 'DCam')  # useful error\n",
    ">>> device.load('DemoCamera', 'DCam')\n",
    ">>> device.initialize()\n",
    ">>> device.load('DemoCamera', 'DCam')  # no-op w/ useful warning\n",
    ">>> device.properties  # tuple of DeviceProperty objects\n",
    ">>> device.description()\n",
    ">>> device.isBusy()\n",
    ">>> device.wait()\n",
    ">>> device.type()\n",
    ">>> device.schema()  # JSON schema of device properties\n",
    "Params:\n",
    "device_label – Device this property belongs to\n",
    "mmcore – CMMCorePlus instance"
   ],
   "metadata": {
    "collapsed": false
   },
   "id": "45c415306e495eff"
  },
  {
   "cell_type": "code",
   "execution_count": 69,
   "outputs": [],
   "source": [
    "camera_device = Device('Camera', mmc)"
   ],
   "metadata": {
    "collapsed": false,
    "ExecuteTime": {
     "end_time": "2023-08-17T11:49:14.088916Z",
     "start_time": "2023-08-17T11:49:13.727173Z"
    }
   },
   "id": "45ddd8148f41b907"
  },
  {
   "cell_type": "code",
   "execution_count": 70,
   "outputs": [
    {
     "data": {
      "text/plain": "(<Property 'Camera::AllowMultiROI' on CMMCorePlus at 0x1178c2430: value=0>,\n <Property 'Camera::AsyncPropertyDelayMS' on CMMCorePlus at 0x1178c2430: value=2000>,\n <Property 'Camera::AsyncPropertyFollower' on CMMCorePlus at 0x1178c2430: value=''>,\n <Property 'Camera::AsyncPropertyLeader' on CMMCorePlus at 0x1178c2430: value=''>,\n <Property 'Camera::Binning' on CMMCorePlus at 0x1178c2430: value=1>,\n <Property 'Camera::BitDepth' on CMMCorePlus at 0x1178c2430: value=16>,\n <Property 'Camera::CCDTemperature' on CMMCorePlus at 0x1178c2430: value=0.0>,\n <Property 'Camera::CCDTemperature RO' on CMMCorePlus at 0x1178c2430: value=0.0>,\n <Property 'Camera::CameraID' on CMMCorePlus at 0x1178c2430: value='V1.0'>,\n <Property 'Camera::CameraName' on CMMCorePlus at 0x1178c2430: value='DemoCamera-MultiMode'>,\n <Property 'Camera::Description' on CMMCorePlus at 0x1178c2430: value='Demo Camera Device Adapter'>,\n <Property 'Camera::DisplayImageNumber' on CMMCorePlus at 0x1178c2430: value=0>,\n <Property 'Camera::DropPixels' on CMMCorePlus at 0x1178c2430: value=0>,\n <Property 'Camera::Exposure' on CMMCorePlus at 0x1178c2430: value=10.0>,\n <Property 'Camera::FastImage' on CMMCorePlus at 0x1178c2430: value=0>,\n <Property 'Camera::FractionOfPixelsToDropOrSaturate' on CMMCorePlus at 0x1178c2430: value=0.002>,\n <Property 'Camera::Gain' on CMMCorePlus at 0x1178c2430: value=0>,\n <Property 'Camera::HubID' on CMMCorePlus at 0x1178c2430: value=''>,\n <Property 'Camera::MaximumExposureMs' on CMMCorePlus at 0x1178c2430: value=10000.0>,\n <Property 'Camera::Mode' on CMMCorePlus at 0x1178c2430: value='Artificial Waves'>,\n <Property 'Camera::MultiROIFillValue' on CMMCorePlus at 0x1178c2430: value=0>,\n <Property 'Camera::Name' on CMMCorePlus at 0x1178c2430: value='DCam'>,\n <Property 'Camera::Offset' on CMMCorePlus at 0x1178c2430: value=0>,\n <Property 'Camera::OnCameraCCDXSize' on CMMCorePlus at 0x1178c2430: value=512>,\n <Property 'Camera::OnCameraCCDYSize' on CMMCorePlus at 0x1178c2430: value=512>,\n <Property 'Camera::Photon Conversion Factor' on CMMCorePlus at 0x1178c2430: value=1.0>,\n <Property 'Camera::Photon Flux' on CMMCorePlus at 0x1178c2430: value=50.0>,\n <Property 'Camera::PixelType' on CMMCorePlus at 0x1178c2430: value='16bit'>,\n <Property 'Camera::ReadNoise (electrons)' on CMMCorePlus at 0x1178c2430: value=2.5>,\n <Property 'Camera::ReadoutTime' on CMMCorePlus at 0x1178c2430: value=0.0>,\n <Property 'Camera::RotateImages' on CMMCorePlus at 0x1178c2430: value=0>,\n <Property 'Camera::SaturatePixels' on CMMCorePlus at 0x1178c2430: value=0>,\n <Property 'Camera::ScanMode' on CMMCorePlus at 0x1178c2430: value=1>,\n <Property 'Camera::SimulateCrash' on CMMCorePlus at 0x1178c2430: value=''>,\n <Property 'Camera::StripeWidth' on CMMCorePlus at 0x1178c2430: value=1.0>,\n <Property 'Camera::TestProperty1' on CMMCorePlus at 0x1178c2430: value=0.0>,\n <Property 'Camera::TestProperty2' on CMMCorePlus at 0x1178c2430: value=0.0>,\n <Property 'Camera::TestProperty3' on CMMCorePlus at 0x1178c2430: value=0.0>,\n <Property 'Camera::TestProperty4' on CMMCorePlus at 0x1178c2430: value=0.0>,\n <Property 'Camera::TestProperty5' on CMMCorePlus at 0x1178c2430: value=0.0>,\n <Property 'Camera::TestProperty6' on CMMCorePlus at 0x1178c2430: value=0.0>,\n <Property 'Camera::TransposeCorrection' on CMMCorePlus at 0x1178c2430: value=0>,\n <Property 'Camera::TransposeMirrorX' on CMMCorePlus at 0x1178c2430: value=0>,\n <Property 'Camera::TransposeMirrorY' on CMMCorePlus at 0x1178c2430: value=0>,\n <Property 'Camera::TransposeXY' on CMMCorePlus at 0x1178c2430: value=0>,\n <Property 'Camera::TriggerDevice' on CMMCorePlus at 0x1178c2430: value=''>,\n <Property 'Camera::UseExposureSequences' on CMMCorePlus at 0x1178c2430: value='No'>)"
     },
     "execution_count": 70,
     "metadata": {},
     "output_type": "execute_result"
    }
   ],
   "source": [
    "camera_props = camera_device.properties\n",
    "camera_props"
   ],
   "metadata": {
    "collapsed": false,
    "ExecuteTime": {
     "end_time": "2023-08-17T11:49:14.089056Z",
     "start_time": "2023-08-17T11:49:13.729023Z"
    }
   },
   "id": "3c14f3076b49b2f8"
  },
  {
   "cell_type": "code",
   "execution_count": 71,
   "outputs": [],
   "source": [
    "# camera_props.hasLimits()"
   ],
   "metadata": {
    "collapsed": false,
    "ExecuteTime": {
     "end_time": "2023-08-17T11:49:14.089091Z",
     "start_time": "2023-08-17T11:49:13.731700Z"
    }
   },
   "id": "f447c4a15741f10d"
  },
  {
   "cell_type": "code",
   "execution_count": 72,
   "outputs": [
    {
     "data": {
      "text/plain": "True"
     },
     "execution_count": 72,
     "metadata": {},
     "output_type": "execute_result"
    }
   ],
   "source": [
    "camera_device.isLoaded()"
   ],
   "metadata": {
    "collapsed": false,
    "ExecuteTime": {
     "end_time": "2023-08-17T11:49:14.089166Z",
     "start_time": "2023-08-17T11:49:13.733033Z"
    }
   },
   "id": "b931ba85a6681219"
  },
  {
   "cell_type": "code",
   "execution_count": 73,
   "outputs": [
    {
     "name": "stderr",
     "output_type": "stream",
     "text": [
      "/opt/homebrew/Caskroom/mambaforge/base/envs/microscope-gym/lib/python3.11/site-packages/pymmcore_plus/core/_device.py:113: UserWarning: Failed to load device \"DCam\" from adapter module \"DemoCamera\". Device 'Camera' appears to be loaded already.\n",
      "  self._mmc.loadDevice(self.label, adapter_name, device_name)\n"
     ]
    }
   ],
   "source": [
    "camera_device.load('DemoCamera', 'DCam')"
   ],
   "metadata": {
    "collapsed": false,
    "ExecuteTime": {
     "end_time": "2023-08-17T11:49:14.089236Z",
     "start_time": "2023-08-17T11:49:13.735935Z"
    }
   },
   "id": "ecea844baae82596"
  },
  {
   "cell_type": "code",
   "execution_count": 106,
   "outputs": [
    {
     "data": {
      "text/plain": "True"
     },
     "execution_count": 106,
     "metadata": {},
     "output_type": "execute_result"
    }
   ],
   "source": [
    "camera_device.isLoaded()"
   ],
   "metadata": {
    "collapsed": false,
    "ExecuteTime": {
     "end_time": "2023-08-17T11:49:52.427596Z",
     "start_time": "2023-08-17T11:49:52.413916Z"
    }
   },
   "id": "a7031d29791f6d67"
  },
  {
   "cell_type": "code",
   "execution_count": 75,
   "outputs": [],
   "source": [
    "camera_device.initialize()"
   ],
   "metadata": {
    "collapsed": false,
    "ExecuteTime": {
     "end_time": "2023-08-17T11:49:14.089336Z",
     "start_time": "2023-08-17T11:49:13.740774Z"
    }
   },
   "id": "10a69dc6e76b8afe"
  },
  {
   "cell_type": "code",
   "execution_count": 76,
   "outputs": [
    {
     "data": {
      "text/plain": "True"
     },
     "execution_count": 76,
     "metadata": {},
     "output_type": "execute_result"
    }
   ],
   "source": [
    "camera_device.isLoaded()"
   ],
   "metadata": {
    "collapsed": false,
    "ExecuteTime": {
     "end_time": "2023-08-17T11:49:14.089405Z",
     "start_time": "2023-08-17T11:49:13.742826Z"
    }
   },
   "id": "c1d358eaf11f411b"
  },
  {
   "cell_type": "code",
   "execution_count": 77,
   "outputs": [
    {
     "data": {
      "text/plain": "False"
     },
     "execution_count": 77,
     "metadata": {},
     "output_type": "execute_result"
    }
   ],
   "source": [
    "camera_device.isBusy()"
   ],
   "metadata": {
    "collapsed": false,
    "ExecuteTime": {
     "end_time": "2023-08-17T11:49:14.089476Z",
     "start_time": "2023-08-17T11:49:13.749115Z"
    }
   },
   "id": "699cb1d8426e7d47"
  },
  {
   "cell_type": "code",
   "execution_count": 78,
   "outputs": [
    {
     "data": {
      "text/plain": "(<Property 'Camera::AllowMultiROI' on CMMCorePlus at 0x1178c2430: value=0>,\n <Property 'Camera::AsyncPropertyDelayMS' on CMMCorePlus at 0x1178c2430: value=2000>,\n <Property 'Camera::AsyncPropertyFollower' on CMMCorePlus at 0x1178c2430: value=''>,\n <Property 'Camera::AsyncPropertyLeader' on CMMCorePlus at 0x1178c2430: value=''>,\n <Property 'Camera::Binning' on CMMCorePlus at 0x1178c2430: value=1>,\n <Property 'Camera::BitDepth' on CMMCorePlus at 0x1178c2430: value=16>,\n <Property 'Camera::CCDTemperature' on CMMCorePlus at 0x1178c2430: value=0.0>,\n <Property 'Camera::CCDTemperature RO' on CMMCorePlus at 0x1178c2430: value=0.0>,\n <Property 'Camera::CameraID' on CMMCorePlus at 0x1178c2430: value='V1.0'>,\n <Property 'Camera::CameraName' on CMMCorePlus at 0x1178c2430: value='DemoCamera-MultiMode'>,\n <Property 'Camera::Description' on CMMCorePlus at 0x1178c2430: value='Demo Camera Device Adapter'>,\n <Property 'Camera::DisplayImageNumber' on CMMCorePlus at 0x1178c2430: value=0>,\n <Property 'Camera::DropPixels' on CMMCorePlus at 0x1178c2430: value=0>,\n <Property 'Camera::Exposure' on CMMCorePlus at 0x1178c2430: value=10.0>,\n <Property 'Camera::FastImage' on CMMCorePlus at 0x1178c2430: value=0>,\n <Property 'Camera::FractionOfPixelsToDropOrSaturate' on CMMCorePlus at 0x1178c2430: value=0.002>,\n <Property 'Camera::Gain' on CMMCorePlus at 0x1178c2430: value=0>,\n <Property 'Camera::HubID' on CMMCorePlus at 0x1178c2430: value=''>,\n <Property 'Camera::MaximumExposureMs' on CMMCorePlus at 0x1178c2430: value=10000.0>,\n <Property 'Camera::Mode' on CMMCorePlus at 0x1178c2430: value='Artificial Waves'>,\n <Property 'Camera::MultiROIFillValue' on CMMCorePlus at 0x1178c2430: value=0>,\n <Property 'Camera::Name' on CMMCorePlus at 0x1178c2430: value='DCam'>,\n <Property 'Camera::Offset' on CMMCorePlus at 0x1178c2430: value=0>,\n <Property 'Camera::OnCameraCCDXSize' on CMMCorePlus at 0x1178c2430: value=512>,\n <Property 'Camera::OnCameraCCDYSize' on CMMCorePlus at 0x1178c2430: value=512>,\n <Property 'Camera::Photon Conversion Factor' on CMMCorePlus at 0x1178c2430: value=1.0>,\n <Property 'Camera::Photon Flux' on CMMCorePlus at 0x1178c2430: value=50.0>,\n <Property 'Camera::PixelType' on CMMCorePlus at 0x1178c2430: value='16bit'>,\n <Property 'Camera::ReadNoise (electrons)' on CMMCorePlus at 0x1178c2430: value=2.5>,\n <Property 'Camera::ReadoutTime' on CMMCorePlus at 0x1178c2430: value=0.0>,\n <Property 'Camera::RotateImages' on CMMCorePlus at 0x1178c2430: value=0>,\n <Property 'Camera::SaturatePixels' on CMMCorePlus at 0x1178c2430: value=0>,\n <Property 'Camera::ScanMode' on CMMCorePlus at 0x1178c2430: value=1>,\n <Property 'Camera::SimulateCrash' on CMMCorePlus at 0x1178c2430: value=''>,\n <Property 'Camera::StripeWidth' on CMMCorePlus at 0x1178c2430: value=1.0>,\n <Property 'Camera::TestProperty1' on CMMCorePlus at 0x1178c2430: value=0.0>,\n <Property 'Camera::TestProperty2' on CMMCorePlus at 0x1178c2430: value=0.0>,\n <Property 'Camera::TestProperty3' on CMMCorePlus at 0x1178c2430: value=0.0>,\n <Property 'Camera::TestProperty4' on CMMCorePlus at 0x1178c2430: value=0.0>,\n <Property 'Camera::TestProperty5' on CMMCorePlus at 0x1178c2430: value=0.0>,\n <Property 'Camera::TestProperty6' on CMMCorePlus at 0x1178c2430: value=0.0>,\n <Property 'Camera::TransposeCorrection' on CMMCorePlus at 0x1178c2430: value=0>,\n <Property 'Camera::TransposeMirrorX' on CMMCorePlus at 0x1178c2430: value=0>,\n <Property 'Camera::TransposeMirrorY' on CMMCorePlus at 0x1178c2430: value=0>,\n <Property 'Camera::TransposeXY' on CMMCorePlus at 0x1178c2430: value=0>,\n <Property 'Camera::TriggerDevice' on CMMCorePlus at 0x1178c2430: value=''>,\n <Property 'Camera::UseExposureSequences' on CMMCorePlus at 0x1178c2430: value='No'>)"
     },
     "execution_count": 78,
     "metadata": {},
     "output_type": "execute_result"
    }
   ],
   "source": [
    "camera_device.properties"
   ],
   "metadata": {
    "collapsed": false,
    "ExecuteTime": {
     "end_time": "2023-08-17T11:49:14.089613Z",
     "start_time": "2023-08-17T11:49:13.751353Z"
    }
   },
   "id": "86243e58047181e5"
  },
  {
   "cell_type": "code",
   "execution_count": 79,
   "outputs": [
    {
     "data": {
      "text/plain": "{'title': 'DCam',\n 'description': 'Demo camera',\n 'type': 'object',\n 'properties': {'AllowMultiROI': {'type': 'boolean'},\n  'AsyncPropertyDelayMS': {'type': 'integer'},\n  'AsyncPropertyFollower': {'type': 'string', 'readOnly': True, 'default': ''},\n  'AsyncPropertyLeader': {'type': 'string'},\n  'Binning': {'type': 'integer', 'enum': [1, 2, 4, 8]},\n  'BitDepth': {'type': 'integer', 'enum': [10, 11, 12, 14, 16, 32, 8]},\n  'CCDTemperature': {'type': 'number', 'minimum': -100.0, 'maximum': 10.0},\n  'CCDTemperature RO': {'type': 'number', 'readOnly': True, 'default': 0.0},\n  'CameraID': {'type': 'string', 'readOnly': True, 'default': 'V1.0'},\n  'CameraName': {'type': 'string',\n   'readOnly': True,\n   'default': 'DemoCamera-MultiMode'},\n  'Description': {'type': 'string',\n   'readOnly': True,\n   'default': 'Demo Camera Device Adapter'},\n  'DisplayImageNumber': {'type': 'boolean'},\n  'DropPixels': {'type': 'boolean'},\n  'Exposure': {'type': 'number', 'minimum': 0.0, 'maximum': 10000.0},\n  'FastImage': {'type': 'boolean'},\n  'FractionOfPixelsToDropOrSaturate': {'type': 'number',\n   'minimum': 0.0,\n   'maximum': 0.1},\n  'Gain': {'type': 'integer', 'minimum': -5.0, 'maximum': 8.0},\n  'HubID': {'type': 'string', 'readOnly': True, 'default': ''},\n  'MaximumExposureMs': {'type': 'number', 'preInit': True},\n  'Mode': {'type': 'string',\n   'enum': ['Artificial Waves', 'Color Test Pattern', 'Noise']},\n  'MultiROIFillValue': {'type': 'integer', 'minimum': 0.0, 'maximum': 65536.0},\n  'Name': {'type': 'string', 'readOnly': True, 'default': 'DCam'},\n  'Offset': {'type': 'integer'},\n  'OnCameraCCDXSize': {'type': 'integer'},\n  'OnCameraCCDYSize': {'type': 'integer'},\n  'Photon Conversion Factor': {'type': 'number',\n   'minimum': 0.01,\n   'maximum': 10.0},\n  'Photon Flux': {'type': 'number', 'minimum': 2.0, 'maximum': 5000.0},\n  'PixelType': {'type': 'string',\n   'enum': ['16bit', '32bit', '32bitRGB', '64bitRGB', '8bit']},\n  'ReadNoise (electrons)': {'type': 'number',\n   'minimum': 0.25,\n   'maximum': 50.0},\n  'ReadoutTime': {'type': 'number'},\n  'RotateImages': {'type': 'boolean'},\n  'SaturatePixels': {'type': 'boolean'},\n  'ScanMode': {'type': 'integer', 'enum': [1, 2, 3]},\n  'SimulateCrash': {'type': 'string',\n   'enum': ['', 'Dereference Null Pointer', 'Divide by Zero']},\n  'StripeWidth': {'type': 'number', 'minimum': 0.0, 'maximum': 10.0},\n  'TestProperty1': {'type': 'number', 'minimum': -0.1, 'maximum': 0.1},\n  'TestProperty2': {'type': 'number', 'minimum': -200.0, 'maximum': 200.0},\n  'TestProperty3': {'type': 'number', 'minimum': 0.0, 'maximum': 0.003},\n  'TestProperty4': {'type': 'number', 'minimum': -40000.0, 'maximum': 40000.0},\n  'TestProperty5': {'type': 'number'},\n  'TestProperty6': {'type': 'number', 'minimum': 0.0, 'maximum': 6000000.0},\n  'TransposeCorrection': {'type': 'boolean'},\n  'TransposeMirrorX': {'type': 'boolean'},\n  'TransposeMirrorY': {'type': 'boolean'},\n  'TransposeXY': {'type': 'boolean'},\n  'TriggerDevice': {'type': 'string'},\n  'UseExposureSequences': {'type': 'string', 'enum': ['No', 'Yes']}}}"
     },
     "execution_count": 79,
     "metadata": {},
     "output_type": "execute_result"
    }
   ],
   "source": [
    "camera_device.schema()"
   ],
   "metadata": {
    "collapsed": false,
    "ExecuteTime": {
     "end_time": "2023-08-17T11:49:14.089748Z",
     "start_time": "2023-08-17T11:49:13.754237Z"
    }
   },
   "id": "f2ecca8d84b6c54d"
  },
  {
   "cell_type": "code",
   "execution_count": 80,
   "outputs": [
    {
     "data": {
      "text/plain": "<Property 'Camera::HubID' on CMMCorePlus at 0x1178c2430: value=''>"
     },
     "execution_count": 80,
     "metadata": {},
     "output_type": "execute_result"
    }
   ],
   "source": [
    "props = DeviceProperty('Camera', 'HubID', mmc)\n",
    "props"
   ],
   "metadata": {
    "collapsed": false,
    "ExecuteTime": {
     "end_time": "2023-08-17T11:49:14.089819Z",
     "start_time": "2023-08-17T11:49:13.758497Z"
    }
   },
   "id": "22a53df9f31735c0"
  },
  {
   "cell_type": "code",
   "execution_count": 81,
   "outputs": [
    {
     "data": {
      "text/plain": "False"
     },
     "execution_count": 81,
     "metadata": {},
     "output_type": "execute_result"
    }
   ],
   "source": [
    "props.hasLimits()"
   ],
   "metadata": {
    "collapsed": false,
    "ExecuteTime": {
     "end_time": "2023-08-17T11:49:14.089891Z",
     "start_time": "2023-08-17T11:49:13.760852Z"
    }
   },
   "id": "25af53a41eea593"
  },
  {
   "cell_type": "code",
   "execution_count": 82,
   "outputs": [
    {
     "data": {
      "text/plain": "<bound method DeviceProperty.range of <Property 'Camera::HubID' on CMMCorePlus at 0x1178c2430: value=''>>"
     },
     "execution_count": 82,
     "metadata": {},
     "output_type": "execute_result"
    }
   ],
   "source": [
    "props.range"
   ],
   "metadata": {
    "collapsed": false,
    "ExecuteTime": {
     "end_time": "2023-08-17T11:49:14.089963Z",
     "start_time": "2023-08-17T11:49:13.762942Z"
    }
   },
   "id": "70ad7c58d44dfe5a"
  },
  {
   "cell_type": "code",
   "execution_count": 83,
   "outputs": [
    {
     "data": {
      "text/plain": "'Demo camera'"
     },
     "execution_count": 83,
     "metadata": {},
     "output_type": "execute_result"
    }
   ],
   "source": [
    "camera_device.description()"
   ],
   "metadata": {
    "collapsed": false,
    "ExecuteTime": {
     "end_time": "2023-08-17T11:49:14.090033Z",
     "start_time": "2023-08-17T11:49:13.765280Z"
    }
   },
   "id": "6045e0c3b4f1919e"
  },
  {
   "cell_type": "code",
   "execution_count": 84,
   "outputs": [
    {
     "data": {
      "text/plain": "'Camera'"
     },
     "execution_count": 84,
     "metadata": {},
     "output_type": "execute_result"
    }
   ],
   "source": [
    "mmc.getCameraDevice()"
   ],
   "metadata": {
    "collapsed": false,
    "ExecuteTime": {
     "end_time": "2023-08-17T11:49:14.090103Z",
     "start_time": "2023-08-17T11:49:13.767503Z"
    }
   },
   "id": "302ed27c95db1a0f"
  },
  {
   "cell_type": "code",
   "execution_count": 85,
   "outputs": [
    {
     "data": {
      "text/plain": "{'valid': True,\n 'value': '',\n 'type': 'string',\n 'device_type': 'CameraDevice',\n 'read_only': False,\n 'sequenceable': False,\n 'sequence_max_length': None,\n 'pre_init': False,\n 'range': None,\n 'allowed_values': ()}"
     },
     "execution_count": 85,
     "metadata": {},
     "output_type": "execute_result"
    }
   ],
   "source": [
    "camera_device.getPropertyObject('TriggerDevice').dict()"
   ],
   "metadata": {
    "collapsed": false,
    "ExecuteTime": {
     "end_time": "2023-08-17T11:49:14.090177Z",
     "start_time": "2023-08-17T11:49:13.769514Z"
    }
   },
   "id": "9cd0c3ad934ab9d2"
  },
  {
   "cell_type": "code",
   "execution_count": 86,
   "outputs": [
    {
     "data": {
      "text/plain": "{'valid': True,\n 'value': 'Artificial Waves',\n 'type': 'string',\n 'device_type': 'CameraDevice',\n 'read_only': False,\n 'sequenceable': False,\n 'sequence_max_length': None,\n 'pre_init': False,\n 'range': None,\n 'allowed_values': ('Artificial Waves', 'Color Test Pattern', 'Noise')}"
     },
     "execution_count": 86,
     "metadata": {},
     "output_type": "execute_result"
    }
   ],
   "source": [
    "camera_device.getPropertyObject('Mode').dict()"
   ],
   "metadata": {
    "collapsed": false,
    "ExecuteTime": {
     "end_time": "2023-08-17T11:49:14.090249Z",
     "start_time": "2023-08-17T11:49:13.771994Z"
    }
   },
   "id": "31e4f673864666fa"
  },
  {
   "cell_type": "code",
   "execution_count": 87,
   "outputs": [
    {
     "data": {
      "text/plain": "{'valid': True,\n 'value': 0.0,\n 'type': 'number',\n 'device_type': 'CameraDevice',\n 'read_only': False,\n 'sequenceable': False,\n 'sequence_max_length': None,\n 'pre_init': False,\n 'range': (-0.1, 0.1),\n 'allowed_values': ()}"
     },
     "execution_count": 87,
     "metadata": {},
     "output_type": "execute_result"
    }
   ],
   "source": [
    "camera_device.getPropertyObject('TestProperty1').dict()"
   ],
   "metadata": {
    "collapsed": false,
    "ExecuteTime": {
     "end_time": "2023-08-17T11:49:14.090330Z",
     "start_time": "2023-08-17T11:49:13.774998Z"
    }
   },
   "id": "4544054ba5ae3ddc"
  },
  {
   "cell_type": "code",
   "execution_count": 88,
   "outputs": [
    {
     "data": {
      "text/plain": "<DeviceType.CameraDevice: 2>"
     },
     "execution_count": 88,
     "metadata": {},
     "output_type": "execute_result"
    }
   ],
   "source": [
    "camera_device.type()"
   ],
   "metadata": {
    "collapsed": false,
    "ExecuteTime": {
     "end_time": "2023-08-17T11:49:14.090401Z",
     "start_time": "2023-08-17T11:49:13.776153Z"
    }
   },
   "id": "90acd36aa3d225cc"
  },
  {
   "cell_type": "code",
   "execution_count": 89,
   "outputs": [
    {
     "data": {
      "text/plain": "<DeviceType.CameraDevice: 2>"
     },
     "execution_count": 89,
     "metadata": {},
     "output_type": "execute_result"
    }
   ],
   "source": [
    "camera_device.type().Camera"
   ],
   "metadata": {
    "collapsed": false,
    "ExecuteTime": {
     "end_time": "2023-08-17T11:49:14.090467Z",
     "start_time": "2023-08-17T11:49:13.778331Z"
    }
   },
   "id": "bd00c76e673bcb23"
  },
  {
   "cell_type": "code",
   "execution_count": 90,
   "outputs": [
    {
     "data": {
      "text/plain": "<DeviceType.CameraDevice: 2>"
     },
     "execution_count": 90,
     "metadata": {},
     "output_type": "execute_result"
    }
   ],
   "source": [
    "camera_device.type().CameraDevice"
   ],
   "metadata": {
    "collapsed": false,
    "ExecuteTime": {
     "end_time": "2023-08-17T11:49:14.091066Z",
     "start_time": "2023-08-17T11:49:13.780662Z"
    }
   },
   "id": "ef70b4cd04cfbf46"
  },
  {
   "cell_type": "code",
   "execution_count": 91,
   "outputs": [
    {
     "data": {
      "text/plain": "{'AllowMultiROI': '0',\n 'AsyncPropertyDelayMS': '2000',\n 'AsyncPropertyFollower': '',\n 'AsyncPropertyLeader': '',\n 'Binning': '1',\n 'BitDepth': '16',\n 'CCDTemperature': '0.0000',\n 'CCDTemperature RO': '0.0000',\n 'CameraID': 'V1.0',\n 'CameraName': 'DemoCamera-MultiMode',\n 'Description': 'Demo Camera Device Adapter',\n 'DisplayImageNumber': '0',\n 'DropPixels': '0',\n 'Exposure': '10.0000',\n 'FastImage': '0',\n 'FractionOfPixelsToDropOrSaturate': '0.0020',\n 'Gain': '0',\n 'HubID': '',\n 'MaximumExposureMs': '10000.0000',\n 'Mode': 'Artificial Waves',\n 'MultiROIFillValue': '0',\n 'Name': 'DCam',\n 'Offset': '0',\n 'OnCameraCCDXSize': '512',\n 'OnCameraCCDYSize': '512',\n 'Photon Conversion Factor': '1.0000',\n 'Photon Flux': '50.0000',\n 'PixelType': '16bit',\n 'ReadNoise (electrons)': '2.5000',\n 'ReadoutTime': '0.0000',\n 'RotateImages': '0',\n 'SaturatePixels': '0',\n 'ScanMode': '1',\n 'SimulateCrash': '',\n 'StripeWidth': '1.0000',\n 'TestProperty1': '0.0000',\n 'TestProperty2': '0.0000',\n 'TestProperty3': '0.0000',\n 'TestProperty4': '0.0000',\n 'TestProperty5': '0.0000',\n 'TestProperty6': '0.0000',\n 'TransposeCorrection': '0',\n 'TransposeMirrorX': '0',\n 'TransposeMirrorY': '0',\n 'TransposeXY': '0',\n 'TriggerDevice': '',\n 'UseExposureSequences': 'No'}"
     },
     "execution_count": 91,
     "metadata": {},
     "output_type": "execute_result"
    }
   ],
   "source": [
    "mmc.getSystemState().dict()['Camera']"
   ],
   "metadata": {
    "collapsed": false,
    "ExecuteTime": {
     "end_time": "2023-08-17T11:49:14.091184Z",
     "start_time": "2023-08-17T11:49:13.782536Z"
    }
   },
   "id": "9c7893c1fd5b86af"
  },
  {
   "cell_type": "code",
   "execution_count": 92,
   "outputs": [
    {
     "data": {
      "text/plain": "<Property 'Camera::Camera' on CMMCorePlus at 0x1178c2430: INVALID>"
     },
     "execution_count": 92,
     "metadata": {},
     "output_type": "execute_result"
    }
   ],
   "source": [
    "DeviceProperty('Camera', camera_name, mmc)"
   ],
   "metadata": {
    "collapsed": false,
    "ExecuteTime": {
     "end_time": "2023-08-17T11:49:14.091260Z",
     "start_time": "2023-08-17T11:49:13.785733Z"
    }
   },
   "id": "74a0da3eb1a2a6ac"
  },
  {
   "cell_type": "code",
   "execution_count": 93,
   "outputs": [
    {
     "data": {
      "text/plain": "('Camera', 'Stage')"
     },
     "execution_count": 93,
     "metadata": {},
     "output_type": "execute_result"
    }
   ],
   "source": [
    "mmc.getLoadedDevicesOfType(DeviceType.CameraDevice)"
   ],
   "metadata": {
    "collapsed": false,
    "ExecuteTime": {
     "end_time": "2023-08-17T11:49:14.091347Z",
     "start_time": "2023-08-17T11:49:13.787801Z"
    }
   },
   "id": "ea5b4c5d7afd1f68"
  },
  {
   "cell_type": "code",
   "execution_count": 94,
   "outputs": [],
   "source": [
    "# DeviceProperty('Camera',)"
   ],
   "metadata": {
    "collapsed": false,
    "ExecuteTime": {
     "end_time": "2023-08-17T11:49:14.091384Z",
     "start_time": "2023-08-17T11:49:13.789664Z"
    }
   },
   "id": "7b0488e677f88af1"
  },
  {
   "cell_type": "code",
   "execution_count": 95,
   "outputs": [
    {
     "data": {
      "text/plain": "'Camera'"
     },
     "execution_count": 95,
     "metadata": {},
     "output_type": "execute_result"
    }
   ],
   "source": [
    "mmc.getCameraDevice()"
   ],
   "metadata": {
    "collapsed": false,
    "ExecuteTime": {
     "end_time": "2023-08-17T11:49:14.091463Z",
     "start_time": "2023-08-17T11:49:13.791824Z"
    }
   },
   "id": "3bff169e5fe7e900"
  },
  {
   "cell_type": "code",
   "execution_count": 96,
   "outputs": [],
   "source": [
    "camera_device = Device(mmc.getCameraDevice(), mmc)"
   ],
   "metadata": {
    "collapsed": false,
    "ExecuteTime": {
     "end_time": "2023-08-17T11:49:14.091504Z",
     "start_time": "2023-08-17T11:49:13.793658Z"
    }
   },
   "id": "55025f655d7db8ae"
  },
  {
   "cell_type": "code",
   "execution_count": 97,
   "outputs": [
    {
     "data": {
      "text/plain": "<Device 'Camera' (DemoCamera::DCam) on CMMCorePlus at 0x1178c2430: 47 properties>"
     },
     "execution_count": 97,
     "metadata": {},
     "output_type": "execute_result"
    }
   ],
   "source": [
    "camera_device"
   ],
   "metadata": {
    "collapsed": false,
    "ExecuteTime": {
     "end_time": "2023-08-17T11:49:14.091585Z",
     "start_time": "2023-08-17T11:49:13.795692Z"
    }
   },
   "id": "f71c54d23462bf"
  },
  {
   "cell_type": "code",
   "execution_count": 98,
   "outputs": [
    {
     "name": "stdout",
     "output_type": "stream",
     "text": [
      "{\n",
      "    \"title\": \"DCam\",\n",
      "    \"description\": \"Demo camera\",\n",
      "    \"type\": \"object\",\n",
      "    \"properties\": {\n",
      "        \"AllowMultiROI\": {\n",
      "            \"type\": \"boolean\"\n",
      "        },\n",
      "        \"AsyncPropertyDelayMS\": {\n",
      "            \"type\": \"integer\"\n",
      "        },\n",
      "        \"AsyncPropertyFollower\": {\n",
      "            \"type\": \"string\",\n",
      "            \"readOnly\": true,\n",
      "            \"default\": \"\"\n",
      "        },\n",
      "        \"AsyncPropertyLeader\": {\n",
      "            \"type\": \"string\"\n",
      "        },\n",
      "        \"Binning\": {\n",
      "            \"type\": \"integer\",\n",
      "            \"enum\": [\n",
      "                1,\n",
      "                2,\n",
      "                4,\n",
      "                8\n",
      "            ]\n",
      "        },\n",
      "        \"BitDepth\": {\n",
      "            \"type\": \"integer\",\n",
      "            \"enum\": [\n",
      "                10,\n",
      "                11,\n",
      "                12,\n",
      "                14,\n",
      "                16,\n",
      "                32,\n",
      "                8\n",
      "            ]\n",
      "        },\n",
      "        \"CCDTemperature\": {\n",
      "            \"type\": \"number\",\n",
      "            \"minimum\": -100.0,\n",
      "            \"maximum\": 10.0\n",
      "        },\n",
      "        \"CCDTemperature RO\": {\n",
      "            \"type\": \"number\",\n",
      "            \"readOnly\": true,\n",
      "            \"default\": 0.0\n",
      "        },\n",
      "        \"CameraID\": {\n",
      "            \"type\": \"string\",\n",
      "            \"readOnly\": true,\n",
      "            \"default\": \"V1.0\"\n",
      "        },\n",
      "        \"CameraName\": {\n",
      "            \"type\": \"string\",\n",
      "            \"readOnly\": true,\n",
      "            \"default\": \"DemoCamera-MultiMode\"\n",
      "        },\n",
      "        \"Description\": {\n",
      "            \"type\": \"string\",\n",
      "            \"readOnly\": true,\n",
      "            \"default\": \"Demo Camera Device Adapter\"\n",
      "        },\n",
      "        \"DisplayImageNumber\": {\n",
      "            \"type\": \"boolean\"\n",
      "        },\n",
      "        \"DropPixels\": {\n",
      "            \"type\": \"boolean\"\n",
      "        },\n",
      "        \"Exposure\": {\n",
      "            \"type\": \"number\",\n",
      "            \"minimum\": 0.0,\n",
      "            \"maximum\": 10000.0\n",
      "        },\n",
      "        \"FastImage\": {\n",
      "            \"type\": \"boolean\"\n",
      "        },\n",
      "        \"FractionOfPixelsToDropOrSaturate\": {\n",
      "            \"type\": \"number\",\n",
      "            \"minimum\": 0.0,\n",
      "            \"maximum\": 0.1\n",
      "        },\n",
      "        \"Gain\": {\n",
      "            \"type\": \"integer\",\n",
      "            \"minimum\": -5.0,\n",
      "            \"maximum\": 8.0\n",
      "        },\n",
      "        \"HubID\": {\n",
      "            \"type\": \"string\",\n",
      "            \"readOnly\": true,\n",
      "            \"default\": \"\"\n",
      "        },\n",
      "        \"MaximumExposureMs\": {\n",
      "            \"type\": \"number\",\n",
      "            \"preInit\": true\n",
      "        },\n",
      "        \"Mode\": {\n",
      "            \"type\": \"string\",\n",
      "            \"enum\": [\n",
      "                \"Artificial Waves\",\n",
      "                \"Color Test Pattern\",\n",
      "                \"Noise\"\n",
      "            ]\n",
      "        },\n",
      "        \"MultiROIFillValue\": {\n",
      "            \"type\": \"integer\",\n",
      "            \"minimum\": 0.0,\n",
      "            \"maximum\": 65536.0\n",
      "        },\n",
      "        \"Name\": {\n",
      "            \"type\": \"string\",\n",
      "            \"readOnly\": true,\n",
      "            \"default\": \"DCam\"\n",
      "        },\n",
      "        \"Offset\": {\n",
      "            \"type\": \"integer\"\n",
      "        },\n",
      "        \"OnCameraCCDXSize\": {\n",
      "            \"type\": \"integer\"\n",
      "        },\n",
      "        \"OnCameraCCDYSize\": {\n",
      "            \"type\": \"integer\"\n",
      "        },\n",
      "        \"Photon Conversion Factor\": {\n",
      "            \"type\": \"number\",\n",
      "            \"minimum\": 0.01,\n",
      "            \"maximum\": 10.0\n",
      "        },\n",
      "        \"Photon Flux\": {\n",
      "            \"type\": \"number\",\n",
      "            \"minimum\": 2.0,\n",
      "            \"maximum\": 5000.0\n",
      "        },\n",
      "        \"PixelType\": {\n",
      "            \"type\": \"string\",\n",
      "            \"enum\": [\n",
      "                \"16bit\",\n",
      "                \"32bit\",\n",
      "                \"32bitRGB\",\n",
      "                \"64bitRGB\",\n",
      "                \"8bit\"\n",
      "            ]\n",
      "        },\n",
      "        \"ReadNoise (electrons)\": {\n",
      "            \"type\": \"number\",\n",
      "            \"minimum\": 0.25,\n",
      "            \"maximum\": 50.0\n",
      "        },\n",
      "        \"ReadoutTime\": {\n",
      "            \"type\": \"number\"\n",
      "        },\n",
      "        \"RotateImages\": {\n",
      "            \"type\": \"boolean\"\n",
      "        },\n",
      "        \"SaturatePixels\": {\n",
      "            \"type\": \"boolean\"\n",
      "        },\n",
      "        \"ScanMode\": {\n",
      "            \"type\": \"integer\",\n",
      "            \"enum\": [\n",
      "                1,\n",
      "                2,\n",
      "                3\n",
      "            ]\n",
      "        },\n",
      "        \"SimulateCrash\": {\n",
      "            \"type\": \"string\",\n",
      "            \"enum\": [\n",
      "                \"\",\n",
      "                \"Dereference Null Pointer\",\n",
      "                \"Divide by Zero\"\n",
      "            ]\n",
      "        },\n",
      "        \"StripeWidth\": {\n",
      "            \"type\": \"number\",\n",
      "            \"minimum\": 0.0,\n",
      "            \"maximum\": 10.0\n",
      "        },\n",
      "        \"TestProperty1\": {\n",
      "            \"type\": \"number\",\n",
      "            \"minimum\": -0.1,\n",
      "            \"maximum\": 0.1\n",
      "        },\n",
      "        \"TestProperty2\": {\n",
      "            \"type\": \"number\",\n",
      "            \"minimum\": -200.0,\n",
      "            \"maximum\": 200.0\n",
      "        },\n",
      "        \"TestProperty3\": {\n",
      "            \"type\": \"number\",\n",
      "            \"minimum\": 0.0,\n",
      "            \"maximum\": 0.003\n",
      "        },\n",
      "        \"TestProperty4\": {\n",
      "            \"type\": \"number\",\n",
      "            \"minimum\": -40000.0,\n",
      "            \"maximum\": 40000.0\n",
      "        },\n",
      "        \"TestProperty5\": {\n",
      "            \"type\": \"number\"\n",
      "        },\n",
      "        \"TestProperty6\": {\n",
      "            \"type\": \"number\",\n",
      "            \"minimum\": 0.0,\n",
      "            \"maximum\": 6000000.0\n",
      "        },\n",
      "        \"TransposeCorrection\": {\n",
      "            \"type\": \"boolean\"\n",
      "        },\n",
      "        \"TransposeMirrorX\": {\n",
      "            \"type\": \"boolean\"\n",
      "        },\n",
      "        \"TransposeMirrorY\": {\n",
      "            \"type\": \"boolean\"\n",
      "        },\n",
      "        \"TransposeXY\": {\n",
      "            \"type\": \"boolean\"\n",
      "        },\n",
      "        \"TriggerDevice\": {\n",
      "            \"type\": \"string\"\n",
      "        },\n",
      "        \"UseExposureSequences\": {\n",
      "            \"type\": \"string\",\n",
      "            \"enum\": [\n",
      "                \"No\",\n",
      "                \"Yes\"\n",
      "            ]\n",
      "        }\n",
      "    }\n",
      "}\n"
     ]
    }
   ],
   "source": [
    "pretty(dict(camera_device.schema()))"
   ],
   "metadata": {
    "collapsed": false,
    "ExecuteTime": {
     "end_time": "2023-08-17T11:49:14.091668Z",
     "start_time": "2023-08-17T11:49:13.797823Z"
    }
   },
   "id": "fad00fea11de84bf"
  },
  {
   "cell_type": "code",
   "execution_count": 99,
   "outputs": [
    {
     "data": {
      "text/plain": "'Demo camera'"
     },
     "execution_count": 99,
     "metadata": {},
     "output_type": "execute_result"
    }
   ],
   "source": [
    "camera_device.description()"
   ],
   "metadata": {
    "collapsed": false,
    "ExecuteTime": {
     "end_time": "2023-08-17T11:49:14.091749Z",
     "start_time": "2023-08-17T11:49:13.800591Z"
    }
   },
   "id": "2d11576aabbc54"
  },
  {
   "cell_type": "code",
   "execution_count": 100,
   "outputs": [
    {
     "data": {
      "text/plain": "(<Property 'Camera::AllowMultiROI' on CMMCorePlus at 0x1178c2430: value=0>,\n <Property 'Camera::AsyncPropertyDelayMS' on CMMCorePlus at 0x1178c2430: value=2000>,\n <Property 'Camera::AsyncPropertyFollower' on CMMCorePlus at 0x1178c2430: value=''>,\n <Property 'Camera::AsyncPropertyLeader' on CMMCorePlus at 0x1178c2430: value=''>,\n <Property 'Camera::Binning' on CMMCorePlus at 0x1178c2430: value=1>,\n <Property 'Camera::BitDepth' on CMMCorePlus at 0x1178c2430: value=16>,\n <Property 'Camera::CCDTemperature' on CMMCorePlus at 0x1178c2430: value=0.0>,\n <Property 'Camera::CCDTemperature RO' on CMMCorePlus at 0x1178c2430: value=0.0>,\n <Property 'Camera::CameraID' on CMMCorePlus at 0x1178c2430: value='V1.0'>,\n <Property 'Camera::CameraName' on CMMCorePlus at 0x1178c2430: value='DemoCamera-MultiMode'>,\n <Property 'Camera::Description' on CMMCorePlus at 0x1178c2430: value='Demo Camera Device Adapter'>,\n <Property 'Camera::DisplayImageNumber' on CMMCorePlus at 0x1178c2430: value=0>,\n <Property 'Camera::DropPixels' on CMMCorePlus at 0x1178c2430: value=0>,\n <Property 'Camera::Exposure' on CMMCorePlus at 0x1178c2430: value=10.0>,\n <Property 'Camera::FastImage' on CMMCorePlus at 0x1178c2430: value=0>,\n <Property 'Camera::FractionOfPixelsToDropOrSaturate' on CMMCorePlus at 0x1178c2430: value=0.002>,\n <Property 'Camera::Gain' on CMMCorePlus at 0x1178c2430: value=0>,\n <Property 'Camera::HubID' on CMMCorePlus at 0x1178c2430: value=''>,\n <Property 'Camera::MaximumExposureMs' on CMMCorePlus at 0x1178c2430: value=10000.0>,\n <Property 'Camera::Mode' on CMMCorePlus at 0x1178c2430: value='Artificial Waves'>,\n <Property 'Camera::MultiROIFillValue' on CMMCorePlus at 0x1178c2430: value=0>,\n <Property 'Camera::Name' on CMMCorePlus at 0x1178c2430: value='DCam'>,\n <Property 'Camera::Offset' on CMMCorePlus at 0x1178c2430: value=0>,\n <Property 'Camera::OnCameraCCDXSize' on CMMCorePlus at 0x1178c2430: value=512>,\n <Property 'Camera::OnCameraCCDYSize' on CMMCorePlus at 0x1178c2430: value=512>,\n <Property 'Camera::Photon Conversion Factor' on CMMCorePlus at 0x1178c2430: value=1.0>,\n <Property 'Camera::Photon Flux' on CMMCorePlus at 0x1178c2430: value=50.0>,\n <Property 'Camera::PixelType' on CMMCorePlus at 0x1178c2430: value='16bit'>,\n <Property 'Camera::ReadNoise (electrons)' on CMMCorePlus at 0x1178c2430: value=2.5>,\n <Property 'Camera::ReadoutTime' on CMMCorePlus at 0x1178c2430: value=0.0>,\n <Property 'Camera::RotateImages' on CMMCorePlus at 0x1178c2430: value=0>,\n <Property 'Camera::SaturatePixels' on CMMCorePlus at 0x1178c2430: value=0>,\n <Property 'Camera::ScanMode' on CMMCorePlus at 0x1178c2430: value=1>,\n <Property 'Camera::SimulateCrash' on CMMCorePlus at 0x1178c2430: value=''>,\n <Property 'Camera::StripeWidth' on CMMCorePlus at 0x1178c2430: value=1.0>,\n <Property 'Camera::TestProperty1' on CMMCorePlus at 0x1178c2430: value=0.0>,\n <Property 'Camera::TestProperty2' on CMMCorePlus at 0x1178c2430: value=0.0>,\n <Property 'Camera::TestProperty3' on CMMCorePlus at 0x1178c2430: value=0.0>,\n <Property 'Camera::TestProperty4' on CMMCorePlus at 0x1178c2430: value=0.0>,\n <Property 'Camera::TestProperty5' on CMMCorePlus at 0x1178c2430: value=0.0>,\n <Property 'Camera::TestProperty6' on CMMCorePlus at 0x1178c2430: value=0.0>,\n <Property 'Camera::TransposeCorrection' on CMMCorePlus at 0x1178c2430: value=0>,\n <Property 'Camera::TransposeMirrorX' on CMMCorePlus at 0x1178c2430: value=0>,\n <Property 'Camera::TransposeMirrorY' on CMMCorePlus at 0x1178c2430: value=0>,\n <Property 'Camera::TransposeXY' on CMMCorePlus at 0x1178c2430: value=0>,\n <Property 'Camera::TriggerDevice' on CMMCorePlus at 0x1178c2430: value=''>,\n <Property 'Camera::UseExposureSequences' on CMMCorePlus at 0x1178c2430: value='No'>)"
     },
     "execution_count": 100,
     "metadata": {},
     "output_type": "execute_result"
    }
   ],
   "source": [
    "camera_device.properties"
   ],
   "metadata": {
    "collapsed": false,
    "ExecuteTime": {
     "end_time": "2023-08-17T11:49:14.091890Z",
     "start_time": "2023-08-17T11:49:13.802779Z"
    }
   },
   "id": "faa97b1adfd964cd"
  },
  {
   "cell_type": "code",
   "execution_count": 101,
   "outputs": [
    {
     "data": {
      "text/plain": "512"
     },
     "execution_count": 101,
     "metadata": {},
     "output_type": "execute_result"
    }
   ],
   "source": [
    "camera_device.getPropertyObject('OnCameraCCDXSize').value"
   ],
   "metadata": {
    "collapsed": false,
    "ExecuteTime": {
     "end_time": "2023-08-17T11:49:14.101370Z",
     "start_time": "2023-08-17T11:49:13.805256Z"
    }
   },
   "id": "5ae872c3ee21197c"
  },
  {
   "cell_type": "code",
   "execution_count": 102,
   "outputs": [
    {
     "data": {
      "text/plain": "False"
     },
     "execution_count": 102,
     "metadata": {},
     "output_type": "execute_result"
    }
   ],
   "source": [
    "camera_device.getPropertyObject('OnCameraCCDXSize').hasLimits()"
   ],
   "metadata": {
    "collapsed": false,
    "ExecuteTime": {
     "end_time": "2023-08-17T11:49:14.101510Z",
     "start_time": "2023-08-17T11:49:13.807880Z"
    }
   },
   "id": "5e0acd96a5a818b6"
  },
  {
   "cell_type": "code",
   "execution_count": 103,
   "outputs": [
    {
     "data": {
      "text/plain": "0.0"
     },
     "execution_count": 103,
     "metadata": {},
     "output_type": "execute_result"
    }
   ],
   "source": [
    "camera_device.getPropertyObject('OnCameraCCDXSize').upperLimit()"
   ],
   "metadata": {
    "collapsed": false,
    "ExecuteTime": {
     "end_time": "2023-08-17T11:49:14.101617Z",
     "start_time": "2023-08-17T11:49:13.809792Z"
    }
   },
   "id": "52e45a974b1348d4"
  },
  {
   "cell_type": "code",
   "execution_count": 104,
   "outputs": [
    {
     "data": {
      "text/plain": "()"
     },
     "execution_count": 104,
     "metadata": {},
     "output_type": "execute_result"
    }
   ],
   "source": [
    "camera_device.getPropertyObject('OnCameraCCDXSize').allowedValues()"
   ],
   "metadata": {
    "collapsed": false,
    "ExecuteTime": {
     "end_time": "2023-08-17T11:49:14.101695Z",
     "start_time": "2023-08-17T11:49:13.811828Z"
    }
   },
   "id": "58660a8306ebd959"
  },
  {
   "cell_type": "code",
   "execution_count": 113,
   "outputs": [
    {
     "data": {
      "text/plain": "()"
     },
     "execution_count": 113,
     "metadata": {},
     "output_type": "execute_result"
    }
   ],
   "source": [
    "camera_device.getPropertyObject('Gain').allowedValues()"
   ],
   "metadata": {
    "collapsed": false,
    "ExecuteTime": {
     "end_time": "2023-08-17T11:53:01.740449Z",
     "start_time": "2023-08-17T11:53:01.733466Z"
    }
   },
   "id": "ad51eb7303a7df62"
  },
  {
   "cell_type": "code",
   "execution_count": 114,
   "outputs": [
    {
     "data": {
      "text/plain": "1.0"
     },
     "execution_count": 114,
     "metadata": {},
     "output_type": "execute_result"
    }
   ],
   "source": [
    "mmc.getPixelSizeUm()"
   ],
   "metadata": {
    "collapsed": false,
    "ExecuteTime": {
     "end_time": "2023-08-17T11:53:32.942446Z",
     "start_time": "2023-08-17T11:53:32.928889Z"
    }
   },
   "id": "bb4191f3a438d45"
  },
  {
   "cell_type": "code",
   "execution_count": null,
   "outputs": [],
   "source": [],
   "metadata": {
    "collapsed": false,
    "ExecuteTime": {
     "start_time": "2023-08-17T11:49:13.824390Z"
    }
   },
   "id": "dd61fe65bdac5d5a"
  }
 ],
 "metadata": {
  "kernelspec": {
   "display_name": "Python 3",
   "language": "python",
   "name": "python3"
  },
  "language_info": {
   "codemirror_mode": {
    "name": "ipython",
    "version": 2
   },
   "file_extension": ".py",
   "mimetype": "text/x-python",
   "name": "python",
   "nbconvert_exporter": "python",
   "pygments_lexer": "ipython2",
   "version": "2.7.6"
  }
 },
 "nbformat": 4,
 "nbformat_minor": 5
}
