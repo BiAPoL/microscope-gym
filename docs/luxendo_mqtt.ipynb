{
 "cells": [
  {
   "cell_type": "code",
   "execution_count": 1,
   "metadata": {},
   "outputs": [],
   "source": [
    "from microscope_gym.microscope_adapters.luxendo_trulive3d import LuxendoAPIHandler, Stage\n",
    "import paho.mqtt.client as mqtt"
   ]
  },
  {
   "cell_type": "code",
   "execution_count": 2,
   "metadata": {},
   "outputs": [],
   "source": [
    "def parse_cameras(client, userdata, message):\n",
    "    '''Parse camera settings from MQTT message.'''\n",
    "    print(f\"got camera settings: {message.payload}\")\n",
    "\n",
    "def parse_timings(client, userdata, message):\n",
    "    '''Parse stage settings from MQTT message.'''\n",
    "    print(f\"got timing settings: {message.payload}\")\n",
    "\n",
    "def parse_message(client, userdata, message):\n",
    "    '''Parse message from MQTT broker.'''\n",
    "    print(f\"got message: {message.payload}\")"
   ]
  },
  {
   "cell_type": "code",
   "execution_count": 3,
   "metadata": {},
   "outputs": [
    {
     "data": {
      "text/plain": [
       "<paho.mqtt.client.MQTTMessageInfo at 0x209f18b78b0>"
      ]
     },
     "execution_count": 3,
     "metadata": {},
     "output_type": "execute_result"
    }
   ],
   "source": [
    "client = mqtt.Client()\n",
    "client.connect(\"localhost\", 1883)\n",
    "client.loop_start()\n",
    "client.on_message = parse_message\n",
    "client.subscribe(\"0200C125/embedded/cameras\")\n",
    "client.subscribe(\"0200C125/embedded/timings\")\n",
    "client.subscribe(\"0200C125/embedded/error\")\n",
    "client.message_callback_add(\"0200C125/embedded/cameras\", parse_cameras)\n",
    "client.message_callback_add(\"0200C125/embedded/timings\", parse_timings)\n",
    "client.publish(\"0200C125/gui\", '{  \"type\": \"device\",  \"data\": {    \"device\": \"timings\",    \"command\": \"set\"  }}')\n"
   ]
  },
  {
   "cell_type": "code",
   "execution_count": 4,
   "metadata": {},
   "outputs": [
    {
     "name": "stdout",
     "output_type": "stream",
     "text": [
      "got message: b'{\"type\":\"error\",\"data\":{\"command\":\"error\",\"time\":\"230427-20:47:34\",\"message\":\"{  \\\\\"type\\\\\": \\\\\"device\\\\\",  \\\\\"data\\\\\": {    \\\\\"device\\\\\": \\\\\"timings\\\\\",    \\\\\"command\\\\\": \\\\\"set\\\\\"  }}\",\"device\":\"fpga:timings:: set not found.\",\"level\":0}}'\n",
      "got timing settings: b'{\"data\":{\"device\":\"timings\",\"command\":\"set\",\"exposure\":100,\"delay\":12},\"type\":\"device\",\"opmode\":\"set\"}'\n",
      "got camera settings: b'{\"type\":\"device\",\"data\":{\"command\":\"scannersettings\",\"sn\":\"500973\",\"name\":\"long\",\"magnification\":0,\"k0\":0,\"k1\":0,\"calibrated\":true,\"device\":\"cameras\",\"operation\":\"\",\"exposure\":100,\"amp volts\":4,\"offset volts\":0,\"turnpercent\":0.10000000000000000555}}'\n",
      "got camera settings: b'{\"type\":\"device\",\"data\":{\"command\":\"scannersettings\",\"sn\":\"500974\",\"name\":\"short\",\"magnification\":0,\"k0\":0,\"k1\":0,\"calibrated\":true,\"device\":\"cameras\",\"operation\":\"\",\"exposure\":100,\"amp volts\":4,\"offset volts\":0,\"turnpercent\":0.10000000000000000555}}'\n"
     ]
    },
    {
     "data": {
      "text/plain": [
       "True"
      ]
     },
     "execution_count": 4,
     "metadata": {},
     "output_type": "execute_result"
    }
   ],
   "source": [
    "bla = {'type': 'device', 'data': {'device': 'timings', 'command': 'set'}}\n",
    "'type' in bla"
   ]
  },
  {
   "cell_type": "code",
   "execution_count": 5,
   "metadata": {},
   "outputs": [],
   "source": [
    "mqtt_handler = LuxendoAPIHandler(serial_number=\"0200C125\")"
   ]
  },
  {
   "cell_type": "code",
   "execution_count": 6,
   "metadata": {},
   "outputs": [
    {
     "name": "stdout",
     "output_type": "stream",
     "text": [
      "Connected\n"
     ]
    }
   ],
   "source": [
    "mqtt_handler.connect()\n"
   ]
  },
  {
   "cell_type": "code",
   "execution_count": 7,
   "metadata": {},
   "outputs": [
    {
     "data": {
      "text/plain": [
       "True"
      ]
     },
     "execution_count": 7,
     "metadata": {},
     "output_type": "execute_result"
    }
   ],
   "source": [
    "mqtt_handler.connected"
   ]
  },
  {
   "cell_type": "code",
   "execution_count": 8,
   "metadata": {},
   "outputs": [],
   "source": [
    "mqtt_handler.subscribe(\"embedded/stages\")"
   ]
  },
  {
   "cell_type": "code",
   "execution_count": 9,
   "metadata": {},
   "outputs": [],
   "source": [
    "mqtt_handler.send_command('{  \"type\": \"device\",  \"data\": {    \"device\": \"stages\",    \"command\": \"get\"  }}')"
   ]
  },
  {
   "cell_type": "code",
   "execution_count": 10,
   "metadata": {},
   "outputs": [
    {
     "name": "stdout",
     "output_type": "stream",
     "text": [
      "Received message: 0200C125/embedded/stages b'{\"data\":{\"command\":\"set\",\"axes\":[{\"name\":\"x\",\"value\":0,\"min\":-33000,\"max\":33000,\"target\":0,\"guiName\":\"x\",\"partOf\":\"live\",\"type\":\"linear\"},{\"name\":\"y\",\"value\":0,\"min\":-1800,\"max\":1800,\"target\":0,\"guiName\":\"y\",\"partOf\":\"live\",\"type\":\"linear\"},{\"name\":\"z\",\"value\":0,\"min\":-3450,\"max\":450,\"target\":0,\"guiName\":\"z\",\"partOf\":\"live\",\"type\":\"linear\"},{\"name\":\"cr\",\"value\":0,\"min\":-2000,\"max\":5500,\"target\":0,\"guiName\":\"cr\",\"partOf\":\"live\",\"type\":\"linear\"}],\"device\":\"stages\",\"stageSets\":[{\"name\":\"live sample imaging\",\"id\":\"live\",\"active\":true}]},\"type\":\"device\",\"opmode\":\"set\"}'\n",
      "Received message: 0200C125/embedded/stages b'{\"data\":{\"command\":\"set\",\"axes\":[{\"name\":\"x\",\"value\":0,\"min\":-33000,\"max\":33000,\"target\":0,\"guiName\":\"x\",\"partOf\":\"live\",\"type\":\"linear\"},{\"name\":\"y\",\"value\":0,\"min\":-1800,\"max\":1800,\"target\":0,\"guiName\":\"y\",\"partOf\":\"live\",\"type\":\"linear\"},{\"name\":\"z\",\"value\":0,\"min\":-3450,\"max\":450,\"target\":0,\"guiName\":\"z\",\"partOf\":\"live\",\"type\":\"linear\"},{\"name\":\"cr\",\"value\":0,\"min\":-2000,\"max\":5500,\"target\":0,\"guiName\":\"cr\",\"partOf\":\"live\",\"type\":\"linear\"}],\"device\":\"stages\",\"stageSets\":[{\"name\":\"live sample imaging\",\"id\":\"live\",\"active\":true}]},\"type\":\"device\",\"opmode\":\"set\"}'\n"
     ]
    },
    {
     "data": {
      "text/plain": [
       "{'data': {'command': 'set',\n",
       "  'axes': [{'name': 'x',\n",
       "    'value': 0,\n",
       "    'min': -33000,\n",
       "    'max': 33000,\n",
       "    'target': 0,\n",
       "    'guiName': 'x',\n",
       "    'partOf': 'live',\n",
       "    'type': 'linear'},\n",
       "   {'name': 'y',\n",
       "    'value': 0,\n",
       "    'min': -1800,\n",
       "    'max': 1800,\n",
       "    'target': 0,\n",
       "    'guiName': 'y',\n",
       "    'partOf': 'live',\n",
       "    'type': 'linear'},\n",
       "   {'name': 'z',\n",
       "    'value': 0,\n",
       "    'min': -3450,\n",
       "    'max': 450,\n",
       "    'target': 0,\n",
       "    'guiName': 'z',\n",
       "    'partOf': 'live',\n",
       "    'type': 'linear'},\n",
       "   {'name': 'cr',\n",
       "    'value': 0,\n",
       "    'min': -2000,\n",
       "    'max': 5500,\n",
       "    'target': 0,\n",
       "    'guiName': 'cr',\n",
       "    'partOf': 'live',\n",
       "    'type': 'linear'}],\n",
       "  'device': 'stages',\n",
       "  'stageSets': [{'name': 'live sample imaging',\n",
       "    'id': 'live',\n",
       "    'active': True}]},\n",
       " 'type': 'device',\n",
       " 'opmode': 'set'}"
      ]
     },
     "execution_count": 10,
     "metadata": {},
     "output_type": "execute_result"
    }
   ],
   "source": [
    "mqtt_handler.send_command_and_wait_for_reply('{  \"type\": \"device\",  \"data\": {    \"device\": \"stages\",    \"command\": \"get\"  }}')"
   ]
  },
  {
   "cell_type": "code",
   "execution_count": 11,
   "metadata": {},
   "outputs": [
    {
     "data": {
      "text/plain": [
       "[{'name': 'x',\n",
       "  'value': 0,\n",
       "  'min': -33000,\n",
       "  'max': 33000,\n",
       "  'target': 0,\n",
       "  'guiName': 'x',\n",
       "  'partOf': 'live',\n",
       "  'type': 'linear'},\n",
       " {'name': 'y',\n",
       "  'value': 0,\n",
       "  'min': -1800,\n",
       "  'max': 1800,\n",
       "  'target': 0,\n",
       "  'guiName': 'y',\n",
       "  'partOf': 'live',\n",
       "  'type': 'linear'},\n",
       " {'name': 'z',\n",
       "  'value': 0,\n",
       "  'min': -3450,\n",
       "  'max': 450,\n",
       "  'target': 0,\n",
       "  'guiName': 'z',\n",
       "  'partOf': 'live',\n",
       "  'type': 'linear'},\n",
       " {'name': 'cr',\n",
       "  'value': 0,\n",
       "  'min': -2000,\n",
       "  'max': 5500,\n",
       "  'target': 0,\n",
       "  'guiName': 'cr',\n",
       "  'partOf': 'live',\n",
       "  'type': 'linear'}]"
      ]
     },
     "execution_count": 11,
     "metadata": {},
     "output_type": "execute_result"
    }
   ],
   "source": [
    "mqtt_handler.reply_json['data']['axes']"
   ]
  },
  {
   "cell_type": "code",
   "execution_count": 12,
   "metadata": {},
   "outputs": [
    {
     "name": "stdout",
     "output_type": "stream",
     "text": [
      "Received message: 0200C125/embedded/stages b'{\"data\":{\"command\":\"set\",\"axes\":[{\"name\":\"x\",\"value\":0,\"min\":-33000,\"max\":33000,\"target\":0,\"guiName\":\"x\",\"partOf\":\"live\",\"type\":\"linear\"},{\"name\":\"y\",\"value\":0,\"min\":-1800,\"max\":1800,\"target\":0,\"guiName\":\"y\",\"partOf\":\"live\",\"type\":\"linear\"},{\"name\":\"z\",\"value\":0,\"min\":-3450,\"max\":450,\"target\":0,\"guiName\":\"z\",\"partOf\":\"live\",\"type\":\"linear\"},{\"name\":\"cr\",\"value\":0,\"min\":-2000,\"max\":5500,\"target\":0,\"guiName\":\"cr\",\"partOf\":\"live\",\"type\":\"linear\"}],\"device\":\"stages\",\"stageSets\":[{\"name\":\"live sample imaging\",\"id\":\"live\",\"active\":true}]},\"type\":\"device\",\"opmode\":\"set\"}'\n"
     ]
    },
    {
     "data": {
      "text/plain": [
       "{'data': {'command': 'set',\n",
       "  'axes': [{'name': 'x',\n",
       "    'value': 0,\n",
       "    'min': -33000,\n",
       "    'max': 33000,\n",
       "    'target': 0,\n",
       "    'guiName': 'x',\n",
       "    'partOf': 'live',\n",
       "    'type': 'linear'},\n",
       "   {'name': 'y',\n",
       "    'value': 0,\n",
       "    'min': -1800,\n",
       "    'max': 1800,\n",
       "    'target': 0,\n",
       "    'guiName': 'y',\n",
       "    'partOf': 'live',\n",
       "    'type': 'linear'},\n",
       "   {'name': 'z',\n",
       "    'value': 0,\n",
       "    'min': -3450,\n",
       "    'max': 450,\n",
       "    'target': 0,\n",
       "    'guiName': 'z',\n",
       "    'partOf': 'live',\n",
       "    'type': 'linear'},\n",
       "   {'name': 'cr',\n",
       "    'value': 0,\n",
       "    'min': -2000,\n",
       "    'max': 5500,\n",
       "    'target': 0,\n",
       "    'guiName': 'cr',\n",
       "    'partOf': 'live',\n",
       "    'type': 'linear'}],\n",
       "  'device': 'stages',\n",
       "  'stageSets': [{'name': 'live sample imaging',\n",
       "    'id': 'live',\n",
       "    'active': True}]},\n",
       " 'type': 'device',\n",
       " 'opmode': 'set'}"
      ]
     },
     "execution_count": 12,
     "metadata": {},
     "output_type": "execute_result"
    }
   ],
   "source": [
    "mqtt_handler.send_command_and_wait_for_reply('{\"type\": \"device\", \"data\": {\"device\": \"stages\", \"command\": \"set\", \"axes\": [{\"name\": \"x\", \"value\": 0.0}, {\"name\": \"y\", \"value\": 0.0}, {\"name\": \"z\", \"value\": 0.0}]}}')\n"
   ]
  },
  {
   "cell_type": "code",
   "execution_count": 13,
   "metadata": {},
   "outputs": [
    {
     "name": "stdout",
     "output_type": "stream",
     "text": [
      "Received message: 0200C125/embedded/stages b'{\"data\":{\"command\":\"set\",\"axes\":[{\"name\":\"x\",\"value\":0,\"min\":-33000,\"max\":33000,\"target\":0,\"guiName\":\"x\",\"partOf\":\"live\",\"type\":\"linear\"},{\"name\":\"y\",\"value\":0,\"min\":-1800,\"max\":1800,\"target\":0,\"guiName\":\"y\",\"partOf\":\"live\",\"type\":\"linear\"},{\"name\":\"z\",\"value\":0,\"min\":-3450,\"max\":450,\"target\":0,\"guiName\":\"z\",\"partOf\":\"live\",\"type\":\"linear\"},{\"name\":\"cr\",\"value\":0,\"min\":-2000,\"max\":5500,\"target\":0,\"guiName\":\"cr\",\"partOf\":\"live\",\"type\":\"linear\"}],\"device\":\"stages\",\"stageSets\":[{\"name\":\"live sample imaging\",\"id\":\"live\",\"active\":true}]},\"type\":\"device\",\"opmode\":\"set\"}'\n",
      "Disonnected\n"
     ]
    }
   ],
   "source": [
    "mqtt_handler.close()"
   ]
  },
  {
   "cell_type": "code",
   "execution_count": null,
   "metadata": {},
   "outputs": [],
   "source": []
  }
 ],
 "metadata": {
  "kernelspec": {
   "display_name": "mic-gym-env",
   "language": "python",
   "name": "python3"
  },
  "language_info": {
   "codemirror_mode": {
    "name": "ipython",
    "version": 3
   },
   "file_extension": ".py",
   "mimetype": "text/x-python",
   "name": "python",
   "nbconvert_exporter": "python",
   "pygments_lexer": "ipython3",
   "version": "3.9.16"
  },
  "orig_nbformat": 4
 },
 "nbformat": 4,
 "nbformat_minor": 2
}
