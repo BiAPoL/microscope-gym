{
 "cells": [
  {
   "cell_type": "code",
   "execution_count": 1,
   "metadata": {},
   "outputs": [],
   "source": [
    "from microscope_gym.microscope_adapters.luxendo_trulive3d import MqttHandler, Stage\n",
    "import paho.mqtt.client as mqtt"
   ]
  },
  {
   "cell_type": "code",
   "execution_count": 2,
   "metadata": {},
   "outputs": [],
   "source": [
    "mqtt_handler = MqttHandler(serial_number=\"0200C125\")"
   ]
  },
  {
   "cell_type": "code",
   "execution_count": 3,
   "metadata": {},
   "outputs": [
    {
     "name": "stdout",
     "output_type": "stream",
     "text": [
      "Connected\n"
     ]
    }
   ],
   "source": [
    "mqtt_handler.connect()\n"
   ]
  },
  {
   "cell_type": "code",
   "execution_count": 4,
   "metadata": {},
   "outputs": [
    {
     "data": {
      "text/plain": [
       "True"
      ]
     },
     "execution_count": 4,
     "metadata": {},
     "output_type": "execute_result"
    }
   ],
   "source": [
    "mqtt_handler.connected"
   ]
  },
  {
   "cell_type": "code",
   "execution_count": 5,
   "metadata": {},
   "outputs": [],
   "source": [
    "mqtt_handler.subscribe(\"embedded/stages\")"
   ]
  },
  {
   "cell_type": "code",
   "execution_count": 6,
   "metadata": {},
   "outputs": [
    {
     "name": "stdout",
     "output_type": "stream",
     "text": [
      "Received message: 0200C125/embedded/stages b'{\"data\":{\"command\":\"set\",\"axes\":[{\"name\":\"x\",\"value\":-3661,\"min\":-33000,\"max\":33000,\"target\":-3661,\"guiName\":\"x\",\"partOf\":\"live\",\"type\":\"linear\"},{\"name\":\"y\",\"value\":0,\"min\":-1800,\"max\":1800,\"target\":0,\"guiName\":\"y\",\"partOf\":\"live\",\"type\":\"linear\"},{\"name\":\"z\",\"value\":0,\"min\":-3450,\"max\":450,\"target\":0,\"guiName\":\"z\",\"partOf\":\"live\",\"type\":\"linear\"},{\"name\":\"cr\",\"value\":0,\"min\":-2000,\"max\":5500,\"target\":0,\"guiName\":\"cr\",\"partOf\":\"live\",\"type\":\"linear\"}],\"device\":\"stages\",\"stageSets\":[{\"name\":\"live sample imaging\",\"id\":\"live\",\"active\":true}]},\"type\":\"device\",\"opmode\":\"set\"}'\n"
     ]
    }
   ],
   "source": [
    "mqtt_handler.send_command('{  \"type\": \"device\",  \"data\": {    \"device\": \"stages\",    \"command\": \"get\"  }}')"
   ]
  },
  {
   "cell_type": "code",
   "execution_count": 11,
   "metadata": {},
   "outputs": [
    {
     "data": {
      "text/plain": [
       "{'name': 'x',\n",
       " 'value': 0,\n",
       " 'min': -33000,\n",
       " 'max': 33000,\n",
       " 'target': 0,\n",
       " 'guiName': 'x',\n",
       " 'partOf': 'live',\n",
       " 'type': 'linear'}"
      ]
     },
     "execution_count": 11,
     "metadata": {},
     "output_type": "execute_result"
    }
   ],
   "source": [
    "mqtt_handler.reply_json['data']['axes'][0]"
   ]
  },
  {
   "cell_type": "code",
   "execution_count": 10,
   "metadata": {},
   "outputs": [
    {
     "name": "stdout",
     "output_type": "stream",
     "text": [
      "Received message: 0200C125/embedded/stages b'{\"data\":{\"command\":\"set\",\"axes\":[{\"name\":\"x\",\"value\":-1829,\"min\":-33000,\"max\":33000,\"target\":0,\"guiName\":\"x\",\"partOf\":\"live\",\"type\":\"linear\"},{\"name\":\"y\",\"value\":0,\"min\":-1800,\"max\":1800,\"target\":0,\"guiName\":\"y\",\"partOf\":\"live\",\"type\":\"linear\"},{\"name\":\"z\",\"value\":0,\"min\":-3450,\"max\":450,\"target\":0,\"guiName\":\"z\",\"partOf\":\"live\",\"type\":\"linear\"},{\"name\":\"cr\",\"value\":0,\"min\":-2000,\"max\":5500,\"target\":0,\"guiName\":\"cr\",\"partOf\":\"live\",\"type\":\"linear\"}],\"device\":\"stages\",\"stageSets\":[{\"name\":\"live sample imaging\",\"id\":\"live\",\"active\":true}]},\"type\":\"device\",\"opmode\":\"set\"}'\n"
     ]
    },
    {
     "data": {
      "text/plain": [
       "{'data': {'command': 'set',\n",
       "  'axes': [{'name': 'x',\n",
       "    'value': -1829,\n",
       "    'min': -33000,\n",
       "    'max': 33000,\n",
       "    'target': 0,\n",
       "    'guiName': 'x',\n",
       "    'partOf': 'live',\n",
       "    'type': 'linear'},\n",
       "   {'name': 'y',\n",
       "    'value': 0,\n",
       "    'min': -1800,\n",
       "    'max': 1800,\n",
       "    'target': 0,\n",
       "    'guiName': 'y',\n",
       "    'partOf': 'live',\n",
       "    'type': 'linear'},\n",
       "   {'name': 'z',\n",
       "    'value': 0,\n",
       "    'min': -3450,\n",
       "    'max': 450,\n",
       "    'target': 0,\n",
       "    'guiName': 'z',\n",
       "    'partOf': 'live',\n",
       "    'type': 'linear'},\n",
       "   {'name': 'cr',\n",
       "    'value': 0,\n",
       "    'min': -2000,\n",
       "    'max': 5500,\n",
       "    'target': 0,\n",
       "    'guiName': 'cr',\n",
       "    'partOf': 'live',\n",
       "    'type': 'linear'}],\n",
       "  'device': 'stages',\n",
       "  'stageSets': [{'name': 'live sample imaging',\n",
       "    'id': 'live',\n",
       "    'active': True}]},\n",
       " 'type': 'device',\n",
       " 'opmode': 'set'}"
      ]
     },
     "execution_count": 10,
     "metadata": {},
     "output_type": "execute_result"
    },
    {
     "name": "stdout",
     "output_type": "stream",
     "text": [
      "Received message: 0200C125/embedded/stages b'{\"data\":{\"command\":\"set\",\"axes\":[{\"name\":\"x\",\"value\":-1549.8000000000001819,\"min\":-33000,\"max\":33000,\"target\":0,\"guiName\":\"x\",\"partOf\":\"live\",\"type\":\"linear\"},{\"name\":\"y\",\"value\":0,\"min\":-1800,\"max\":1800,\"target\":0,\"guiName\":\"y\",\"partOf\":\"live\",\"type\":\"linear\"},{\"name\":\"z\",\"value\":0,\"min\":-3450,\"max\":450,\"target\":0,\"guiName\":\"z\",\"partOf\":\"live\",\"type\":\"linear\"},{\"name\":\"cr\",\"value\":0,\"min\":-2000,\"max\":5500,\"target\":0,\"guiName\":\"cr\",\"partOf\":\"live\",\"type\":\"linear\"}],\"device\":\"stages\",\"stageSets\":[{\"name\":\"live sample imaging\",\"id\":\"live\",\"active\":true}]},\"type\":\"device\",\"opmode\":\"set\"}'\n",
      "Received message: 0200C125/embedded/stages b'{\"data\":{\"command\":\"set\",\"axes\":[{\"name\":\"x\",\"value\":-1169.4000000000000909,\"min\":-33000,\"max\":33000,\"target\":0,\"guiName\":\"x\",\"partOf\":\"live\",\"type\":\"linear\"},{\"name\":\"y\",\"value\":0,\"min\":-1800,\"max\":1800,\"target\":0,\"guiName\":\"y\",\"partOf\":\"live\",\"type\":\"linear\"},{\"name\":\"z\",\"value\":0,\"min\":-3450,\"max\":450,\"target\":0,\"guiName\":\"z\",\"partOf\":\"live\",\"type\":\"linear\"},{\"name\":\"cr\",\"value\":0,\"min\":-2000,\"max\":5500,\"target\":0,\"guiName\":\"cr\",\"partOf\":\"live\",\"type\":\"linear\"}],\"device\":\"stages\",\"stageSets\":[{\"name\":\"live sample imaging\",\"id\":\"live\",\"active\":true}]},\"type\":\"device\",\"opmode\":\"set\"}'\n",
      "Received message: 0200C125/embedded/stages b'{\"data\":{\"command\":\"set\",\"axes\":[{\"name\":\"x\",\"value\":-923.20000000000004547,\"min\":-33000,\"max\":33000,\"target\":0,\"guiName\":\"x\",\"partOf\":\"live\",\"type\":\"linear\"},{\"name\":\"y\",\"value\":0,\"min\":-1800,\"max\":1800,\"target\":0,\"guiName\":\"y\",\"partOf\":\"live\",\"type\":\"linear\"},{\"name\":\"z\",\"value\":0,\"min\":-3450,\"max\":450,\"target\":0,\"guiName\":\"z\",\"partOf\":\"live\",\"type\":\"linear\"},{\"name\":\"cr\",\"value\":0,\"min\":-2000,\"max\":5500,\"target\":0,\"guiName\":\"cr\",\"partOf\":\"live\",\"type\":\"linear\"}],\"device\":\"stages\",\"stageSets\":[{\"name\":\"live sample imaging\",\"id\":\"live\",\"active\":true}]},\"type\":\"device\",\"opmode\":\"set\"}'\n",
      "Received message: 0200C125/embedded/stages b'{\"data\":{\"command\":\"set\",\"axes\":[{\"name\":\"x\",\"value\":-676.30000000000006821,\"min\":-33000,\"max\":33000,\"target\":0,\"guiName\":\"x\",\"partOf\":\"live\",\"type\":\"linear\"},{\"name\":\"y\",\"value\":0,\"min\":-1800,\"max\":1800,\"target\":0,\"guiName\":\"y\",\"partOf\":\"live\",\"type\":\"linear\"},{\"name\":\"z\",\"value\":0,\"min\":-3450,\"max\":450,\"target\":0,\"guiName\":\"z\",\"partOf\":\"live\",\"type\":\"linear\"},{\"name\":\"cr\",\"value\":0,\"min\":-2000,\"max\":5500,\"target\":0,\"guiName\":\"cr\",\"partOf\":\"live\",\"type\":\"linear\"}],\"device\":\"stages\",\"stageSets\":[{\"name\":\"live sample imaging\",\"id\":\"live\",\"active\":true}]},\"type\":\"device\",\"opmode\":\"set\"}'\n",
      "Received message: 0200C125/embedded/stages b'{\"data\":{\"command\":\"set\",\"axes\":[{\"name\":\"x\",\"value\":-430.30000000000001137,\"min\":-33000,\"max\":33000,\"target\":0,\"guiName\":\"x\",\"partOf\":\"live\",\"type\":\"linear\"},{\"name\":\"y\",\"value\":0,\"min\":-1800,\"max\":1800,\"target\":0,\"guiName\":\"y\",\"partOf\":\"live\",\"type\":\"linear\"},{\"name\":\"z\",\"value\":0,\"min\":-3450,\"max\":450,\"target\":0,\"guiName\":\"z\",\"partOf\":\"live\",\"type\":\"linear\"},{\"name\":\"cr\",\"value\":0,\"min\":-2000,\"max\":5500,\"target\":0,\"guiName\":\"cr\",\"partOf\":\"live\",\"type\":\"linear\"}],\"device\":\"stages\",\"stageSets\":[{\"name\":\"live sample imaging\",\"id\":\"live\",\"active\":true}]},\"type\":\"device\",\"opmode\":\"set\"}'\n",
      "Received message: 0200C125/embedded/stages b'{\"data\":{\"command\":\"set\",\"axes\":[{\"name\":\"x\",\"value\":-184,\"min\":-33000,\"max\":33000,\"target\":0,\"guiName\":\"x\",\"partOf\":\"live\",\"type\":\"linear\"},{\"name\":\"y\",\"value\":0,\"min\":-1800,\"max\":1800,\"target\":0,\"guiName\":\"y\",\"partOf\":\"live\",\"type\":\"linear\"},{\"name\":\"z\",\"value\":0,\"min\":-3450,\"max\":450,\"target\":0,\"guiName\":\"z\",\"partOf\":\"live\",\"type\":\"linear\"},{\"name\":\"cr\",\"value\":0,\"min\":-2000,\"max\":5500,\"target\":0,\"guiName\":\"cr\",\"partOf\":\"live\",\"type\":\"linear\"}],\"device\":\"stages\",\"stageSets\":[{\"name\":\"live sample imaging\",\"id\":\"live\",\"active\":true}]},\"type\":\"device\",\"opmode\":\"set\"}'\n",
      "Received message: 0200C125/embedded/stages b'{\"data\":{\"command\":\"set\",\"axes\":[{\"name\":\"x\",\"value\":-0.30000000000000004441,\"min\":-33000,\"max\":33000,\"target\":0,\"guiName\":\"x\",\"partOf\":\"live\",\"type\":\"linear\"},{\"name\":\"y\",\"value\":0,\"min\":-1800,\"max\":1800,\"target\":0,\"guiName\":\"y\",\"partOf\":\"live\",\"type\":\"linear\"},{\"name\":\"z\",\"value\":0,\"min\":-3450,\"max\":450,\"target\":0,\"guiName\":\"z\",\"partOf\":\"live\",\"type\":\"linear\"},{\"name\":\"cr\",\"value\":0,\"min\":-2000,\"max\":5500,\"target\":0,\"guiName\":\"cr\",\"partOf\":\"live\",\"type\":\"linear\"}],\"device\":\"stages\",\"stageSets\":[{\"name\":\"live sample imaging\",\"id\":\"live\",\"active\":true}]},\"type\":\"device\",\"opmode\":\"set\"}'\n",
      "Received message: 0200C125/embedded/stages b'{\"data\":{\"command\":\"set\",\"axes\":[{\"name\":\"x\",\"value\":0,\"min\":-33000,\"max\":33000,\"target\":0,\"guiName\":\"x\",\"partOf\":\"live\",\"type\":\"linear\"},{\"name\":\"y\",\"value\":0,\"min\":-1800,\"max\":1800,\"target\":0,\"guiName\":\"y\",\"partOf\":\"live\",\"type\":\"linear\"},{\"name\":\"z\",\"value\":0,\"min\":-3450,\"max\":450,\"target\":0,\"guiName\":\"z\",\"partOf\":\"live\",\"type\":\"linear\"},{\"name\":\"cr\",\"value\":0,\"min\":-2000,\"max\":5500,\"target\":0,\"guiName\":\"cr\",\"partOf\":\"live\",\"type\":\"linear\"}],\"device\":\"stages\",\"stageSets\":[{\"name\":\"live sample imaging\",\"id\":\"live\",\"active\":true}]},\"type\":\"device\",\"opmode\":\"set\"}'\n"
     ]
    }
   ],
   "source": [
    "mqtt_handler.send_command_and_wait_for_reply('{\"type\": \"device\", \"data\": {\"device\": \"stages\", \"command\": \"set\", \"axes\": [{\"name\": \"x\", \"value\": 0.0}, {\"name\": \"y\", \"value\": 0.0}, {\"name\": \"z\", \"value\": 0.0}]}}')\n"
   ]
  },
  {
   "cell_type": "code",
   "execution_count": null,
   "metadata": {},
   "outputs": [],
   "source": []
  },
  {
   "cell_type": "code",
   "execution_count": null,
   "metadata": {},
   "outputs": [],
   "source": [
    "mqtt_handler.close()"
   ]
  }
 ],
 "metadata": {
  "kernelspec": {
   "display_name": "mic-gym-env",
   "language": "python",
   "name": "python3"
  },
  "language_info": {
   "codemirror_mode": {
    "name": "ipython",
    "version": 3
   },
   "file_extension": ".py",
   "mimetype": "text/x-python",
   "name": "python",
   "nbconvert_exporter": "python",
   "pygments_lexer": "ipython3",
   "version": "3.9.16"
  },
  "orig_nbformat": 4
 },
 "nbformat": 4,
 "nbformat_minor": 2
}
