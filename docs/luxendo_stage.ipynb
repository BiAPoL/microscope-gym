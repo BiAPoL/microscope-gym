{
 "cells": [
  {
   "cell_type": "code",
   "execution_count": 1,
   "metadata": {},
   "outputs": [],
   "source": [
    "from microscope_gym.microscope_adapters.luxendo_trulive3d import LuxendoAPIHandler, Stage, APICommand, APIData, AxisCommand, Axis, StackConfig, EventConfig, Task, Trigger, Time"
   ]
  },
  {
   "cell_type": "code",
   "execution_count": 2,
   "metadata": {},
   "outputs": [
    {
     "data": {
      "text/plain": [
       "APICommand(type='device', data=APIData(device='stage', command='get'))"
      ]
     },
     "execution_count": 2,
     "metadata": {},
     "output_type": "execute_result"
    }
   ],
   "source": [
    "command = APICommand(data=APIData(device=\"stage\"))\n",
    "command"
   ]
  },
  {
   "cell_type": "code",
   "execution_count": 3,
   "metadata": {},
   "outputs": [
    {
     "data": {
      "text/plain": [
       "'{\"type\": \"device\", \"data\": {\"device\": \"stage\", \"command\": \"get\"}}'"
      ]
     },
     "execution_count": 3,
     "metadata": {},
     "output_type": "execute_result"
    }
   ],
   "source": [
    "command.json()"
   ]
  },
  {
   "cell_type": "code",
   "execution_count": 4,
   "metadata": {},
   "outputs": [
    {
     "data": {
      "text/plain": [
       "'{\"data\": {\"device\": \"stages\", \"axes\": [{\"name\": \"x\", \"min\": 0.0, \"max\": 100.0, \"value\": 0.0, \"target\": 0.0}, {\"name\": \"y\", \"min\": 0.0, \"max\": 100.0, \"value\": 0.0, \"target\": 0.0}]}}'"
      ]
     },
     "execution_count": 4,
     "metadata": {},
     "output_type": "execute_result"
    }
   ],
   "source": [
    "x = Axis(name=\"x\", value=0.0, min=0.0, max=100.0, target=0.0)\n",
    "y = Axis(name=\"y\", value=0.0, min=0.0, max=100.0, target=0.0)\n",
    "axis_command = command.copy()\n",
    "axis_command.data = AxisCommand(device=\"stages\", axes=[x,y])\n",
    "axis_command.json(by_alias=True, exclude_unset=True)    "
   ]
  },
  {
   "cell_type": "code",
   "execution_count": 5,
   "metadata": {},
   "outputs": [
    {
     "name": "stdout",
     "output_type": "stream",
     "text": [
      "Connected\n"
     ]
    }
   ],
   "source": [
    "mqtt_handler = LuxendoAPIHandler(serial_number=\"0200C125\")\n",
    "stage = Stage(mqtt_handler)"
   ]
  },
  {
   "cell_type": "code",
   "execution_count": 6,
   "metadata": {},
   "outputs": [
    {
     "data": {
      "text/plain": [
       "True"
      ]
     },
     "execution_count": 6,
     "metadata": {},
     "output_type": "execute_result"
    }
   ],
   "source": [
    "stage.y_position_um = 0\n",
    "stage.x_position_um = 0\n",
    "stage.z_position_um = 0\n",
    "stage.wait_until_stopped()"
   ]
  },
  {
   "cell_type": "code",
   "execution_count": 7,
   "metadata": {},
   "outputs": [
    {
     "data": {
      "text/plain": [
       "OrderedDict([('x',\n",
       "              Axis(name='x', min=-33000.0, max=33000.0, position_um=0.0, target=0.0, guiName='x', partOf='live', type='linear')),\n",
       "             ('y',\n",
       "              Axis(name='y', min=-1800.0, max=1800.0, position_um=0.0, target=0.0, guiName='y', partOf='live', type='linear')),\n",
       "             ('z',\n",
       "              Axis(name='z', min=-3450.0, max=450.0, position_um=0.0, target=0.0, guiName='z', partOf='live', type='linear')),\n",
       "             ('cr',\n",
       "              Axis(name='cr', min=-2000.0, max=5500.0, position_um=0.0, target=0.0, guiName='cr', partOf='live', type='linear'))])"
      ]
     },
     "execution_count": 7,
     "metadata": {},
     "output_type": "execute_result"
    }
   ],
   "source": [
    "stage.axes"
   ]
  },
  {
   "cell_type": "code",
   "execution_count": 8,
   "metadata": {},
   "outputs": [
    {
     "data": {
      "text/plain": [
       "'{\"type\": \"device\", \"data\": {\"device\": \"stages\", \"command\": \"set\", \"axes\": [{\"name\": \"x\", \"min\": -33000.0, \"max\": 33000.0, \"value\": 0.0, \"target\": 0.0, \"guiName\": \"x\", \"partOf\": \"live\", \"type\": \"linear\"}, {\"name\": \"y\", \"min\": -1800.0, \"max\": 1800.0, \"value\": 0.0, \"target\": 0.0, \"guiName\": \"y\", \"partOf\": \"live\", \"type\": \"linear\"}, {\"name\": \"z\", \"min\": -3450.0, \"max\": 450.0, \"value\": 0.0, \"target\": 0.0, \"guiName\": \"z\", \"partOf\": \"live\", \"type\": \"linear\"}, {\"name\": \"cr\", \"min\": -2000.0, \"max\": 5500.0, \"value\": 0.0, \"target\": 0.0, \"guiName\": \"cr\", \"partOf\": \"live\", \"type\": \"linear\"}]}}'"
      ]
     },
     "execution_count": 8,
     "metadata": {},
     "output_type": "execute_result"
    }
   ],
   "source": [
    "axis_command.data = AxisCommand(device=\"stages\", axes=list(stage.axes.values()))\n",
    "axis_command.json(by_alias=True)\n"
   ]
  },
  {
   "cell_type": "code",
   "execution_count": 9,
   "metadata": {},
   "outputs": [
    {
     "data": {
      "text/plain": [
       "False"
      ]
     },
     "execution_count": 9,
     "metadata": {},
     "output_type": "execute_result"
    }
   ],
   "source": [
    "stage.is_moving()"
   ]
  },
  {
   "cell_type": "code",
   "execution_count": 10,
   "metadata": {},
   "outputs": [],
   "source": [
    "stage.x_position_um += 1000\n",
    "stage.y_position_um += 100\n",
    "stage.z_position_um += 10"
   ]
  },
  {
   "cell_type": "code",
   "execution_count": 11,
   "metadata": {},
   "outputs": [
    {
     "data": {
      "text/plain": [
       "True"
      ]
     },
     "execution_count": 11,
     "metadata": {},
     "output_type": "execute_result"
    }
   ],
   "source": [
    "stage.is_moving()"
   ]
  },
  {
   "cell_type": "code",
   "execution_count": 12,
   "metadata": {},
   "outputs": [
    {
     "data": {
      "text/plain": [
       "True"
      ]
     },
     "execution_count": 12,
     "metadata": {},
     "output_type": "execute_result"
    }
   ],
   "source": [
    "stage.wait_until_stopped()"
   ]
  },
  {
   "cell_type": "code",
   "execution_count": 13,
   "metadata": {},
   "outputs": [
    {
     "data": {
      "text/plain": [
       "False"
      ]
     },
     "execution_count": 13,
     "metadata": {},
     "output_type": "execute_result"
    }
   ],
   "source": [
    "stage.is_moving()"
   ]
  },
  {
   "cell_type": "code",
   "execution_count": 14,
   "metadata": {},
   "outputs": [
    {
     "data": {
      "text/plain": [
       "OrderedDict([('x',\n",
       "              Axis(name='x', min=-33000.0, max=33000.0, position_um=1000.0, target=1000.0, guiName='x', partOf='live', type='linear')),\n",
       "             ('y',\n",
       "              Axis(name='y', min=-1800.0, max=1800.0, position_um=100.0, target=100.0, guiName='y', partOf='live', type='linear')),\n",
       "             ('z',\n",
       "              Axis(name='z', min=-3450.0, max=450.0, position_um=10.0, target=10.0, guiName='z', partOf='live', type='linear')),\n",
       "             ('cr',\n",
       "              Axis(name='cr', min=-2000.0, max=5500.0, position_um=0.0, target=0.0, guiName='cr', partOf='live', type='linear'))])"
      ]
     },
     "execution_count": 14,
     "metadata": {},
     "output_type": "execute_result"
    }
   ],
   "source": [
    "stage.axes"
   ]
  },
  {
   "cell_type": "code",
   "execution_count": 15,
   "metadata": {},
   "outputs": [
    {
     "data": {
      "text/plain": [
       "[Stack(elements=[StackElement(name='x', start=1000, end=1000, instack=False, canTile=True), StackElement(name='y', start=98, end=98, instack=False, canTile=True), StackElement(name='z', start=10, end=10, instack=True, canTile=False), StackElement(name='cr', start=0, end=0, instack=True, canTile=False)], n=1, reps=1, name='stack_0', ref='z', description=''),\n",
       " Stack(elements=[StackElement(name='x', start=1000, end=1000, instack=False, canTile=True), StackElement(name='y', start=98, end=98, instack=False, canTile=True), StackElement(name='z', start=10, end=10, instack=True, canTile=False), StackElement(name='cr', start=0, end=0, instack=True, canTile=False)], n=1, reps=1, name='stack_1', ref='z', description='')]"
      ]
     },
     "execution_count": 15,
     "metadata": {},
     "output_type": "execute_result"
    }
   ],
   "source": [
    "stacks = StackConfig(mqtt_handler)\n",
    "stacks.data"
   ]
  },
  {
   "cell_type": "code",
   "execution_count": 16,
   "metadata": {},
   "outputs": [],
   "source": [
    "new_stack = stage.add_current_position_to_stacks(stacks)"
   ]
  },
  {
   "cell_type": "code",
   "execution_count": 17,
   "metadata": {},
   "outputs": [
    {
     "data": {
      "text/plain": [
       "Stack(elements=[StackElement(name='x', start=1000, end=1000, instack=None, canTile=None), StackElement(name='y', start=100, end=100, instack=None, canTile=None), StackElement(name='z', start=10, end=10, instack=None, canTile=None), StackElement(name='cr', start=0, end=0, instack=None, canTile=None)], n=1, reps=1, name='stack_2', ref=None, description='MicGymV0.0.1')"
      ]
     },
     "execution_count": 17,
     "metadata": {},
     "output_type": "execute_result"
    }
   ],
   "source": [
    "new_stack"
   ]
  },
  {
   "cell_type": "code",
   "execution_count": 18,
   "metadata": {},
   "outputs": [
    {
     "data": {
      "text/plain": [
       "[Stack(elements=[StackElement(name='x', start=1000, end=1000, instack=False, canTile=True), StackElement(name='y', start=98, end=98, instack=False, canTile=True), StackElement(name='z', start=10, end=10, instack=True, canTile=False), StackElement(name='cr', start=0, end=0, instack=True, canTile=False)], n=1, reps=1, name='stack_0', ref='z', description=''),\n",
       " Stack(elements=[StackElement(name='x', start=1000, end=1000, instack=False, canTile=True), StackElement(name='y', start=98, end=98, instack=False, canTile=True), StackElement(name='z', start=10, end=10, instack=True, canTile=False), StackElement(name='cr', start=0, end=0, instack=True, canTile=False)], n=1, reps=1, name='stack_1', ref='z', description=''),\n",
       " Stack(elements=[StackElement(name='x', start=1000, end=1000, instack=False, canTile=True), StackElement(name='y', start=100, end=100, instack=False, canTile=True), StackElement(name='z', start=10, end=10, instack=True, canTile=False), StackElement(name='cr', start=0, end=0, instack=True, canTile=False)], n=1, reps=1, name='stack_2', ref='z', description='MicGymV0.0.1')]"
      ]
     },
     "execution_count": 18,
     "metadata": {},
     "output_type": "execute_result"
    }
   ],
   "source": [
    "stacks.data"
   ]
  },
  {
   "cell_type": "code",
   "execution_count": 19,
   "metadata": {},
   "outputs": [
    {
     "data": {
      "text/plain": [
       "[Stack(elements=[StackElement(name='x', start=1000, end=1000, instack=False, canTile=True), StackElement(name='y', start=98, end=98, instack=False, canTile=True), StackElement(name='z', start=10, end=10, instack=True, canTile=False), StackElement(name='cr', start=0, end=0, instack=True, canTile=False)], n=1, reps=1, name='stack_0', ref='z', description=''),\n",
       " Stack(elements=[StackElement(name='x', start=1000, end=1000, instack=False, canTile=True), StackElement(name='y', start=98, end=98, instack=False, canTile=True), StackElement(name='z', start=10, end=10, instack=True, canTile=False), StackElement(name='cr', start=0, end=0, instack=True, canTile=False)], n=1, reps=1, name='stack_1', ref='z', description='')]"
      ]
     },
     "execution_count": 19,
     "metadata": {},
     "output_type": "execute_result"
    }
   ],
   "source": [
    "stacks.remove_api_generated_elements()\n",
    "stacks.data"
   ]
  },
  {
   "cell_type": "code",
   "execution_count": null,
   "metadata": {},
   "outputs": [],
   "source": []
  }
 ],
 "metadata": {
  "kernelspec": {
   "display_name": "mic-gym-env",
   "language": "python",
   "name": "python3"
  },
  "language_info": {
   "codemirror_mode": {
    "name": "ipython",
    "version": 3
   },
   "file_extension": ".py",
   "mimetype": "text/x-python",
   "name": "python",
   "nbconvert_exporter": "python",
   "pygments_lexer": "ipython3",
   "version": "3.9.16"
  },
  "orig_nbformat": 4
 },
 "nbformat": 4,
 "nbformat_minor": 2
}
