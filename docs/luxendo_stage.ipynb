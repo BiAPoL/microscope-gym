{
 "cells": [
  {
   "cell_type": "code",
   "execution_count": 1,
   "metadata": {},
   "outputs": [],
   "source": [
    "from microscope_gym.microscope_adapters.luxendo_trulive3d import VendorAPIHandler, Stage"
   ]
  },
  {
   "cell_type": "code",
   "execution_count": 2,
   "metadata": {},
   "outputs": [],
   "source": [
    "mqtt_handler = VendorAPIHandler(serial_number=\"0200C125\")"
   ]
  },
  {
   "cell_type": "code",
   "execution_count": 3,
   "metadata": {},
   "outputs": [
    {
     "name": "stdout",
     "output_type": "stream",
     "text": [
      "Connected\n",
      "Received message: 0200C125/embedded/stages b'{\"data\":{\"command\":\"set\",\"axes\":[{\"name\":\"x\",\"value\":1000,\"min\":-33000,\"max\":33000,\"target\":1000,\"guiName\":\"x\",\"partOf\":\"live\",\"type\":\"linear\"},{\"name\":\"y\",\"value\":100,\"min\":-1800,\"max\":1800,\"target\":100,\"guiName\":\"y\",\"partOf\":\"live\",\"type\":\"linear\"},{\"name\":\"z\",\"value\":10,\"min\":-3450,\"max\":450,\"target\":10,\"guiName\":\"z\",\"partOf\":\"live\",\"type\":\"linear\"},{\"name\":\"cr\",\"value\":0.10000000000000000555,\"min\":-2000,\"max\":5500,\"target\":0.10000000000000000555,\"guiName\":\"cr\",\"partOf\":\"live\",\"type\":\"linear\"}],\"device\":\"stages\",\"stageSets\":[{\"name\":\"live sample imaging\",\"id\":\"live\",\"active\":true}]},\"type\":\"device\",\"opmode\":\"set\"}'\n",
      "Received message: 0200C125/embedded/stages b'{\"data\":{\"command\":\"set\",\"axes\":[{\"name\":\"x\",\"value\":1000,\"min\":-33000,\"max\":33000,\"target\":1000,\"guiName\":\"x\",\"partOf\":\"live\",\"type\":\"linear\"},{\"name\":\"y\",\"value\":100,\"min\":-1800,\"max\":1800,\"target\":0,\"guiName\":\"y\",\"partOf\":\"live\",\"type\":\"linear\"},{\"name\":\"z\",\"value\":10,\"min\":-3450,\"max\":450,\"target\":10,\"guiName\":\"z\",\"partOf\":\"live\",\"type\":\"linear\"},{\"name\":\"cr\",\"value\":0.10000000000000000555,\"min\":-2000,\"max\":5500,\"target\":0.10000000000000000555,\"guiName\":\"cr\",\"partOf\":\"live\",\"type\":\"linear\"}],\"device\":\"stages\",\"stageSets\":[{\"name\":\"live sample imaging\",\"id\":\"live\",\"active\":true}]},\"type\":\"device\",\"opmode\":\"set\"}'\n",
      "Received message: 0200C125/embedded/stages b'{\"data\":{\"command\":\"set\",\"axes\":[{\"name\":\"x\",\"value\":1000,\"min\":-33000,\"max\":33000,\"target\":0,\"guiName\":\"x\",\"partOf\":\"live\",\"type\":\"linear\"},{\"name\":\"y\",\"value\":100,\"min\":-1800,\"max\":1800,\"target\":0,\"guiName\":\"y\",\"partOf\":\"live\",\"type\":\"linear\"},{\"name\":\"z\",\"value\":10,\"min\":-3450,\"max\":450,\"target\":10,\"guiName\":\"z\",\"partOf\":\"live\",\"type\":\"linear\"},{\"name\":\"cr\",\"value\":0.10000000000000000555,\"min\":-2000,\"max\":5500,\"target\":0.10000000000000000555,\"guiName\":\"cr\",\"partOf\":\"live\",\"type\":\"linear\"}],\"device\":\"stages\",\"stageSets\":[{\"name\":\"live sample imaging\",\"id\":\"live\",\"active\":true}]},\"type\":\"device\",\"opmode\":\"set\"}'\n",
      "Received message: 0200C125/embedded/stages b'{\"data\":{\"command\":\"set\",\"axes\":[{\"name\":\"x\",\"value\":1000,\"min\":-33000,\"max\":33000,\"target\":0,\"guiName\":\"x\",\"partOf\":\"live\",\"type\":\"linear\"},{\"name\":\"y\",\"value\":100,\"min\":-1800,\"max\":1800,\"target\":0,\"guiName\":\"y\",\"partOf\":\"live\",\"type\":\"linear\"},{\"name\":\"z\",\"value\":10,\"min\":-3450,\"max\":450,\"target\":0,\"guiName\":\"z\",\"partOf\":\"live\",\"type\":\"linear\"},{\"name\":\"cr\",\"value\":0.10000000000000000555,\"min\":-2000,\"max\":5500,\"target\":0.10000000000000000555,\"guiName\":\"cr\",\"partOf\":\"live\",\"type\":\"linear\"}],\"device\":\"stages\",\"stageSets\":[{\"name\":\"live sample imaging\",\"id\":\"live\",\"active\":true}]},\"type\":\"device\",\"opmode\":\"set\"}'\n",
      "Received message: 0200C125/embedded/stages b'{\"data\":{\"command\":\"set\",\"axes\":[{\"name\":\"x\",\"value\":492.20000000000004547,\"min\":-33000,\"max\":33000,\"target\":0,\"guiName\":\"x\",\"partOf\":\"live\",\"type\":\"linear\"},{\"name\":\"y\",\"value\":0,\"min\":-1800,\"max\":1800,\"target\":0,\"guiName\":\"y\",\"partOf\":\"live\",\"type\":\"linear\"},{\"name\":\"z\",\"value\":0,\"min\":-3450,\"max\":450,\"target\":0,\"guiName\":\"z\",\"partOf\":\"live\",\"type\":\"linear\"},{\"name\":\"cr\",\"value\":0.10000000000000000555,\"min\":-2000,\"max\":5500,\"target\":0.10000000000000000555,\"guiName\":\"cr\",\"partOf\":\"live\",\"type\":\"linear\"}],\"device\":\"stages\",\"stageSets\":[{\"name\":\"live sample imaging\",\"id\":\"live\",\"active\":true}]},\"type\":\"device\",\"opmode\":\"set\"}'\n",
      "Received message: 0200C125/embedded/stages b'{\"data\":{\"command\":\"set\",\"axes\":[{\"name\":\"x\",\"value\":116.10000000000000853,\"min\":-33000,\"max\":33000,\"target\":0,\"guiName\":\"x\",\"partOf\":\"live\",\"type\":\"linear\"},{\"name\":\"y\",\"value\":0,\"min\":-1800,\"max\":1800,\"target\":0,\"guiName\":\"y\",\"partOf\":\"live\",\"type\":\"linear\"},{\"name\":\"z\",\"value\":0,\"min\":-3450,\"max\":450,\"target\":0,\"guiName\":\"z\",\"partOf\":\"live\",\"type\":\"linear\"},{\"name\":\"cr\",\"value\":0.10000000000000000555,\"min\":-2000,\"max\":5500,\"target\":0.10000000000000000555,\"guiName\":\"cr\",\"partOf\":\"live\",\"type\":\"linear\"}],\"device\":\"stages\",\"stageSets\":[{\"name\":\"live sample imaging\",\"id\":\"live\",\"active\":true}]},\"type\":\"device\",\"opmode\":\"set\"}'\n",
      "Received message: 0200C125/embedded/stages b'{\"data\":{\"command\":\"set\",\"axes\":[{\"name\":\"x\",\"value\":0.2000000000000000111,\"min\":-33000,\"max\":33000,\"target\":0,\"guiName\":\"x\",\"partOf\":\"live\",\"type\":\"linear\"},{\"name\":\"y\",\"value\":0,\"min\":-1800,\"max\":1800,\"target\":0,\"guiName\":\"y\",\"partOf\":\"live\",\"type\":\"linear\"},{\"name\":\"z\",\"value\":0,\"min\":-3450,\"max\":450,\"target\":0,\"guiName\":\"z\",\"partOf\":\"live\",\"type\":\"linear\"},{\"name\":\"cr\",\"value\":0.10000000000000000555,\"min\":-2000,\"max\":5500,\"target\":0.10000000000000000555,\"guiName\":\"cr\",\"partOf\":\"live\",\"type\":\"linear\"}],\"device\":\"stages\",\"stageSets\":[{\"name\":\"live sample imaging\",\"id\":\"live\",\"active\":true}]},\"type\":\"device\",\"opmode\":\"set\"}'\n",
      "Received message: 0200C125/embedded/stages b'{\"data\":{\"command\":\"set\",\"axes\":[{\"name\":\"x\",\"value\":0,\"min\":-33000,\"max\":33000,\"target\":0,\"guiName\":\"x\",\"partOf\":\"live\",\"type\":\"linear\"},{\"name\":\"y\",\"value\":0,\"min\":-1800,\"max\":1800,\"target\":0,\"guiName\":\"y\",\"partOf\":\"live\",\"type\":\"linear\"},{\"name\":\"z\",\"value\":0,\"min\":-3450,\"max\":450,\"target\":0,\"guiName\":\"z\",\"partOf\":\"live\",\"type\":\"linear\"},{\"name\":\"cr\",\"value\":0.10000000000000000555,\"min\":-2000,\"max\":5500,\"target\":0.10000000000000000555,\"guiName\":\"cr\",\"partOf\":\"live\",\"type\":\"linear\"}],\"device\":\"stages\",\"stageSets\":[{\"name\":\"live sample imaging\",\"id\":\"live\",\"active\":true}]},\"type\":\"device\",\"opmode\":\"set\"}'\n"
     ]
    },
    {
     "data": {
      "text/plain": [
       "True"
      ]
     },
     "execution_count": 3,
     "metadata": {},
     "output_type": "execute_result"
    },
    {
     "name": "stdout",
     "output_type": "stream",
     "text": [
      "Received message: 0200C125/embedded/stages b'{\"data\":{\"command\":\"set\",\"axes\":[{\"name\":\"x\",\"value\":0,\"min\":-33000,\"max\":33000,\"target\":0,\"guiName\":\"x\",\"partOf\":\"live\",\"type\":\"linear\"},{\"name\":\"y\",\"value\":0,\"min\":-1800,\"max\":1800,\"target\":0,\"guiName\":\"y\",\"partOf\":\"live\",\"type\":\"linear\"},{\"name\":\"z\",\"value\":0,\"min\":-3450,\"max\":450,\"target\":0,\"guiName\":\"z\",\"partOf\":\"live\",\"type\":\"linear\"},{\"name\":\"cr\",\"value\":0.10000000000000000555,\"min\":-2000,\"max\":5500,\"target\":0.10000000000000000555,\"guiName\":\"cr\",\"partOf\":\"live\",\"type\":\"linear\"}],\"device\":\"stages\",\"stageSets\":[{\"name\":\"live sample imaging\",\"id\":\"live\",\"active\":true}]},\"type\":\"device\",\"opmode\":\"set\"}'\n",
      "Received message: 0200C125/embedded/stages b'{\"data\":{\"command\":\"set\",\"axes\":[{\"name\":\"x\",\"value\":0,\"min\":-33000,\"max\":33000,\"target\":0,\"guiName\":\"x\",\"partOf\":\"live\",\"type\":\"linear\"},{\"name\":\"y\",\"value\":0,\"min\":-1800,\"max\":1800,\"target\":0,\"guiName\":\"y\",\"partOf\":\"live\",\"type\":\"linear\"},{\"name\":\"z\",\"value\":0,\"min\":-3450,\"max\":450,\"target\":0,\"guiName\":\"z\",\"partOf\":\"live\",\"type\":\"linear\"},{\"name\":\"cr\",\"value\":0.10000000000000000555,\"min\":-2000,\"max\":5500,\"target\":0.10000000000000000555,\"guiName\":\"cr\",\"partOf\":\"live\",\"type\":\"linear\"}],\"device\":\"stages\",\"stageSets\":[{\"name\":\"live sample imaging\",\"id\":\"live\",\"active\":true}]},\"type\":\"device\",\"opmode\":\"set\"}'\n"
     ]
    }
   ],
   "source": [
    "stage = Stage(mqtt_handler)\n",
    "stage.y_position_um = 0\n",
    "stage.x_position_um = 0\n",
    "stage.z_position_um = 0\n",
    "stage.wait_until_stopped()"
   ]
  },
  {
   "cell_type": "code",
   "execution_count": 4,
   "metadata": {},
   "outputs": [
    {
     "data": {
      "text/plain": [
       "OrderedDict([('x',\n",
       "              Axis(name='x', min=-33000.0, max=33000.0, position_um=0.0, value=0.0, guiName='x', partOf='live', type='linear')),\n",
       "             ('y',\n",
       "              Axis(name='y', min=-1800.0, max=1800.0, position_um=0.0, value=0.0, guiName='y', partOf='live', type='linear')),\n",
       "             ('z',\n",
       "              Axis(name='z', min=-3450.0, max=450.0, position_um=0.0, value=0.0, guiName='z', partOf='live', type='linear')),\n",
       "             ('cr',\n",
       "              Axis(name='cr', min=-2000.0, max=5500.0, position_um=0.1, value=0.1, guiName='cr', partOf='live', type='linear'))])"
      ]
     },
     "execution_count": 4,
     "metadata": {},
     "output_type": "execute_result"
    }
   ],
   "source": [
    "stage.axes"
   ]
  },
  {
   "cell_type": "code",
   "execution_count": 5,
   "metadata": {},
   "outputs": [
    {
     "data": {
      "text/plain": [
       "False"
      ]
     },
     "execution_count": 5,
     "metadata": {},
     "output_type": "execute_result"
    }
   ],
   "source": [
    "stage.is_moving()"
   ]
  },
  {
   "cell_type": "code",
   "execution_count": 6,
   "metadata": {},
   "outputs": [],
   "source": [
    "stage.x_position_um += 1000\n",
    "stage.y_position_um += 100\n",
    "stage.z_position_um += 10"
   ]
  },
  {
   "cell_type": "code",
   "execution_count": 7,
   "metadata": {},
   "outputs": [
    {
     "name": "stdout",
     "output_type": "stream",
     "text": [
      "Received message: 0200C125/embedded/stages b'{\"data\":{\"command\":\"set\",\"axes\":[{\"name\":\"x\",\"value\":0,\"min\":-33000,\"max\":33000,\"target\":1000,\"guiName\":\"x\",\"partOf\":\"live\",\"type\":\"linear\"},{\"name\":\"y\",\"value\":0,\"min\":-1800,\"max\":1800,\"target\":0,\"guiName\":\"y\",\"partOf\":\"live\",\"type\":\"linear\"},{\"name\":\"z\",\"value\":0,\"min\":-3450,\"max\":450,\"target\":0,\"guiName\":\"z\",\"partOf\":\"live\",\"type\":\"linear\"},{\"name\":\"cr\",\"value\":0.10000000000000000555,\"min\":-2000,\"max\":5500,\"target\":0.10000000000000000555,\"guiName\":\"cr\",\"partOf\":\"live\",\"type\":\"linear\"}],\"device\":\"stages\",\"stageSets\":[{\"name\":\"live sample imaging\",\"id\":\"live\",\"active\":true}]},\"type\":\"device\",\"opmode\":\"set\"}'\n"
     ]
    },
    {
     "data": {
      "text/plain": [
       "True"
      ]
     },
     "execution_count": 7,
     "metadata": {},
     "output_type": "execute_result"
    }
   ],
   "source": [
    "stage.is_moving()"
   ]
  },
  {
   "cell_type": "code",
   "execution_count": 8,
   "metadata": {},
   "outputs": [
    {
     "name": "stdout",
     "output_type": "stream",
     "text": [
      "Received message: 0200C125/embedded/stages b'{\"data\":{\"command\":\"set\",\"axes\":[{\"name\":\"x\",\"value\":0,\"min\":-33000,\"max\":33000,\"target\":1000,\"guiName\":\"x\",\"partOf\":\"live\",\"type\":\"linear\"},{\"name\":\"y\",\"value\":0,\"min\":-1800,\"max\":1800,\"target\":100,\"guiName\":\"y\",\"partOf\":\"live\",\"type\":\"linear\"},{\"name\":\"z\",\"value\":0,\"min\":-3450,\"max\":450,\"target\":0,\"guiName\":\"z\",\"partOf\":\"live\",\"type\":\"linear\"},{\"name\":\"cr\",\"value\":0.10000000000000000555,\"min\":-2000,\"max\":5500,\"target\":0.10000000000000000555,\"guiName\":\"cr\",\"partOf\":\"live\",\"type\":\"linear\"}],\"device\":\"stages\",\"stageSets\":[{\"name\":\"live sample imaging\",\"id\":\"live\",\"active\":true}]},\"type\":\"device\",\"opmode\":\"set\"}'\n",
      "Received message: 0200C125/embedded/stages b'{\"data\":{\"command\":\"set\",\"axes\":[{\"name\":\"x\",\"value\":0,\"min\":-33000,\"max\":33000,\"target\":1000,\"guiName\":\"x\",\"partOf\":\"live\",\"type\":\"linear\"},{\"name\":\"y\",\"value\":0,\"min\":-1800,\"max\":1800,\"target\":100,\"guiName\":\"y\",\"partOf\":\"live\",\"type\":\"linear\"},{\"name\":\"z\",\"value\":0,\"min\":-3450,\"max\":450,\"target\":10,\"guiName\":\"z\",\"partOf\":\"live\",\"type\":\"linear\"},{\"name\":\"cr\",\"value\":0.10000000000000000555,\"min\":-2000,\"max\":5500,\"target\":0.10000000000000000555,\"guiName\":\"cr\",\"partOf\":\"live\",\"type\":\"linear\"}],\"device\":\"stages\",\"stageSets\":[{\"name\":\"live sample imaging\",\"id\":\"live\",\"active\":true}]},\"type\":\"device\",\"opmode\":\"set\"}'\n",
      "Received message: 0200C125/embedded/stages b'{\"data\":{\"command\":\"set\",\"axes\":[{\"name\":\"x\",\"value\":781.30000000000006821,\"min\":-33000,\"max\":33000,\"target\":1000,\"guiName\":\"x\",\"partOf\":\"live\",\"type\":\"linear\"},{\"name\":\"y\",\"value\":100,\"min\":-1800,\"max\":1800,\"target\":100,\"guiName\":\"y\",\"partOf\":\"live\",\"type\":\"linear\"},{\"name\":\"z\",\"value\":10,\"min\":-3450,\"max\":450,\"target\":10,\"guiName\":\"z\",\"partOf\":\"live\",\"type\":\"linear\"},{\"name\":\"cr\",\"value\":0.10000000000000000555,\"min\":-2000,\"max\":5500,\"target\":0.10000000000000000555,\"guiName\":\"cr\",\"partOf\":\"live\",\"type\":\"linear\"}],\"device\":\"stages\",\"stageSets\":[{\"name\":\"live sample imaging\",\"id\":\"live\",\"active\":true}]},\"type\":\"device\",\"opmode\":\"set\"}'\n",
      "Received message: 0200C125/embedded/stages b'{\"data\":{\"command\":\"set\",\"axes\":[{\"name\":\"x\",\"value\":1000,\"min\":-33000,\"max\":33000,\"target\":1000,\"guiName\":\"x\",\"partOf\":\"live\",\"type\":\"linear\"},{\"name\":\"y\",\"value\":100,\"min\":-1800,\"max\":1800,\"target\":100,\"guiName\":\"y\",\"partOf\":\"live\",\"type\":\"linear\"},{\"name\":\"z\",\"value\":10,\"min\":-3450,\"max\":450,\"target\":10,\"guiName\":\"z\",\"partOf\":\"live\",\"type\":\"linear\"},{\"name\":\"cr\",\"value\":0.10000000000000000555,\"min\":-2000,\"max\":5500,\"target\":0.10000000000000000555,\"guiName\":\"cr\",\"partOf\":\"live\",\"type\":\"linear\"}],\"device\":\"stages\",\"stageSets\":[{\"name\":\"live sample imaging\",\"id\":\"live\",\"active\":true}]},\"type\":\"device\",\"opmode\":\"set\"}'\n",
      "Received message: 0200C125/embedded/stages b'{\"data\":{\"command\":\"set\",\"axes\":[{\"name\":\"x\",\"value\":1000,\"min\":-33000,\"max\":33000,\"target\":1000,\"guiName\":\"x\",\"partOf\":\"live\",\"type\":\"linear\"},{\"name\":\"y\",\"value\":100,\"min\":-1800,\"max\":1800,\"target\":100,\"guiName\":\"y\",\"partOf\":\"live\",\"type\":\"linear\"},{\"name\":\"z\",\"value\":10,\"min\":-3450,\"max\":450,\"target\":10,\"guiName\":\"z\",\"partOf\":\"live\",\"type\":\"linear\"},{\"name\":\"cr\",\"value\":0.10000000000000000555,\"min\":-2000,\"max\":5500,\"target\":0.10000000000000000555,\"guiName\":\"cr\",\"partOf\":\"live\",\"type\":\"linear\"}],\"device\":\"stages\",\"stageSets\":[{\"name\":\"live sample imaging\",\"id\":\"live\",\"active\":true}]},\"type\":\"device\",\"opmode\":\"set\"}'\n",
      "Received message: 0200C125/embedded/stages b'{\"data\":{\"command\":\"set\",\"axes\":[{\"name\":\"x\",\"value\":1000,\"min\":-33000,\"max\":33000,\"target\":1000,\"guiName\":\"x\",\"partOf\":\"live\",\"type\":\"linear\"},{\"name\":\"y\",\"value\":100,\"min\":-1800,\"max\":1800,\"target\":100,\"guiName\":\"y\",\"partOf\":\"live\",\"type\":\"linear\"},{\"name\":\"z\",\"value\":10,\"min\":-3450,\"max\":450,\"target\":10,\"guiName\":\"z\",\"partOf\":\"live\",\"type\":\"linear\"},{\"name\":\"cr\",\"value\":0.10000000000000000555,\"min\":-2000,\"max\":5500,\"target\":0.10000000000000000555,\"guiName\":\"cr\",\"partOf\":\"live\",\"type\":\"linear\"}],\"device\":\"stages\",\"stageSets\":[{\"name\":\"live sample imaging\",\"id\":\"live\",\"active\":true}]},\"type\":\"device\",\"opmode\":\"set\"}'\n"
     ]
    },
    {
     "data": {
      "text/plain": [
       "True"
      ]
     },
     "execution_count": 8,
     "metadata": {},
     "output_type": "execute_result"
    }
   ],
   "source": [
    "stage.wait_until_stopped()"
   ]
  },
  {
   "cell_type": "code",
   "execution_count": 9,
   "metadata": {},
   "outputs": [
    {
     "data": {
      "text/plain": [
       "False"
      ]
     },
     "execution_count": 9,
     "metadata": {},
     "output_type": "execute_result"
    }
   ],
   "source": [
    "stage.is_moving()"
   ]
  },
  {
   "cell_type": "code",
   "execution_count": 10,
   "metadata": {},
   "outputs": [
    {
     "data": {
      "text/plain": [
       "OrderedDict([('x',\n",
       "              Axis(name='x', min=-33000.0, max=33000.0, position_um=1000.0, value=1000.0, guiName='x', partOf='live', type='linear')),\n",
       "             ('y',\n",
       "              Axis(name='y', min=-1800.0, max=1800.0, position_um=100.0, value=100.0, guiName='y', partOf='live', type='linear')),\n",
       "             ('z',\n",
       "              Axis(name='z', min=-3450.0, max=450.0, position_um=10.0, value=10.0, guiName='z', partOf='live', type='linear')),\n",
       "             ('cr',\n",
       "              Axis(name='cr', min=-2000.0, max=5500.0, position_um=0.1, value=0.1, guiName='cr', partOf='live', type='linear'))])"
      ]
     },
     "execution_count": 10,
     "metadata": {},
     "output_type": "execute_result"
    }
   ],
   "source": [
    "stage.axes"
   ]
  },
  {
   "cell_type": "code",
   "execution_count": null,
   "metadata": {},
   "outputs": [],
   "source": []
  }
 ],
 "metadata": {
  "kernelspec": {
   "display_name": "mic-gym-env",
   "language": "python",
   "name": "python3"
  },
  "language_info": {
   "codemirror_mode": {
    "name": "ipython",
    "version": 3
   },
   "file_extension": ".py",
   "mimetype": "text/x-python",
   "name": "python",
   "nbconvert_exporter": "python",
   "pygments_lexer": "ipython3",
   "version": "3.9.16"
  },
  "orig_nbformat": 4
 },
 "nbformat": 4,
 "nbformat_minor": 2
}
