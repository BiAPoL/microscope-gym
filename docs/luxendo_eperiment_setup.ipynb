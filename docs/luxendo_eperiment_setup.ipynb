{
 "cells": [
  {
   "cell_type": "code",
   "execution_count": 1,
   "metadata": {},
   "outputs": [],
   "source": [
    "from microscope_gym.microscope_adapters.luxendo_trulive3d import LuxendoAPIHandler, ChannelConfig, StackConfig,Stage\n",
    "from pprint import pprint"
   ]
  },
  {
   "cell_type": "code",
   "execution_count": 2,
   "metadata": {},
   "outputs": [],
   "source": [
    "def test_config(config_class):\n",
    "    api_handler = LuxendoAPIHandler(serial_number=\"0200C125\")\n",
    "    config = config_class(api_handler)\n",
    "    print(f\"Testing config: {config.device}\")\n",
    "    print(f\"Initial config: \\n\")\n",
    "    pprint(config.data)\n",
    "    print(f\"\\n\\nAdding config: \\n\")\n",
    "    config.add_element()\n",
    "    pprint(config.data)\n",
    "    print(f\"\\n\\nRemoving config: \\n\")\n",
    "    config.remove_element(name=config.data[-1].name)\n",
    "    pprint(config.data)\n"
   ]
  },
  {
   "cell_type": "code",
   "execution_count": 3,
   "metadata": {},
   "outputs": [
    {
     "name": "stdout",
     "output_type": "stream",
     "text": [
      "Connected\n",
      "Testing config: channels\n",
      "Initial config: \n",
      "\n",
      "[Channel(name='channel_0', description='', devices=[ChannelDevice(name='long', type='cameras', text=' T: 0 L: 0 H: 2304 W: 2304 Area'), ChannelDevice(name='short', type='cameras', text=' T: 512 L: 0 H: 512 W: 2304 Area'), ChannelDevice(name='lasers', type='fpga', text=''), ChannelDevice(name='scan_front', type='fpga', text='Park; Offset=0.00'), ChannelDevice(name='scan_back', type='fpga', text='Park; Offset=0.00'), ChannelDevice(name='mems', type='fpga', text='Park; Offset=0.00'), ChannelDevice(name='timings', type='fpga', text='Exposure=  60ms, Delay=  12ms '), ChannelDevice(name='external_triggers', type='fpga', text=''), ChannelDevice(name='fw_short', type='filterwheels', text='BP 432/515/595/730'), ChannelDevice(name='fw_long', type='filterwheels', text='BP 547-626'), ChannelDevice(name='TAG lens', type='taglens', text='Off'), ChannelDevice(name='mc_long_short_bottom', type='magchangers', text='200'), ChannelDevice(name='dichroic', type='dichroicswitch', text='LP 560'), ChannelDevice(name='dichroic_abl', type='dichroicswitch', text='empty1'), ChannelDevice(name='beamexp', type='beamexpander', text='1.8 &micro;m'), ChannelDevice(name='beamint', type='beamexpander', text='90%')]),\n",
      " Channel(name='channel_1', description='', devices=[ChannelDevice(name='long', type='cameras', text=' T: 0 L: 0 H: 2304 W: 2304 Area'), ChannelDevice(name='short', type='cameras', text=' T: 512 L: 0 H: 512 W: 2304 Area'), ChannelDevice(name='lasers', type='fpga', text=''), ChannelDevice(name='scan_front', type='fpga', text='Park; Offset=0.00'), ChannelDevice(name='scan_back', type='fpga', text='Park; Offset=0.00'), ChannelDevice(name='mems', type='fpga', text='Park; Offset=0.00'), ChannelDevice(name='timings', type='fpga', text='Exposure=  60ms, Delay=  12ms '), ChannelDevice(name='external_triggers', type='fpga', text=''), ChannelDevice(name='fw_short', type='filterwheels', text='BP 432/515/595/730'), ChannelDevice(name='fw_long', type='filterwheels', text='BP 547-626'), ChannelDevice(name='TAG lens', type='taglens', text='Off'), ChannelDevice(name='mc_long_short_bottom', type='magchangers', text='200'), ChannelDevice(name='dichroic', type='dichroicswitch', text='LP 560'), ChannelDevice(name='dichroic_abl', type='dichroicswitch', text='empty1'), ChannelDevice(name='beamexp', type='beamexpander', text='1.8 &micro;m'), ChannelDevice(name='beamint', type='beamexpander', text='90%')])]\n",
      "\n",
      "\n",
      "Adding config: \n",
      "\n",
      "[Channel(name='channel_0', description='', devices=[ChannelDevice(name='long', type='cameras', text=' T: 0 L: 0 H: 2304 W: 2304 Area'), ChannelDevice(name='short', type='cameras', text=' T: 512 L: 0 H: 512 W: 2304 Area'), ChannelDevice(name='lasers', type='fpga', text=''), ChannelDevice(name='scan_front', type='fpga', text='Park; Offset=0.00'), ChannelDevice(name='scan_back', type='fpga', text='Park; Offset=0.00'), ChannelDevice(name='mems', type='fpga', text='Park; Offset=0.00'), ChannelDevice(name='timings', type='fpga', text='Exposure=  60ms, Delay=  12ms '), ChannelDevice(name='external_triggers', type='fpga', text=''), ChannelDevice(name='fw_short', type='filterwheels', text='BP 432/515/595/730'), ChannelDevice(name='fw_long', type='filterwheels', text='BP 547-626'), ChannelDevice(name='TAG lens', type='taglens', text='Off'), ChannelDevice(name='mc_long_short_bottom', type='magchangers', text='200'), ChannelDevice(name='dichroic', type='dichroicswitch', text='LP 560'), ChannelDevice(name='dichroic_abl', type='dichroicswitch', text='empty1'), ChannelDevice(name='beamexp', type='beamexpander', text='1.8 &micro;m'), ChannelDevice(name='beamint', type='beamexpander', text='90%')]),\n",
      " Channel(name='channel_1', description='', devices=[ChannelDevice(name='long', type='cameras', text=' T: 0 L: 0 H: 2304 W: 2304 Area'), ChannelDevice(name='short', type='cameras', text=' T: 512 L: 0 H: 512 W: 2304 Area'), ChannelDevice(name='lasers', type='fpga', text=''), ChannelDevice(name='scan_front', type='fpga', text='Park; Offset=0.00'), ChannelDevice(name='scan_back', type='fpga', text='Park; Offset=0.00'), ChannelDevice(name='mems', type='fpga', text='Park; Offset=0.00'), ChannelDevice(name='timings', type='fpga', text='Exposure=  60ms, Delay=  12ms '), ChannelDevice(name='external_triggers', type='fpga', text=''), ChannelDevice(name='fw_short', type='filterwheels', text='BP 432/515/595/730'), ChannelDevice(name='fw_long', type='filterwheels', text='BP 547-626'), ChannelDevice(name='TAG lens', type='taglens', text='Off'), ChannelDevice(name='mc_long_short_bottom', type='magchangers', text='200'), ChannelDevice(name='dichroic', type='dichroicswitch', text='LP 560'), ChannelDevice(name='dichroic_abl', type='dichroicswitch', text='empty1'), ChannelDevice(name='beamexp', type='beamexpander', text='1.8 &micro;m'), ChannelDevice(name='beamint', type='beamexpander', text='90%')]),\n",
      " Channel(name='channel_2', description='', devices=[ChannelDevice(name='long', type='cameras', text=' T: 0 L: 0 H: 2304 W: 2304 Area'), ChannelDevice(name='short', type='cameras', text=' T: 512 L: 0 H: 512 W: 2304 Area'), ChannelDevice(name='lasers', type='fpga', text=''), ChannelDevice(name='scan_front', type='fpga', text='Park; Offset=0.00'), ChannelDevice(name='scan_back', type='fpga', text='Park; Offset=0.00'), ChannelDevice(name='mems', type='fpga', text='Park; Offset=0.00'), ChannelDevice(name='timings', type='fpga', text='Exposure=  60ms, Delay=  12ms '), ChannelDevice(name='external_triggers', type='fpga', text=''), ChannelDevice(name='fw_short', type='filterwheels', text='BP 432/515/595/730'), ChannelDevice(name='fw_long', type='filterwheels', text='BP 547-626'), ChannelDevice(name='TAG lens', type='taglens', text='Off'), ChannelDevice(name='mc_long_short_bottom', type='magchangers', text='200'), ChannelDevice(name='dichroic', type='dichroicswitch', text='LP 560'), ChannelDevice(name='dichroic_abl', type='dichroicswitch', text='empty1'), ChannelDevice(name='beamexp', type='beamexpander', text='1.8 &micro;m'), ChannelDevice(name='beamint', type='beamexpander', text='90%')])]\n",
      "\n",
      "\n",
      "Removing config: \n",
      "\n",
      "[Channel(name='channel_0', description='', devices=[ChannelDevice(name='long', type='cameras', text=' T: 0 L: 0 H: 2304 W: 2304 Area'), ChannelDevice(name='short', type='cameras', text=' T: 512 L: 0 H: 512 W: 2304 Area'), ChannelDevice(name='lasers', type='fpga', text=''), ChannelDevice(name='scan_front', type='fpga', text='Park; Offset=0.00'), ChannelDevice(name='scan_back', type='fpga', text='Park; Offset=0.00'), ChannelDevice(name='mems', type='fpga', text='Park; Offset=0.00'), ChannelDevice(name='timings', type='fpga', text='Exposure=  60ms, Delay=  12ms '), ChannelDevice(name='external_triggers', type='fpga', text=''), ChannelDevice(name='fw_short', type='filterwheels', text='BP 432/515/595/730'), ChannelDevice(name='fw_long', type='filterwheels', text='BP 547-626'), ChannelDevice(name='TAG lens', type='taglens', text='Off'), ChannelDevice(name='mc_long_short_bottom', type='magchangers', text='200'), ChannelDevice(name='dichroic', type='dichroicswitch', text='LP 560'), ChannelDevice(name='dichroic_abl', type='dichroicswitch', text='empty1'), ChannelDevice(name='beamexp', type='beamexpander', text='1.8 &micro;m'), ChannelDevice(name='beamint', type='beamexpander', text='90%')]),\n",
      " Channel(name='channel_1', description='', devices=[ChannelDevice(name='long', type='cameras', text=' T: 0 L: 0 H: 2304 W: 2304 Area'), ChannelDevice(name='short', type='cameras', text=' T: 512 L: 0 H: 512 W: 2304 Area'), ChannelDevice(name='lasers', type='fpga', text=''), ChannelDevice(name='scan_front', type='fpga', text='Park; Offset=0.00'), ChannelDevice(name='scan_back', type='fpga', text='Park; Offset=0.00'), ChannelDevice(name='mems', type='fpga', text='Park; Offset=0.00'), ChannelDevice(name='timings', type='fpga', text='Exposure=  60ms, Delay=  12ms '), ChannelDevice(name='external_triggers', type='fpga', text=''), ChannelDevice(name='fw_short', type='filterwheels', text='BP 432/515/595/730'), ChannelDevice(name='fw_long', type='filterwheels', text='BP 547-626'), ChannelDevice(name='TAG lens', type='taglens', text='Off'), ChannelDevice(name='mc_long_short_bottom', type='magchangers', text='200'), ChannelDevice(name='dichroic', type='dichroicswitch', text='LP 560'), ChannelDevice(name='dichroic_abl', type='dichroicswitch', text='empty1'), ChannelDevice(name='beamexp', type='beamexpander', text='1.8 &micro;m'), ChannelDevice(name='beamint', type='beamexpander', text='90%')])]\n"
     ]
    }
   ],
   "source": [
    "test_config(ChannelConfig)"
   ]
  },
  {
   "cell_type": "code",
   "execution_count": 4,
   "metadata": {},
   "outputs": [
    {
     "name": "stdout",
     "output_type": "stream",
     "text": [
      "Connected\n",
      "Connected\n",
      "[Stack(elements=[StackElement(name='x', start=0, end=0, instack=False, canTile=True), StackElement(name='y', start=0, end=0, instack=False, canTile=True), StackElement(name='z', start=0, end=0, instack=True, canTile=False), StackElement(name='cr', start=0, end=0, instack=True, canTile=False)], n=1, reps=1, name='stack_0', ref='z', description='')]\n"
     ]
    },
    {
     "data": {
      "text/plain": [
       "'{\"elements\": [{\"name\": \"x\", \"start\": 0, \"end\": 0}, {\"name\": \"y\", \"start\": 0, \"end\": 0}, {\"name\": \"z\", \"start\": 0, \"end\": 0}, {\"name\": \"cr\", \"start\": 0, \"end\": 0}], \"n\": 1, \"reps\": 1, \"name\": \"stack_1\", \"description\": \"created by Mic Gym API\", \"device\": \"stacks\", \"command\": \"add\"}'"
      ]
     },
     "execution_count": 4,
     "metadata": {},
     "output_type": "execute_result"
    }
   ],
   "source": [
    "mqtt_handler = LuxendoAPIHandler(serial_number=\"0200C125\")\n",
    "stage = Stage(mqtt_handler)\n",
    "stack_api_handler = LuxendoAPIHandler(serial_number=\"0200C125\")\n",
    "stack_config = StackConfig(stack_api_handler)\n",
    "pprint(stack_config.data)\n",
    "new_stack = stack_config.new_stack_from_stage(stage)\n",
    "new_stack.json(exclude_unset=True)\n"
   ]
  },
  {
   "cell_type": "code",
   "execution_count": 5,
   "metadata": {},
   "outputs": [
    {
     "name": "stdout",
     "output_type": "stream",
     "text": [
      "[Stack(elements=[StackElement(name='x', start=0, end=0, instack=False, canTile=True), StackElement(name='y', start=0, end=0, instack=False, canTile=True), StackElement(name='z', start=0, end=0, instack=True, canTile=False), StackElement(name='cr', start=0, end=0, instack=True, canTile=False)], n=1, reps=1, name='stack_0', ref='z', description=''),\n",
      " Stack(elements=[StackElement(name='x', start=0, end=0, instack=False, canTile=True), StackElement(name='y', start=0, end=0, instack=False, canTile=True), StackElement(name='z', start=0, end=0, instack=True, canTile=False), StackElement(name='cr', start=0, end=0, instack=True, canTile=False)], n=1, reps=1, name='stack_1', ref='z', description='created by Mic Gym API')]\n"
     ]
    }
   ],
   "source": [
    "stack_config.add_element(new_stack)\n",
    "pprint(stack_config.data)\n"
   ]
  },
  {
   "cell_type": "code",
   "execution_count": 6,
   "metadata": {},
   "outputs": [
    {
     "name": "stdout",
     "output_type": "stream",
     "text": [
      "[Stack(elements=[StackElement(name='x', start=0, end=0, instack=False, canTile=True), StackElement(name='y', start=0, end=0, instack=False, canTile=True), StackElement(name='z', start=0, end=0, instack=True, canTile=False), StackElement(name='cr', start=0, end=0, instack=True, canTile=False)], n=1, reps=1, name='stack_0', ref='z', description='')]\n"
     ]
    }
   ],
   "source": [
    "stack_config.remove_element(name=stack_config.data[-1].name)\n",
    "pprint(stack_config.data)\n"
   ]
  },
  {
   "cell_type": "code",
   "execution_count": null,
   "metadata": {},
   "outputs": [],
   "source": []
  }
 ],
 "metadata": {
  "kernelspec": {
   "display_name": "mic-gym-env",
   "language": "python",
   "name": "python3"
  },
  "language_info": {
   "codemirror_mode": {
    "name": "ipython",
    "version": 3
   },
   "file_extension": ".py",
   "mimetype": "text/x-python",
   "name": "python",
   "nbconvert_exporter": "python",
   "pygments_lexer": "ipython3",
   "version": "3.9.16"
  },
  "orig_nbformat": 4
 },
 "nbformat": 4,
 "nbformat_minor": 2
}
