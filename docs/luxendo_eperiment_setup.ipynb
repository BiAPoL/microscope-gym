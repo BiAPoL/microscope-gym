{
 "cells": [
  {
   "cell_type": "code",
   "execution_count": 1,
   "metadata": {},
   "outputs": [],
   "source": [
    "from microscope_gym.microscope_adapters.luxendo_trulive3d import LuxendoAPIHandler, ChannelConfig, StackConfig, EventConfig, DiskConfig, Stage\n",
    "from pprint import pprint\n",
    "from copy import deepcopy"
   ]
  },
  {
   "cell_type": "code",
   "execution_count": 2,
   "metadata": {},
   "outputs": [],
   "source": [
    "def test_config(config_class):\n",
    "    api_handler = LuxendoAPIHandler(serial_number=\"0200C125\")\n",
    "    config = config_class(api_handler)\n",
    "    print(f\"Testing config: {config.device}\")\n",
    "    print(f\"Initial config: \\n\")\n",
    "    pprint(config.data)\n",
    "    print(f\"\\n\\nAdding config: \\n\")\n",
    "    config.add_element()\n",
    "    pprint(config.data)\n",
    "    print(f\"\\n\\nRemoving config: \\n\")\n",
    "    config.remove_element(name=config.data[-1].name)\n",
    "    pprint(config.data)\n"
   ]
  },
  {
   "cell_type": "code",
   "execution_count": 3,
   "metadata": {},
   "outputs": [
    {
     "name": "stdout",
     "output_type": "stream",
     "text": [
      "Connected\n",
      "Testing config: channels\n",
      "Initial config: \n",
      "\n",
      "[Channel(name='channel_0', description='', devices=[ChannelDevice(name='long', type='cameras', text=' T: 0 L: 0 H: 2304 W: 2304 Area'), ChannelDevice(name='short', type='cameras', text=' T: 0 L: 0 H: 2304 W: 2304 Area'), ChannelDevice(name='lasers', type='fpga', text=''), ChannelDevice(name='scan_front', type='fpga', text='Park; Offset=0.00'), ChannelDevice(name='scan_back', type='fpga', text='Park; Offset=0.00'), ChannelDevice(name='mems', type='fpga', text='Park; Offset=0.00'), ChannelDevice(name='timings', type='fpga', text='Exposure=  50ms, Delay=  12ms '), ChannelDevice(name='external_triggers', type='fpga', text=''), ChannelDevice(name='fw_short', type='filterwheels', text='BP 432/515/595/730'), ChannelDevice(name='fw_long', type='filterwheels', text='BP 547-626'), ChannelDevice(name='TAG lens', type='taglens', text='Off'), ChannelDevice(name='mc_long_short_bottom', type='magchangers', text='200'), ChannelDevice(name='dichroic', type='dichroicswitch', text='LP 560'), ChannelDevice(name='dichroic_abl', type='dichroicswitch', text='empty1'), ChannelDevice(name='beamexp', type='beamexpander', text='1.8 &micro;m'), ChannelDevice(name='beamint', type='beamexpander', text='90%')])]\n",
      "\n",
      "\n",
      "Adding config: \n",
      "\n",
      "[Channel(name='channel_0', description='', devices=[ChannelDevice(name='long', type='cameras', text=' T: 0 L: 0 H: 2304 W: 2304 Area'), ChannelDevice(name='short', type='cameras', text=' T: 0 L: 0 H: 2304 W: 2304 Area'), ChannelDevice(name='lasers', type='fpga', text=''), ChannelDevice(name='scan_front', type='fpga', text='Park; Offset=0.00'), ChannelDevice(name='scan_back', type='fpga', text='Park; Offset=0.00'), ChannelDevice(name='mems', type='fpga', text='Park; Offset=0.00'), ChannelDevice(name='timings', type='fpga', text='Exposure=  50ms, Delay=  12ms '), ChannelDevice(name='external_triggers', type='fpga', text=''), ChannelDevice(name='fw_short', type='filterwheels', text='BP 432/515/595/730'), ChannelDevice(name='fw_long', type='filterwheels', text='BP 547-626'), ChannelDevice(name='TAG lens', type='taglens', text='Off'), ChannelDevice(name='mc_long_short_bottom', type='magchangers', text='200'), ChannelDevice(name='dichroic', type='dichroicswitch', text='LP 560'), ChannelDevice(name='dichroic_abl', type='dichroicswitch', text='empty1'), ChannelDevice(name='beamexp', type='beamexpander', text='1.8 &micro;m'), ChannelDevice(name='beamint', type='beamexpander', text='90%')]),\n",
      " Channel(name='channel_1', description='', devices=[ChannelDevice(name='long', type='cameras', text=' T: 0 L: 0 H: 2304 W: 2304 Area'), ChannelDevice(name='short', type='cameras', text=' T: 512 L: 0 H: 512 W: 2304 Area'), ChannelDevice(name='lasers', type='fpga', text=''), ChannelDevice(name='scan_front', type='fpga', text='Park; Offset=0.00'), ChannelDevice(name='scan_back', type='fpga', text='Park; Offset=0.00'), ChannelDevice(name='mems', type='fpga', text='Park; Offset=0.00'), ChannelDevice(name='timings', type='fpga', text='Exposure=  60ms, Delay=  12ms '), ChannelDevice(name='external_triggers', type='fpga', text=''), ChannelDevice(name='fw_short', type='filterwheels', text='BP 432/515/595/730'), ChannelDevice(name='fw_long', type='filterwheels', text='BP 547-626'), ChannelDevice(name='TAG lens', type='taglens', text='Off'), ChannelDevice(name='mc_long_short_bottom', type='magchangers', text='200'), ChannelDevice(name='dichroic', type='dichroicswitch', text='LP 560'), ChannelDevice(name='dichroic_abl', type='dichroicswitch', text='empty1'), ChannelDevice(name='beamexp', type='beamexpander', text='1.8 &micro;m'), ChannelDevice(name='beamint', type='beamexpander', text='90%')])]\n",
      "\n",
      "\n",
      "Removing config: \n",
      "\n",
      "[Channel(name='channel_0', description='', devices=[ChannelDevice(name='long', type='cameras', text=' T: 0 L: 0 H: 2304 W: 2304 Area'), ChannelDevice(name='short', type='cameras', text=' T: 0 L: 0 H: 2304 W: 2304 Area'), ChannelDevice(name='lasers', type='fpga', text=''), ChannelDevice(name='scan_front', type='fpga', text='Park; Offset=0.00'), ChannelDevice(name='scan_back', type='fpga', text='Park; Offset=0.00'), ChannelDevice(name='mems', type='fpga', text='Park; Offset=0.00'), ChannelDevice(name='timings', type='fpga', text='Exposure=  50ms, Delay=  12ms '), ChannelDevice(name='external_triggers', type='fpga', text=''), ChannelDevice(name='fw_short', type='filterwheels', text='BP 432/515/595/730'), ChannelDevice(name='fw_long', type='filterwheels', text='BP 547-626'), ChannelDevice(name='TAG lens', type='taglens', text='Off'), ChannelDevice(name='mc_long_short_bottom', type='magchangers', text='200'), ChannelDevice(name='dichroic', type='dichroicswitch', text='LP 560'), ChannelDevice(name='dichroic_abl', type='dichroicswitch', text='empty1'), ChannelDevice(name='beamexp', type='beamexpander', text='1.8 &micro;m'), ChannelDevice(name='beamint', type='beamexpander', text='90%')])]\n"
     ]
    }
   ],
   "source": [
    "test_config(ChannelConfig)"
   ]
  },
  {
   "cell_type": "code",
   "execution_count": 4,
   "metadata": {},
   "outputs": [
    {
     "name": "stdout",
     "output_type": "stream",
     "text": [
      "Connected\n"
     ]
    }
   ],
   "source": [
    "mqtt_handler = LuxendoAPIHandler(serial_number=\"0200C125\")\n",
    "stage = Stage(mqtt_handler)\n",
    "stack_config = StackConfig(mqtt_handler)\n",
    "copy = deepcopy(stack_config.data)"
   ]
  },
  {
   "cell_type": "code",
   "execution_count": 5,
   "metadata": {},
   "outputs": [
    {
     "name": "stdout",
     "output_type": "stream",
     "text": [
      "[Stack(elements=[StackElement(name='x', start=1000, end=1000, instack=False, canTile=True), StackElement(name='y', start=98, end=98, instack=False, canTile=True), StackElement(name='z', start=10, end=10, instack=True, canTile=False), StackElement(name='cr', start=0, end=0, instack=True, canTile=False)], n=1, reps=1, name='stack_0', ref='z', description=''),\n",
      " Stack(elements=[StackElement(name='x', start=1000, end=1000, instack=False, canTile=True), StackElement(name='y', start=98, end=98, instack=False, canTile=True), StackElement(name='z', start=10, end=10, instack=True, canTile=False), StackElement(name='cr', start=0, end=0, instack=True, canTile=False)], n=1, reps=1, name='stack_1', ref='z', description='')]\n"
     ]
    }
   ],
   "source": [
    "copy[0].name = 'stack_1'\n",
    "stack_config.add_element(copy[0])\n",
    "pprint(stack_config.data)\n"
   ]
  },
  {
   "cell_type": "code",
   "execution_count": 6,
   "metadata": {},
   "outputs": [
    {
     "name": "stdout",
     "output_type": "stream",
     "text": [
      "[Stack(elements=[StackElement(name='x', start=1000, end=1000, instack=False, canTile=True), StackElement(name='y', start=98, end=98, instack=False, canTile=True), StackElement(name='z', start=10, end=10, instack=True, canTile=False), StackElement(name='cr', start=0, end=0, instack=True, canTile=False)], n=1, reps=1, name='stack_0', ref='z', description='')]\n"
     ]
    }
   ],
   "source": [
    "stack_config.remove_element(name=stack_config.data[-1].name)\n",
    "pprint(stack_config.data)\n"
   ]
  },
  {
   "cell_type": "code",
   "execution_count": 7,
   "metadata": {},
   "outputs": [
    {
     "name": "stdout",
     "output_type": "stream",
     "text": [
      "Connected\n",
      "Testing config: events\n",
      "Initial config: \n",
      "\n",
      "[Event(name='Event_0', tasks=[Task(name='Task_000', type='StackChannel', channel='channel_0', stack='stack_0', configuration='default', order=0, ablation=[])], triggers=[Trigger(name='Trigger_000', type='StartIntervalRepeats', start=Time(h=0, m=0, s=0), interval=Time(h=0, m=0, s=0), reps=1)]),\n",
      " Event(name='Event_1', tasks=[Task(name='Task_000', type='StackChannel', channel='channel_0', stack='stack_0', configuration='default', order=0, ablation=[])], triggers=[Trigger(name='Trigger_000', type='StartIntervalRepeats', start=Time(h=0, m=0, s=0), interval=Time(h=0, m=0, s=0), reps=1)]),\n",
      " Event(name='Event_2', tasks=[Task(name='Task_000', type='StackChannel', channel='channel_0', stack='stack_0', configuration='default', order=0, ablation=[]), Task(name='Task_001', type='StackChannel', channel='channel_0', stack='stack_1', configuration='default', order=1, ablation=[])], triggers=[Trigger(name='Trigger_000', type='StartIntervalRepeats', start=Time(h=0, m=0, s=1), interval=Time(h=0, m=0, s=0), reps=1), Trigger(name='Trigger_001', type='StartIntervalRepeats', start=Time(h=0, m=0, s=2), interval=Time(h=0, m=0, s=0), reps=1), Trigger(name='Trigger_002', type='StartIntervalRepeats', start=Time(h=0, m=0, s=3), interval=Time(h=0, m=0, s=0), reps=1)])]\n",
      "\n",
      "\n",
      "Adding config: \n",
      "\n",
      "[Event(name='Event_0', tasks=[Task(name='Task_000', type='StackChannel', channel='channel_0', stack='stack_0', configuration='default', order=0, ablation=[])], triggers=[Trigger(name='Trigger_000', type='StartIntervalRepeats', start=Time(h=0, m=0, s=0), interval=Time(h=0, m=0, s=0), reps=1)]),\n",
      " Event(name='Event_1', tasks=[Task(name='Task_000', type='StackChannel', channel='channel_0', stack='stack_0', configuration='default', order=0, ablation=[])], triggers=[Trigger(name='Trigger_000', type='StartIntervalRepeats', start=Time(h=0, m=0, s=0), interval=Time(h=0, m=0, s=0), reps=1)]),\n",
      " Event(name='Event_2', tasks=[Task(name='Task_000', type='StackChannel', channel='channel_0', stack='stack_0', configuration='default', order=0, ablation=[]), Task(name='Task_001', type='StackChannel', channel='channel_0', stack='stack_1', configuration='default', order=1, ablation=[])], triggers=[Trigger(name='Trigger_000', type='StartIntervalRepeats', start=Time(h=0, m=0, s=1), interval=Time(h=0, m=0, s=0), reps=1), Trigger(name='Trigger_001', type='StartIntervalRepeats', start=Time(h=0, m=0, s=2), interval=Time(h=0, m=0, s=0), reps=1), Trigger(name='Trigger_002', type='StartIntervalRepeats', start=Time(h=0, m=0, s=3), interval=Time(h=0, m=0, s=0), reps=1)]),\n",
      " Event(name='Event_3', tasks=[], triggers=[])]\n",
      "\n",
      "\n",
      "Removing config: \n",
      "\n",
      "[Event(name='Event_0', tasks=[Task(name='Task_000', type='StackChannel', channel='channel_0', stack='stack_0', configuration='default', order=0, ablation=[])], triggers=[Trigger(name='Trigger_000', type='StartIntervalRepeats', start=Time(h=0, m=0, s=0), interval=Time(h=0, m=0, s=0), reps=1)]),\n",
      " Event(name='Event_1', tasks=[Task(name='Task_000', type='StackChannel', channel='channel_0', stack='stack_0', configuration='default', order=0, ablation=[])], triggers=[Trigger(name='Trigger_000', type='StartIntervalRepeats', start=Time(h=0, m=0, s=0), interval=Time(h=0, m=0, s=0), reps=1)]),\n",
      " Event(name='Event_2', tasks=[Task(name='Task_000', type='StackChannel', channel='channel_0', stack='stack_0', configuration='default', order=0, ablation=[]), Task(name='Task_001', type='StackChannel', channel='channel_0', stack='stack_1', configuration='default', order=1, ablation=[])], triggers=[Trigger(name='Trigger_000', type='StartIntervalRepeats', start=Time(h=0, m=0, s=1), interval=Time(h=0, m=0, s=0), reps=1), Trigger(name='Trigger_001', type='StartIntervalRepeats', start=Time(h=0, m=0, s=2), interval=Time(h=0, m=0, s=0), reps=1), Trigger(name='Trigger_002', type='StartIntervalRepeats', start=Time(h=0, m=0, s=3), interval=Time(h=0, m=0, s=0), reps=1)])]\n"
     ]
    }
   ],
   "source": [
    "test_config(EventConfig)"
   ]
  },
  {
   "cell_type": "code",
   "execution_count": 8,
   "metadata": {},
   "outputs": [
    {
     "name": "stdout",
     "output_type": "stream",
     "text": [
      "Connected\n"
     ]
    }
   ],
   "source": [
    "from microscope_gym.microscope_adapters.luxendo_trulive3d import LuxendoAPIHandler, DiskConfig, Disk\n",
    "mqtt_handler = LuxendoAPIHandler(serial_number=\"0200C125\")\n",
    "disk_config = DiskConfig(mqtt_handler)"
   ]
  },
  {
   "cell_type": "code",
   "execution_count": 9,
   "metadata": {},
   "outputs": [
    {
     "name": "stdout",
     "output_type": "stream",
     "text": [
      "device='disk' command='set' folder=Folder(name='/.', path='D:/', parent=False, children=[FolderChild(name='$RECYCLE.BIN', size=0.0, mime='folder', type='folder', creationtime='06/13/2023 09:44:37 AM'), FolderChild(name='API_Test', size=0.0, mime='folder', type='folder', creationtime='08/04/2023 02:41:09 PM'), FolderChild(name='System Volume Information', size=0.0, mime='folder', type='folder', creationtime='06/13/2023 09:40:12 AM')]) message=DiskMessage(command='getconfig', message='ok', success=True) selectedpath='API_Test' selectedsource='LocalRaid' sources=Sources(options=[Source(name='LocalRaid', free=15941585768448, size=15942783311872, speed=0.0), Source(name='HIVE', free=89465156534272, size=103998317133824, speed=0.0)], value='LocalRaid')\n"
     ]
    }
   ],
   "source": [
    "print(disk_config.data)"
   ]
  },
  {
   "cell_type": "code",
   "execution_count": 10,
   "metadata": {},
   "outputs": [
    {
     "data": {
      "text/plain": [
       "'/.'"
      ]
     },
     "execution_count": 10,
     "metadata": {},
     "output_type": "execute_result"
    }
   ],
   "source": [
    "disk_config.data.folder.name"
   ]
  },
  {
   "cell_type": "code",
   "execution_count": null,
   "metadata": {},
   "outputs": [],
   "source": []
  }
 ],
 "metadata": {
  "kernelspec": {
   "display_name": "mic-gym-env",
   "language": "python",
   "name": "python3"
  },
  "language_info": {
   "codemirror_mode": {
    "name": "ipython",
    "version": 3
   },
   "file_extension": ".py",
   "mimetype": "text/x-python",
   "name": "python",
   "nbconvert_exporter": "python",
   "pygments_lexer": "ipython3",
   "version": "3.9.16"
  },
  "orig_nbformat": 4
 },
 "nbformat": 4,
 "nbformat_minor": 2
}
