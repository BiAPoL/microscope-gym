{
 "cells": [
  {
   "cell_type": "code",
   "execution_count": 1,
   "metadata": {},
   "outputs": [],
   "source": [
    "from microscope_gym.microscope_adapters.luxendo_trulive3d import LuxendoAPIHandler, ChannelConfig, StackConfig, EventConfig, Stage\n",
    "from pprint import pprint"
   ]
  },
  {
   "cell_type": "code",
   "execution_count": 2,
   "metadata": {},
   "outputs": [],
   "source": [
    "def test_config(config_class):\n",
    "    api_handler = LuxendoAPIHandler(serial_number=\"0200C125\")\n",
    "    config = config_class(api_handler)\n",
    "    print(f\"Testing config: {config.device}\")\n",
    "    print(f\"Initial config: \\n\")\n",
    "    pprint(config.data)\n",
    "    print(f\"\\n\\nAdding config: \\n\")\n",
    "    config.add_element()\n",
    "    pprint(config.data)\n",
    "    print(f\"\\n\\nRemoving config: \\n\")\n",
    "    config.remove_element(name=config.data[-1].name)\n",
    "    pprint(config.data)\n"
   ]
  },
  {
   "cell_type": "code",
   "execution_count": 3,
   "metadata": {},
   "outputs": [
    {
     "name": "stdout",
     "output_type": "stream",
     "text": [
      "Connected\n",
      "Testing config: channels\n",
      "Initial config: \n",
      "\n",
      "[Channel(name='channel_0', description='', devices=[ChannelDevice(name='long', type='cameras', text=' T: 0 L: 0 H: 2304 W: 2304 Area'), ChannelDevice(name='short', type='cameras', text=' T: 0 L: 0 H: 2304 W: 2304 Area'), ChannelDevice(name='lasers', type='fpga', text=''), ChannelDevice(name='scan_front', type='fpga', text='Park; Offset=0.00'), ChannelDevice(name='scan_back', type='fpga', text='Park; Offset=0.00'), ChannelDevice(name='mems', type='fpga', text='Park; Offset=0.00'), ChannelDevice(name='timings', type='fpga', text='Exposure=  50ms, Delay=  12ms '), ChannelDevice(name='external_triggers', type='fpga', text=''), ChannelDevice(name='fw_short', type='filterwheels', text='BP 432/515/595/730'), ChannelDevice(name='fw_long', type='filterwheels', text='BP 547-626'), ChannelDevice(name='TAG lens', type='taglens', text='Off'), ChannelDevice(name='mc_long_short_bottom', type='magchangers', text='200'), ChannelDevice(name='dichroic', type='dichroicswitch', text='LP 560'), ChannelDevice(name='dichroic_abl', type='dichroicswitch', text='empty1'), ChannelDevice(name='beamexp', type='beamexpander', text='1.8 &micro;m'), ChannelDevice(name='beamint', type='beamexpander', text='90%')]),\n",
      " Channel(name='channel_1', description='', devices=[ChannelDevice(name='long', type='cameras', text=' T: 0 L: 0 H: 2304 W: 2304 Area'), ChannelDevice(name='short', type='cameras', text=' T: 0 L: 0 H: 2304 W: 2304 Area'), ChannelDevice(name='lasers', type='fpga', text=''), ChannelDevice(name='scan_front', type='fpga', text='Park; Offset=0.00'), ChannelDevice(name='scan_back', type='fpga', text='Park; Offset=0.00'), ChannelDevice(name='mems', type='fpga', text='Park; Offset=0.00'), ChannelDevice(name='timings', type='fpga', text='Exposure=  50ms, Delay=  12ms '), ChannelDevice(name='external_triggers', type='fpga', text=''), ChannelDevice(name='fw_short', type='filterwheels', text='BP 432/515/595/730'), ChannelDevice(name='fw_long', type='filterwheels', text='BP 547-626'), ChannelDevice(name='TAG lens', type='taglens', text='Off'), ChannelDevice(name='mc_long_short_bottom', type='magchangers', text='200'), ChannelDevice(name='dichroic', type='dichroicswitch', text='LP 560'), ChannelDevice(name='dichroic_abl', type='dichroicswitch', text='empty1'), ChannelDevice(name='beamexp', type='beamexpander', text='1.8 &micro;m'), ChannelDevice(name='beamint', type='beamexpander', text='90%')])]\n",
      "\n",
      "\n",
      "Adding config: \n",
      "\n",
      "[Channel(name='channel_0', description='', devices=[ChannelDevice(name='long', type='cameras', text=' T: 0 L: 0 H: 2304 W: 2304 Area'), ChannelDevice(name='short', type='cameras', text=' T: 0 L: 0 H: 2304 W: 2304 Area'), ChannelDevice(name='lasers', type='fpga', text=''), ChannelDevice(name='scan_front', type='fpga', text='Park; Offset=0.00'), ChannelDevice(name='scan_back', type='fpga', text='Park; Offset=0.00'), ChannelDevice(name='mems', type='fpga', text='Park; Offset=0.00'), ChannelDevice(name='timings', type='fpga', text='Exposure=  50ms, Delay=  12ms '), ChannelDevice(name='external_triggers', type='fpga', text=''), ChannelDevice(name='fw_short', type='filterwheels', text='BP 432/515/595/730'), ChannelDevice(name='fw_long', type='filterwheels', text='BP 547-626'), ChannelDevice(name='TAG lens', type='taglens', text='Off'), ChannelDevice(name='mc_long_short_bottom', type='magchangers', text='200'), ChannelDevice(name='dichroic', type='dichroicswitch', text='LP 560'), ChannelDevice(name='dichroic_abl', type='dichroicswitch', text='empty1'), ChannelDevice(name='beamexp', type='beamexpander', text='1.8 &micro;m'), ChannelDevice(name='beamint', type='beamexpander', text='90%')]),\n",
      " Channel(name='channel_1', description='', devices=[ChannelDevice(name='long', type='cameras', text=' T: 0 L: 0 H: 2304 W: 2304 Area'), ChannelDevice(name='short', type='cameras', text=' T: 0 L: 0 H: 2304 W: 2304 Area'), ChannelDevice(name='lasers', type='fpga', text=''), ChannelDevice(name='scan_front', type='fpga', text='Park; Offset=0.00'), ChannelDevice(name='scan_back', type='fpga', text='Park; Offset=0.00'), ChannelDevice(name='mems', type='fpga', text='Park; Offset=0.00'), ChannelDevice(name='timings', type='fpga', text='Exposure=  50ms, Delay=  12ms '), ChannelDevice(name='external_triggers', type='fpga', text=''), ChannelDevice(name='fw_short', type='filterwheels', text='BP 432/515/595/730'), ChannelDevice(name='fw_long', type='filterwheels', text='BP 547-626'), ChannelDevice(name='TAG lens', type='taglens', text='Off'), ChannelDevice(name='mc_long_short_bottom', type='magchangers', text='200'), ChannelDevice(name='dichroic', type='dichroicswitch', text='LP 560'), ChannelDevice(name='dichroic_abl', type='dichroicswitch', text='empty1'), ChannelDevice(name='beamexp', type='beamexpander', text='1.8 &micro;m'), ChannelDevice(name='beamint', type='beamexpander', text='90%')]),\n",
      " Channel(name='channel_2', description='', devices=[ChannelDevice(name='long', type='cameras', text=' T: 0 L: 0 H: 2304 W: 2304 Area'), ChannelDevice(name='short', type='cameras', text=' T: 0 L: 0 H: 2304 W: 2304 Area'), ChannelDevice(name='lasers', type='fpga', text=''), ChannelDevice(name='scan_front', type='fpga', text='Park; Offset=0.00'), ChannelDevice(name='scan_back', type='fpga', text='Park; Offset=0.00'), ChannelDevice(name='mems', type='fpga', text='Park; Offset=0.00'), ChannelDevice(name='timings', type='fpga', text='Exposure=  50ms, Delay=  12ms '), ChannelDevice(name='external_triggers', type='fpga', text=''), ChannelDevice(name='fw_short', type='filterwheels', text='BP 432/515/595/730'), ChannelDevice(name='fw_long', type='filterwheels', text='BP 547-626'), ChannelDevice(name='TAG lens', type='taglens', text='Off'), ChannelDevice(name='mc_long_short_bottom', type='magchangers', text='200'), ChannelDevice(name='dichroic', type='dichroicswitch', text='LP 560'), ChannelDevice(name='dichroic_abl', type='dichroicswitch', text='empty1'), ChannelDevice(name='beamexp', type='beamexpander', text='1.8 &micro;m'), ChannelDevice(name='beamint', type='beamexpander', text='90%')])]\n",
      "\n",
      "\n",
      "Removing config: \n",
      "\n",
      "[Channel(name='channel_0', description='', devices=[ChannelDevice(name='long', type='cameras', text=' T: 0 L: 0 H: 2304 W: 2304 Area'), ChannelDevice(name='short', type='cameras', text=' T: 0 L: 0 H: 2304 W: 2304 Area'), ChannelDevice(name='lasers', type='fpga', text=''), ChannelDevice(name='scan_front', type='fpga', text='Park; Offset=0.00'), ChannelDevice(name='scan_back', type='fpga', text='Park; Offset=0.00'), ChannelDevice(name='mems', type='fpga', text='Park; Offset=0.00'), ChannelDevice(name='timings', type='fpga', text='Exposure=  50ms, Delay=  12ms '), ChannelDevice(name='external_triggers', type='fpga', text=''), ChannelDevice(name='fw_short', type='filterwheels', text='BP 432/515/595/730'), ChannelDevice(name='fw_long', type='filterwheels', text='BP 547-626'), ChannelDevice(name='TAG lens', type='taglens', text='Off'), ChannelDevice(name='mc_long_short_bottom', type='magchangers', text='200'), ChannelDevice(name='dichroic', type='dichroicswitch', text='LP 560'), ChannelDevice(name='dichroic_abl', type='dichroicswitch', text='empty1'), ChannelDevice(name='beamexp', type='beamexpander', text='1.8 &micro;m'), ChannelDevice(name='beamint', type='beamexpander', text='90%')]),\n",
      " Channel(name='channel_1', description='', devices=[ChannelDevice(name='long', type='cameras', text=' T: 0 L: 0 H: 2304 W: 2304 Area'), ChannelDevice(name='short', type='cameras', text=' T: 0 L: 0 H: 2304 W: 2304 Area'), ChannelDevice(name='lasers', type='fpga', text=''), ChannelDevice(name='scan_front', type='fpga', text='Park; Offset=0.00'), ChannelDevice(name='scan_back', type='fpga', text='Park; Offset=0.00'), ChannelDevice(name='mems', type='fpga', text='Park; Offset=0.00'), ChannelDevice(name='timings', type='fpga', text='Exposure=  50ms, Delay=  12ms '), ChannelDevice(name='external_triggers', type='fpga', text=''), ChannelDevice(name='fw_short', type='filterwheels', text='BP 432/515/595/730'), ChannelDevice(name='fw_long', type='filterwheels', text='BP 547-626'), ChannelDevice(name='TAG lens', type='taglens', text='Off'), ChannelDevice(name='mc_long_short_bottom', type='magchangers', text='200'), ChannelDevice(name='dichroic', type='dichroicswitch', text='LP 560'), ChannelDevice(name='dichroic_abl', type='dichroicswitch', text='empty1'), ChannelDevice(name='beamexp', type='beamexpander', text='1.8 &micro;m'), ChannelDevice(name='beamint', type='beamexpander', text='90%')])]\n"
     ]
    }
   ],
   "source": [
    "test_config(ChannelConfig)"
   ]
  },
  {
   "cell_type": "code",
   "execution_count": 2,
   "metadata": {},
   "outputs": [
    {
     "name": "stdout",
     "output_type": "stream",
     "text": [
      "Connected\n",
      "Connected\n",
      "[Stack(elements=[StackElement(name='x', start=0, end=0, instack=False, canTile=True), StackElement(name='y', start=0, end=0, instack=False, canTile=True), StackElement(name='z', start=0, end=0, instack=True, canTile=False), StackElement(name='cr', start=0, end=0, instack=True, canTile=False)], n=1, reps=1, name='stack_0', ref='z', description=''),\n",
      " Stack(elements=[StackElement(name='x', start=0, end=0, instack=False, canTile=True), StackElement(name='y', start=0, end=0, instack=False, canTile=True), StackElement(name='z', start=0, end=0, instack=True, canTile=False), StackElement(name='cr', start=0, end=0, instack=True, canTile=False)], n=1, reps=1, name='stack_1', ref='z', description='')]\n"
     ]
    },
    {
     "data": {
      "text/plain": [
       "'{\"elements\": [{\"name\": \"x\", \"start\": 0, \"end\": 0}, {\"name\": \"y\", \"start\": 0, \"end\": 0}, {\"name\": \"z\", \"start\": 0, \"end\": 0}, {\"name\": \"cr\", \"start\": 0, \"end\": 0}], \"n\": 1, \"reps\": 1, \"name\": \"stack_2\", \"description\": \"created by Mic Gym API\", \"device\": \"stacks\", \"command\": \"add\"}'"
      ]
     },
     "execution_count": 2,
     "metadata": {},
     "output_type": "execute_result"
    }
   ],
   "source": [
    "mqtt_handler = LuxendoAPIHandler(serial_number=\"0200C125\")\n",
    "stage = Stage(mqtt_handler)\n",
    "stack_api_handler = LuxendoAPIHandler(serial_number=\"0200C125\")\n",
    "stack_config = StackConfig(stack_api_handler)\n",
    "pprint(stack_config.data)\n",
    "new_stack = stack_config.new_stack_from_stage(stage)\n",
    "new_stack.json(exclude_unset=True)\n"
   ]
  },
  {
   "cell_type": "code",
   "execution_count": 3,
   "metadata": {},
   "outputs": [
    {
     "name": "stdout",
     "output_type": "stream",
     "text": [
      "[Stack(elements=[StackElement(name='x', start=0, end=0, instack=False, canTile=True), StackElement(name='y', start=0, end=0, instack=False, canTile=True), StackElement(name='z', start=0, end=0, instack=True, canTile=False), StackElement(name='cr', start=0, end=0, instack=True, canTile=False)], n=1, reps=1, name='stack_0', ref='z', description=''),\n",
      " Stack(elements=[StackElement(name='x', start=0, end=0, instack=False, canTile=True), StackElement(name='y', start=0, end=0, instack=False, canTile=True), StackElement(name='z', start=0, end=0, instack=True, canTile=False), StackElement(name='cr', start=0, end=0, instack=True, canTile=False)], n=1, reps=1, name='stack_1', ref='z', description=''),\n",
      " Stack(elements=[StackElement(name='x', start=0, end=0, instack=False, canTile=True), StackElement(name='y', start=0, end=0, instack=False, canTile=True), StackElement(name='z', start=0, end=0, instack=True, canTile=False), StackElement(name='cr', start=0, end=0, instack=True, canTile=False)], n=1, reps=1, name='stack_2', ref='z', description='created by Mic Gym API')]\n"
     ]
    }
   ],
   "source": [
    "stack_config.add_element(new_stack)\n",
    "pprint(stack_config.data)\n"
   ]
  },
  {
   "cell_type": "code",
   "execution_count": 4,
   "metadata": {},
   "outputs": [
    {
     "name": "stdout",
     "output_type": "stream",
     "text": [
      "[Stack(elements=[StackElement(name='x', start=0, end=0, instack=False, canTile=True), StackElement(name='y', start=0, end=0, instack=False, canTile=True), StackElement(name='z', start=0, end=0, instack=True, canTile=False), StackElement(name='cr', start=0, end=0, instack=True, canTile=False)], n=1, reps=1, name='stack_0', ref='z', description=''),\n",
      " Stack(elements=[StackElement(name='x', start=0, end=0, instack=False, canTile=True), StackElement(name='y', start=0, end=0, instack=False, canTile=True), StackElement(name='z', start=0, end=0, instack=True, canTile=False), StackElement(name='cr', start=0, end=0, instack=True, canTile=False)], n=1, reps=1, name='stack_1', ref='z', description='')]\n"
     ]
    }
   ],
   "source": [
    "stack_config.remove_element(name=stack_config.data[-1].name)\n",
    "pprint(stack_config.data)\n"
   ]
  },
  {
   "cell_type": "code",
   "execution_count": 6,
   "metadata": {},
   "outputs": [
    {
     "name": "stderr",
     "output_type": "stream",
     "text": [
      "Exception in thread Thread-6:\n",
      "Traceback (most recent call last):\n",
      "  File \"c:\\Users\\SPIM\\mambaforge\\envs\\mic-gym-env\\lib\\threading.py\", line 980, in _bootstrap_inner\n",
      "    self.run()\n",
      "  File \"c:\\Users\\SPIM\\mambaforge\\envs\\mic-gym-env\\lib\\threading.py\", line 917, in run\n",
      "    self._target(*self._args, **self._kwargs)\n",
      "  File \"c:\\Users\\SPIM\\mambaforge\\envs\\mic-gym-env\\lib\\site-packages\\paho\\mqtt\\client.py\", line 3591, in _thread_main\n",
      "    self.loop_forever(retry_first_connection=True)\n",
      "  File \"c:\\Users\\SPIM\\mambaforge\\envs\\mic-gym-env\\lib\\site-packages\\paho\\mqtt\\client.py\", line 1756, in loop_forever\n",
      "    rc = self._loop(timeout)\n",
      "  File \"c:\\Users\\SPIM\\mambaforge\\envs\\mic-gym-env\\lib\\site-packages\\paho\\mqtt\\client.py\", line 1164, in _loop\n",
      "    rc = self.loop_read()\n",
      "  File \"c:\\Users\\SPIM\\mambaforge\\envs\\mic-gym-env\\lib\\site-packages\\paho\\mqtt\\client.py\", line 1556, in loop_read\n",
      "    rc = self._packet_read()\n",
      "  File \"c:\\Users\\SPIM\\mambaforge\\envs\\mic-gym-env\\lib\\site-packages\\paho\\mqtt\\client.py\", line 2439, in _packet_read\n",
      "    rc = self._packet_handle()\n",
      "  File \"c:\\Users\\SPIM\\mambaforge\\envs\\mic-gym-env\\lib\\site-packages\\paho\\mqtt\\client.py\", line 3033, in _packet_handle\n",
      "    return self._handle_publish()\n",
      "  File \"c:\\Users\\SPIM\\mambaforge\\envs\\mic-gym-env\\lib\\site-packages\\paho\\mqtt\\client.py\", line 3327, in _handle_publish\n",
      "    self._handle_on_message(message)\n",
      "  File \"c:\\Users\\SPIM\\mambaforge\\envs\\mic-gym-env\\lib\\site-packages\\paho\\mqtt\\client.py\", line 3556, in _handle_on_message\n",
      "    callback(self, self._userdata, message)\n",
      "  File \"c:\\users\\spim\\documents\\github\\microscope-gym\\microscope_gym\\microscope_adapters\\luxendo_trulive3d.py\", line 173, in _update\n",
      "    self.data = self._parse_data(payload_dict)\n",
      "  File \"c:\\users\\spim\\documents\\github\\microscope-gym\\microscope_gym\\microscope_adapters\\luxendo_trulive3d.py\", line 202, in _parse_data\n",
      "    return [self.data_class(**device_data) for device_data in payload_dict['data'][self.device]]\n",
      "  File \"c:\\users\\spim\\documents\\github\\microscope-gym\\microscope_gym\\microscope_adapters\\luxendo_trulive3d.py\", line 202, in <listcomp>\n",
      "    return [self.data_class(**device_data) for device_data in payload_dict['data'][self.device]]\n",
      "  File \"pydantic\\main.py\", line 341, in pydantic.main.BaseModel.__init__\n",
      "pydantic.error_wrappers.ValidationError: 1 validation error for Events\n",
      "events\n",
      "  field required (type=value_error.missing)\n"
     ]
    },
    {
     "name": "stdout",
     "output_type": "stream",
     "text": [
      "Connected\n"
     ]
    },
    {
     "ename": "TimeoutError",
     "evalue": "Timeout waiting for configuration data for EventConfig",
     "output_type": "error",
     "traceback": [
      "\u001b[1;31m---------------------------------------------------------------------------\u001b[0m",
      "\u001b[1;31mTimeoutError\u001b[0m                              Traceback (most recent call last)",
      "Cell \u001b[1;32mIn[6], line 2\u001b[0m\n\u001b[0;32m      1\u001b[0m event_api_handler \u001b[39m=\u001b[39m LuxendoAPIHandler(serial_number\u001b[39m=\u001b[39m\u001b[39m\"\u001b[39m\u001b[39m0200C125\u001b[39m\u001b[39m\"\u001b[39m)\n\u001b[1;32m----> 2\u001b[0m event_config \u001b[39m=\u001b[39m EventConfig(event_api_handler)\n\u001b[0;32m      3\u001b[0m event_config\n",
      "File \u001b[1;32mc:\\users\\spim\\documents\\github\\microscope-gym\\microscope_gym\\microscope_adapters\\luxendo_trulive3d.py:190\u001b[0m, in \u001b[0;36mExperimentConfig.__init__\u001b[1;34m(self, api_handler)\u001b[0m\n\u001b[0;32m    189\u001b[0m \u001b[39mdef\u001b[39;00m \u001b[39m__init__\u001b[39m(\u001b[39mself\u001b[39m, api_handler: LuxendoAPIHandler) \u001b[39m-\u001b[39m\u001b[39m>\u001b[39m \u001b[39mNone\u001b[39;00m:\n\u001b[1;32m--> 190\u001b[0m     \u001b[39msuper\u001b[39;49m()\u001b[39m.\u001b[39;49m\u001b[39m__init__\u001b[39;49m(api_handler, \u001b[39m\"\u001b[39;49m\u001b[39membedded/\u001b[39;49m\u001b[39m\"\u001b[39;49m \u001b[39m+\u001b[39;49m \u001b[39mself\u001b[39;49m\u001b[39m.\u001b[39;49mdevice, APICommand(\u001b[39mtype\u001b[39;49m\u001b[39m=\u001b[39;49m\u001b[39m\"\u001b[39;49m\u001b[39moperation\u001b[39;49m\u001b[39m\"\u001b[39;49m, data\u001b[39m=\u001b[39;49mAPIData(device\u001b[39m=\u001b[39;49m\u001b[39mself\u001b[39;49m\u001b[39m.\u001b[39;49mdevice)))\n",
      "File \u001b[1;32mc:\\users\\spim\\documents\\github\\microscope-gym\\microscope_gym\\microscope_adapters\\luxendo_trulive3d.py:154\u001b[0m, in \u001b[0;36mBaseConfig.__init__\u001b[1;34m(self, api_handler, main_topic, request_command)\u001b[0m\n\u001b[0;32m    152\u001b[0m \u001b[39mself\u001b[39m\u001b[39m.\u001b[39mrequest_command \u001b[39m=\u001b[39m request_command\n\u001b[0;32m    153\u001b[0m \u001b[39mself\u001b[39m\u001b[39m.\u001b[39mwaiting_for_data \u001b[39m=\u001b[39m \u001b[39mFalse\u001b[39;00m\n\u001b[1;32m--> 154\u001b[0m \u001b[39mself\u001b[39;49m\u001b[39m.\u001b[39;49mrequest_configuration()\n",
      "File \u001b[1;32mc:\\users\\spim\\documents\\github\\microscope-gym\\microscope_gym\\microscope_adapters\\luxendo_trulive3d.py:157\u001b[0m, in \u001b[0;36mBaseConfig.request_configuration\u001b[1;34m(self)\u001b[0m\n\u001b[0;32m    156\u001b[0m \u001b[39mdef\u001b[39;00m \u001b[39mrequest_configuration\u001b[39m(\u001b[39mself\u001b[39m):\n\u001b[1;32m--> 157\u001b[0m     \u001b[39mself\u001b[39;49m\u001b[39m.\u001b[39;49m_send_command(\u001b[39mself\u001b[39;49m\u001b[39m.\u001b[39;49mrequest_command\u001b[39m.\u001b[39;49mdata)\n",
      "File \u001b[1;32mc:\\users\\spim\\documents\\github\\microscope-gym\\microscope_gym\\microscope_adapters\\luxendo_trulive3d.py:181\u001b[0m, in \u001b[0;36mBaseConfig._send_command\u001b[1;34m(self, data, **kwargs)\u001b[0m\n\u001b[0;32m    179\u001b[0m \u001b[39mself\u001b[39m\u001b[39m.\u001b[39mwaiting_for_data \u001b[39m=\u001b[39m \u001b[39mTrue\u001b[39;00m\n\u001b[0;32m    180\u001b[0m \u001b[39mself\u001b[39m\u001b[39m.\u001b[39mapi_handler\u001b[39m.\u001b[39msend_command(command\u001b[39m.\u001b[39mjson(\u001b[39m*\u001b[39m\u001b[39m*\u001b[39mkwargs))\n\u001b[1;32m--> 181\u001b[0m \u001b[39mself\u001b[39;49m\u001b[39m.\u001b[39;49mwait_for_reply()\n",
      "File \u001b[1;32mc:\\users\\spim\\documents\\github\\microscope-gym\\microscope_gym\\microscope_adapters\\luxendo_trulive3d.py:165\u001b[0m, in \u001b[0;36mBaseConfig.wait_for_reply\u001b[1;34m(self)\u001b[0m\n\u001b[0;32m    163\u001b[0m     timeout \u001b[39m-\u001b[39m\u001b[39m=\u001b[39m \u001b[39m0.01\u001b[39m\n\u001b[0;32m    164\u001b[0m \u001b[39mif\u001b[39;00m timeout \u001b[39m<\u001b[39m\u001b[39m=\u001b[39m \u001b[39m0\u001b[39m:\n\u001b[1;32m--> 165\u001b[0m     \u001b[39mraise\u001b[39;00m \u001b[39mTimeoutError\u001b[39;00m(\u001b[39mf\u001b[39m\u001b[39m\"\u001b[39m\u001b[39mTimeout waiting for configuration data for \u001b[39m\u001b[39m{\u001b[39;00m\u001b[39mself\u001b[39m\u001b[39m.\u001b[39m\u001b[39m__class__\u001b[39m\u001b[39m.\u001b[39m\u001b[39m__name__\u001b[39m\u001b[39m}\u001b[39;00m\u001b[39m\"\u001b[39m)\n",
      "\u001b[1;31mTimeoutError\u001b[0m: Timeout waiting for configuration data for EventConfig"
     ]
    }
   ],
   "source": [
    "event_api_handler = LuxendoAPIHandler(serial_number=\"0200C125\")\n",
    "event_config = EventConfig(event_api_handler)\n",
    "event_config"
   ]
  },
  {
   "cell_type": "code",
   "execution_count": null,
   "metadata": {},
   "outputs": [],
   "source": []
  }
 ],
 "metadata": {
  "kernelspec": {
   "display_name": "mic-gym-env",
   "language": "python",
   "name": "python3"
  },
  "language_info": {
   "codemirror_mode": {
    "name": "ipython",
    "version": 3
   },
   "file_extension": ".py",
   "mimetype": "text/x-python",
   "name": "python",
   "nbconvert_exporter": "python",
   "pygments_lexer": "ipython3",
   "version": "3.9.16"
  },
  "orig_nbformat": 4
 },
 "nbformat": 4,
 "nbformat_minor": 2
}
