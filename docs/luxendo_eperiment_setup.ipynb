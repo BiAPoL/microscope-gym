{
 "cells": [
  {
   "cell_type": "code",
   "execution_count": 1,
   "metadata": {},
   "outputs": [],
   "source": [
    "from microscope_gym.microscope_adapters.luxendo_trulive3d import LuxendoAPIHandler, ChannelConfig"
   ]
  },
  {
   "cell_type": "code",
   "execution_count": 2,
   "metadata": {},
   "outputs": [
    {
     "name": "stdout",
     "output_type": "stream",
     "text": [
      "Connected\n"
     ]
    }
   ],
   "source": [
    "channel_api_handler = LuxendoAPIHandler(serial_number=\"0200C125\")\n",
    "channel_config = ChannelConfig(channel_api_handler)"
   ]
  },
  {
   "cell_type": "code",
   "execution_count": 3,
   "metadata": {},
   "outputs": [
    {
     "name": "stdout",
     "output_type": "stream",
     "text": [
      "[Channel(name='channel_0', description='', devices=[ChannelDevice(name='long', type='cameras', text=' T: 0 L: 0 H: 2304 W: 2304 Area'), ChannelDevice(name='short', type='cameras', text=' T: 512 L: 0 H: 512 W: 2304 Area'), ChannelDevice(name='lasers', type='fpga', text=''), ChannelDevice(name='scan_front', type='fpga', text='Park; Offset=0.00'), ChannelDevice(name='scan_back', type='fpga', text='Park; Offset=0.00'), ChannelDevice(name='mems', type='fpga', text='Park; Offset=0.00'), ChannelDevice(name='timings', type='fpga', text='Exposure=  60ms, Delay=  12ms '), ChannelDevice(name='external_triggers', type='fpga', text=''), ChannelDevice(name='fw_short', type='filterwheels', text='BP 432/515/595/730'), ChannelDevice(name='fw_long', type='filterwheels', text='BP 547-626'), ChannelDevice(name='TAG lens', type='taglens', text='Off'), ChannelDevice(name='mc_long_short_bottom', type='magchangers', text='200'), ChannelDevice(name='dichroic', type='dichroicswitch', text='LP 560'), ChannelDevice(name='dichroic_abl', type='dichroicswitch', text='empty1'), ChannelDevice(name='beamexp', type='beamexpander', text='1.8 &micro;m'), ChannelDevice(name='beamint', type='beamexpander', text='90%')]), Channel(name='channel_1', description='', devices=[ChannelDevice(name='long', type='cameras', text=' T: 0 L: 0 H: 2304 W: 2304 Area'), ChannelDevice(name='short', type='cameras', text=' T: 512 L: 0 H: 512 W: 2304 Area'), ChannelDevice(name='lasers', type='fpga', text=''), ChannelDevice(name='scan_front', type='fpga', text='Park; Offset=0.00'), ChannelDevice(name='scan_back', type='fpga', text='Park; Offset=0.00'), ChannelDevice(name='mems', type='fpga', text='Park; Offset=0.00'), ChannelDevice(name='timings', type='fpga', text='Exposure=  60ms, Delay=  12ms '), ChannelDevice(name='external_triggers', type='fpga', text=''), ChannelDevice(name='fw_short', type='filterwheels', text='BP 432/515/595/730'), ChannelDevice(name='fw_long', type='filterwheels', text='BP 547-626'), ChannelDevice(name='TAG lens', type='taglens', text='Off'), ChannelDevice(name='mc_long_short_bottom', type='magchangers', text='200'), ChannelDevice(name='dichroic', type='dichroicswitch', text='LP 560'), ChannelDevice(name='dichroic_abl', type='dichroicswitch', text='empty1'), ChannelDevice(name='beamexp', type='beamexpander', text='1.8 &micro;m'), ChannelDevice(name='beamint', type='beamexpander', text='90%')])]\n"
     ]
    }
   ],
   "source": [
    "print(channel_config.data)"
   ]
  },
  {
   "cell_type": "code",
   "execution_count": 4,
   "metadata": {},
   "outputs": [
    {
     "name": "stdout",
     "output_type": "stream",
     "text": [
      "[Channel(name='channel_1', description='', devices=[ChannelDevice(name='long', type='cameras', text=' T: 0 L: 0 H: 2304 W: 2304 Area'), ChannelDevice(name='short', type='cameras', text=' T: 512 L: 0 H: 512 W: 2304 Area'), ChannelDevice(name='lasers', type='fpga', text=''), ChannelDevice(name='scan_front', type='fpga', text='Park; Offset=0.00'), ChannelDevice(name='scan_back', type='fpga', text='Park; Offset=0.00'), ChannelDevice(name='mems', type='fpga', text='Park; Offset=0.00'), ChannelDevice(name='timings', type='fpga', text='Exposure=  60ms, Delay=  12ms '), ChannelDevice(name='external_triggers', type='fpga', text=''), ChannelDevice(name='fw_short', type='filterwheels', text='BP 432/515/595/730'), ChannelDevice(name='fw_long', type='filterwheels', text='BP 547-626'), ChannelDevice(name='TAG lens', type='taglens', text='Off'), ChannelDevice(name='mc_long_short_bottom', type='magchangers', text='200'), ChannelDevice(name='dichroic', type='dichroicswitch', text='LP 560'), ChannelDevice(name='dichroic_abl', type='dichroicswitch', text='empty1'), ChannelDevice(name='beamexp', type='beamexpander', text='1.8 &micro;m'), ChannelDevice(name='beamint', type='beamexpander', text='90%')])]\n"
     ]
    }
   ],
   "source": [
    "# test adding channel\n",
    "channel_config.add_channel()\n",
    "print(channel_config.data)\n"
   ]
  },
  {
   "cell_type": "code",
   "execution_count": 5,
   "metadata": {},
   "outputs": [
    {
     "name": "stdout",
     "output_type": "stream",
     "text": [
      "[Channel(name='channel_0', description='', devices=[ChannelDevice(name='long', type='cameras', text=' T: 0 L: 0 H: 2304 W: 2304 Area'), ChannelDevice(name='short', type='cameras', text=' T: 512 L: 0 H: 512 W: 2304 Area'), ChannelDevice(name='lasers', type='fpga', text=''), ChannelDevice(name='scan_front', type='fpga', text='Park; Offset=0.00'), ChannelDevice(name='scan_back', type='fpga', text='Park; Offset=0.00'), ChannelDevice(name='mems', type='fpga', text='Park; Offset=0.00'), ChannelDevice(name='timings', type='fpga', text='Exposure=  60ms, Delay=  12ms '), ChannelDevice(name='external_triggers', type='fpga', text=''), ChannelDevice(name='fw_short', type='filterwheels', text='BP 432/515/595/730'), ChannelDevice(name='fw_long', type='filterwheels', text='BP 547-626'), ChannelDevice(name='TAG lens', type='taglens', text='Off'), ChannelDevice(name='mc_long_short_bottom', type='magchangers', text='200'), ChannelDevice(name='dichroic', type='dichroicswitch', text='LP 560'), ChannelDevice(name='dichroic_abl', type='dichroicswitch', text='empty1'), ChannelDevice(name='beamexp', type='beamexpander', text='1.8 &micro;m'), ChannelDevice(name='beamint', type='beamexpander', text='90%')]), Channel(name='channel_1', description='', devices=[ChannelDevice(name='long', type='cameras', text=' T: 0 L: 0 H: 2304 W: 2304 Area'), ChannelDevice(name='short', type='cameras', text=' T: 512 L: 0 H: 512 W: 2304 Area'), ChannelDevice(name='lasers', type='fpga', text=''), ChannelDevice(name='scan_front', type='fpga', text='Park; Offset=0.00'), ChannelDevice(name='scan_back', type='fpga', text='Park; Offset=0.00'), ChannelDevice(name='mems', type='fpga', text='Park; Offset=0.00'), ChannelDevice(name='timings', type='fpga', text='Exposure=  60ms, Delay=  12ms '), ChannelDevice(name='external_triggers', type='fpga', text=''), ChannelDevice(name='fw_short', type='filterwheels', text='BP 432/515/595/730'), ChannelDevice(name='fw_long', type='filterwheels', text='BP 547-626'), ChannelDevice(name='TAG lens', type='taglens', text='Off'), ChannelDevice(name='mc_long_short_bottom', type='magchangers', text='200'), ChannelDevice(name='dichroic', type='dichroicswitch', text='LP 560'), ChannelDevice(name='dichroic_abl', type='dichroicswitch', text='empty1'), ChannelDevice(name='beamexp', type='beamexpander', text='1.8 &micro;m'), ChannelDevice(name='beamint', type='beamexpander', text='90%')])]\n"
     ]
    }
   ],
   "source": [
    "channel_config.remove_channel(channel_name=channel_config.data[-1].name)\n",
    "print(channel_config.data)\n"
   ]
  },
  {
   "cell_type": "code",
   "execution_count": null,
   "metadata": {},
   "outputs": [],
   "source": []
  }
 ],
 "metadata": {
  "kernelspec": {
   "display_name": "mic-gym-env",
   "language": "python",
   "name": "python3"
  },
  "language_info": {
   "codemirror_mode": {
    "name": "ipython",
    "version": 3
   },
   "file_extension": ".py",
   "mimetype": "text/x-python",
   "name": "python",
   "nbconvert_exporter": "python",
   "pygments_lexer": "ipython3",
   "version": "3.9.16"
  },
  "orig_nbformat": 4
 },
 "nbformat": 4,
 "nbformat_minor": 2
}
