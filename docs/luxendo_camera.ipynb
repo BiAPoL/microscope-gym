{
 "cells": [
  {
   "cell_type": "code",
   "execution_count": 1,
   "metadata": {},
   "outputs": [],
   "source": [
    "import pyclesperanto_prototype as cle\n",
    "from microscope_gym.microscope_adapters.luxendo_trulive3d import Camera, Stage, VendorAPIHandler"
   ]
  },
  {
   "cell_type": "code",
   "execution_count": 2,
   "metadata": {},
   "outputs": [],
   "source": [
    "stage_API_handler = VendorAPIHandler(serial_number=\"0200C125\")"
   ]
  },
  {
   "cell_type": "code",
   "execution_count": 3,
   "metadata": {},
   "outputs": [
    {
     "name": "stdout",
     "output_type": "stream",
     "text": [
      "Connected\n",
      "Received message: 0200C125/embedded/stages b'{\"data\":{\"command\":\"set\",\"axes\":[{\"name\":\"x\",\"value\":0,\"min\":-33000,\"max\":33000,\"target\":0,\"guiName\":\"x\",\"partOf\":\"live\",\"type\":\"linear\"},{\"name\":\"y\",\"value\":0,\"min\":-1800,\"max\":1800,\"target\":0,\"guiName\":\"y\",\"partOf\":\"live\",\"type\":\"linear\"},{\"name\":\"z\",\"value\":0,\"min\":-3450,\"max\":450,\"target\":0,\"guiName\":\"z\",\"partOf\":\"live\",\"type\":\"linear\"},{\"name\":\"cr\",\"value\":0,\"min\":-2000,\"max\":5500,\"target\":0,\"guiName\":\"cr\",\"partOf\":\"live\",\"type\":\"linear\"}],\"device\":\"stages\",\"stageSets\":[{\"name\":\"live sample imaging\",\"id\":\"live\",\"active\":true}]},\"type\":\"device\",\"opmode\":\"set\"}'\n"
     ]
    }
   ],
   "source": [
    "stage = Stage(stage_API_handler)"
   ]
  },
  {
   "cell_type": "code",
   "execution_count": 4,
   "metadata": {},
   "outputs": [],
   "source": [
    "camera_API_handler = VendorAPIHandler(serial_number=\"0200C125\")"
   ]
  },
  {
   "cell_type": "code",
   "execution_count": 5,
   "metadata": {},
   "outputs": [
    {
     "name": "stdout",
     "output_type": "stream",
     "text": [
      "Connected\n"
     ]
    },
    {
     "ename": "APIException",
     "evalue": "Timeout (10.0 s) while waiting for reply to command: topic: 0200C125/gui, payload: {\"type\": \"device\", \"data\": {\"device\": \"cameras\", \"command\": \"get\"}}",
     "output_type": "error",
     "traceback": [
      "\u001b[1;31m---------------------------------------------------------------------------\u001b[0m",
      "\u001b[1;31mAPIException\u001b[0m                              Traceback (most recent call last)",
      "Cell \u001b[1;32mIn[5], line 1\u001b[0m\n\u001b[1;32m----> 1\u001b[0m camera \u001b[39m=\u001b[39m Camera(camera_API_handler, stage)\n",
      "File \u001b[1;32mc:\\users\\spim\\documents\\github\\microscope-gym\\microscope_gym\\microscope_adapters\\luxendo_trulive3d.py:239\u001b[0m, in \u001b[0;36mCamera.__init__\u001b[1;34m(self, api_handler, stage, new_image_timeout_ms)\u001b[0m\n\u001b[0;32m    237\u001b[0m \u001b[39mself\u001b[39m\u001b[39m.\u001b[39mdefault_command \u001b[39m=\u001b[39m {\u001b[39m\"\u001b[39m\u001b[39mtype\u001b[39m\u001b[39m\"\u001b[39m: \u001b[39m\"\u001b[39m\u001b[39mdevice\u001b[39m\u001b[39m\"\u001b[39m, \u001b[39m\"\u001b[39m\u001b[39mdata\u001b[39m\u001b[39m\"\u001b[39m: {\u001b[39m\"\u001b[39m\u001b[39mdevice\u001b[39m\u001b[39m\"\u001b[39m: \u001b[39m\"\u001b[39m\u001b[39mcameras\u001b[39m\u001b[39m\"\u001b[39m, \u001b[39m\"\u001b[39m\u001b[39mcommand\u001b[39m\u001b[39m\"\u001b[39m: \u001b[39m\"\u001b[39m\u001b[39mget\u001b[39m\u001b[39m\"\u001b[39m}}\n\u001b[0;32m    238\u001b[0m \u001b[39mself\u001b[39m\u001b[39m.\u001b[39mapi_handler\u001b[39m.\u001b[39mmessage_callbacks\u001b[39m.\u001b[39mappend(\u001b[39mself\u001b[39m\u001b[39m.\u001b[39m_on_new_image)\n\u001b[1;32m--> 239\u001b[0m \u001b[39mself\u001b[39;49m\u001b[39m.\u001b[39;49mconfigure_camera()\n",
      "File \u001b[1;32mc:\\users\\spim\\documents\\github\\microscope-gym\\microscope_gym\\microscope_adapters\\luxendo_trulive3d.py:255\u001b[0m, in \u001b[0;36mCamera.configure_camera\u001b[1;34m(self)\u001b[0m\n\u001b[0;32m    254\u001b[0m \u001b[39mdef\u001b[39;00m \u001b[39mconfigure_camera\u001b[39m(\u001b[39mself\u001b[39m):\n\u001b[1;32m--> 255\u001b[0m     message \u001b[39m=\u001b[39m \u001b[39mself\u001b[39;49m\u001b[39m.\u001b[39;49mapi_handler\u001b[39m.\u001b[39;49msend_command_and_wait_for_reply(json\u001b[39m.\u001b[39;49mdumps(\u001b[39mself\u001b[39;49m\u001b[39m.\u001b[39;49mdefault_command))\n\u001b[0;32m    256\u001b[0m     \u001b[39m# TODO: parse camera data to check which one is the correct camera\u001b[39;00m\n\u001b[0;32m    257\u001b[0m     \u001b[39mself\u001b[39m\u001b[39m.\u001b[39msettings \u001b[39m=\u001b[39m CameraSettings(\u001b[39m*\u001b[39m\u001b[39m*\u001b[39mmessage[\u001b[39m'\u001b[39m\u001b[39mdata\u001b[39m\u001b[39m'\u001b[39m][\u001b[39m'\u001b[39m\u001b[39mcameras\u001b[39m\u001b[39m'\u001b[39m][\u001b[39m0\u001b[39m])\n",
      "File \u001b[1;32mc:\\users\\spim\\documents\\github\\microscope-gym\\microscope_gym\\microscope_adapters\\luxendo_trulive3d.py:106\u001b[0m, in \u001b[0;36mVendorAPIHandler.send_command_and_wait_for_reply\u001b[1;34m(self, command, poll_interval_ms)\u001b[0m\n\u001b[0;32m    104\u001b[0m \u001b[39mdef\u001b[39;00m \u001b[39msend_command_and_wait_for_reply\u001b[39m(\u001b[39mself\u001b[39m, command, poll_interval_ms\u001b[39m=\u001b[39m\u001b[39m10\u001b[39m):\n\u001b[0;32m    105\u001b[0m     \u001b[39mself\u001b[39m\u001b[39m.\u001b[39msend_command(command)\n\u001b[1;32m--> 106\u001b[0m     \u001b[39mreturn\u001b[39;00m \u001b[39mself\u001b[39;49m\u001b[39m.\u001b[39;49mwait_for_reply(poll_interval_ms)\n",
      "File \u001b[1;32mc:\\users\\spim\\documents\\github\\microscope-gym\\microscope_gym\\microscope_adapters\\luxendo_trulive3d.py:120\u001b[0m, in \u001b[0;36mVendorAPIHandler.wait_for_reply\u001b[1;34m(self, poll_interval_ms)\u001b[0m\n\u001b[0;32m    118\u001b[0m     \u001b[39mif\u001b[39;00m \u001b[39mnot\u001b[39;00m \u001b[39mself\u001b[39m\u001b[39m.\u001b[39mwaiting_for_reply:\n\u001b[0;32m    119\u001b[0m         \u001b[39mreturn\u001b[39;00m \u001b[39mself\u001b[39m\u001b[39m.\u001b[39mreply_json\n\u001b[1;32m--> 120\u001b[0m \u001b[39mraise\u001b[39;00m APIException(\n\u001b[0;32m    121\u001b[0m     \u001b[39mf\u001b[39m\u001b[39m\"\u001b[39m\u001b[39mTimeout (\u001b[39m\u001b[39m{\u001b[39;00m\u001b[39mself\u001b[39m\u001b[39m.\u001b[39mreply_timeout_ms\u001b[39m \u001b[39m\u001b[39m/\u001b[39m\u001b[39m \u001b[39m\u001b[39m1000.0\u001b[39m\u001b[39m}\u001b[39;00m\u001b[39m s) while waiting for reply to command: \u001b[39m\u001b[39m{\u001b[39;00m\u001b[39mself\u001b[39m\u001b[39m.\u001b[39mlast_published\u001b[39m}\u001b[39;00m\u001b[39m\"\u001b[39m)\n",
      "\u001b[1;31mAPIException\u001b[0m: Timeout (10.0 s) while waiting for reply to command: topic: 0200C125/gui, payload: {\"type\": \"device\", \"data\": {\"device\": \"cameras\", \"command\": \"get\"}}"
     ]
    },
    {
     "name": "stderr",
     "output_type": "stream",
     "text": [
      "Exception in thread Thread-4:\n",
      "Traceback (most recent call last):\n",
      "  File \"c:\\Users\\SPIM\\mambaforge\\envs\\mic-gym-env\\lib\\threading.py\", line 980, in _bootstrap_inner\n",
      "    self.run()\n",
      "  File \"c:\\Users\\SPIM\\mambaforge\\envs\\mic-gym-env\\lib\\threading.py\", line 917, in run\n",
      "    self._target(*self._args, **self._kwargs)\n",
      "  File \"c:\\Users\\SPIM\\mambaforge\\envs\\mic-gym-env\\lib\\site-packages\\paho\\mqtt\\client.py\", line 3591, in _thread_main\n",
      "    self.loop_forever(retry_first_connection=True)\n",
      "  File \"c:\\Users\\SPIM\\mambaforge\\envs\\mic-gym-env\\lib\\site-packages\\paho\\mqtt\\client.py\", line 1756, in loop_forever\n",
      "    rc = self._loop(timeout)\n",
      "  File \"c:\\Users\\SPIM\\mambaforge\\envs\\mic-gym-env\\lib\\site-packages\\paho\\mqtt\\client.py\", line 1164, in _loop\n",
      "    rc = self.loop_read()\n",
      "  File \"c:\\Users\\SPIM\\mambaforge\\envs\\mic-gym-env\\lib\\site-packages\\paho\\mqtt\\client.py\", line 1556, in loop_read\n",
      "    rc = self._packet_read()\n",
      "  File \"c:\\Users\\SPIM\\mambaforge\\envs\\mic-gym-env\\lib\\site-packages\\paho\\mqtt\\client.py\", line 2439, in _packet_read\n",
      "    rc = self._packet_handle()\n",
      "  File \"c:\\Users\\SPIM\\mambaforge\\envs\\mic-gym-env\\lib\\site-packages\\paho\\mqtt\\client.py\", line 3033, in _packet_handle\n",
      "    return self._handle_publish()\n",
      "  File \"c:\\Users\\SPIM\\mambaforge\\envs\\mic-gym-env\\lib\\site-packages\\paho\\mqtt\\client.py\", line 3327, in _handle_publish\n",
      "    self._handle_on_message(message)\n",
      "  File \"c:\\Users\\SPIM\\mambaforge\\envs\\mic-gym-env\\lib\\site-packages\\paho\\mqtt\\client.py\", line 3570, in _handle_on_message\n",
      "    on_message(self, self._userdata, message)\n",
      "  File \"c:\\users\\spim\\documents\\github\\microscope-gym\\microscope_gym\\microscope_adapters\\luxendo_trulive3d.py\", line 49, in on_message\n",
      "    callback(self.reply_json)\n",
      "  File \"c:\\users\\spim\\documents\\github\\microscope-gym\\microscope_gym\\microscope_adapters\\luxendo_trulive3d.py\", line 269, in _on_new_image\n",
      "    if new_file_path != self.file_path:\n",
      "UnboundLocalError: local variable 'new_file_path' referenced before assignment\n"
     ]
    },
    {
     "name": "stdout",
     "output_type": "stream",
     "text": [
      "Received message: 0200C125/datahub/cameras b'{\"data\":{\"command\":\"set\",\"device\":\"cameras\",\"fpstring\":\"Cameras\\\\\\\\short:: T: 0 L: 0 H: 2304 W: 2304 Off\",\"name\":\"short\",\"settings\":\"{\\\\\"device\\\\\":{\\\\\"trigger_mode\\\\\":\\\\\"Level\\\\\",\\\\\"shutter\\\\\":\\\\\"Global\\\\\",\\\\\"roi\\\\\":{\\\\\"top\\\\\":0,\\\\\"left\\\\\":0,\\\\\"height\\\\\":2304,\\\\\"width\\\\\":2304}},\\\\\"on_off_state\\\\\":\\\\\"Off\\\\\",\\\\\"slit_size\\\\\":20}\",\"sn\":\"500974\"},\"type\":\"device\"}'\n"
     ]
    }
   ],
   "source": [
    "camera = Camera(camera_API_handler, stage)"
   ]
  },
  {
   "cell_type": "code",
   "execution_count": null,
   "metadata": {},
   "outputs": [],
   "source": []
  }
 ],
 "metadata": {
  "kernelspec": {
   "display_name": "mic-gym-env",
   "language": "python",
   "name": "python3"
  },
  "language_info": {
   "codemirror_mode": {
    "name": "ipython",
    "version": 3
   },
   "file_extension": ".py",
   "mimetype": "text/x-python",
   "name": "python",
   "nbconvert_exporter": "python",
   "pygments_lexer": "ipython3",
   "version": "3.9.16"
  },
  "orig_nbformat": 4
 },
 "nbformat": 4,
 "nbformat_minor": 2
}
